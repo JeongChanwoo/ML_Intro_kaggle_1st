{
 "cells": [
  {
   "cell_type": "code",
   "execution_count": 28,
   "metadata": {
    "collapsed": true
   },
   "outputs": [],
   "source": [
    "import pandas as pd\n",
    "import numpy as np\n",
    "import matplotlib.pyplot as plt\n",
    "from googletrans import Translator\n",
    "import googletrans\n",
    "%matplotlib inline"
   ]
  },
  {
   "cell_type": "code",
   "execution_count": 29,
   "metadata": {
    "collapsed": true
   },
   "outputs": [],
   "source": [
    "df_train = pd.read_csv('./data/sales_train.csv.gz',)\n",
    "df_test = pd.read_csv('./data/test.csv.gz')\n",
    "df_items = pd.read_csv('./data/items.csv')\n",
    "df_item_categories = pd.read_pickle('./data/df_item_categories_pp.picke')\n",
    "df_shop = pd.read_pickle('./data/df_shop_pp.picke')\n",
    "df_sample_submission = pd.read_csv('./data/sample_submission.csv.gz')"
   ]
  },
  {
   "cell_type": "markdown",
   "metadata": {},
   "source": [
    "# Train-Test 데이터 PP\n",
    "### Sequece\n",
    "  1. Train 데이터의 가격정보 평균값 Test에 Merge 보류 - test PP(11월 정보 반영, 아이템 평균 가격 반영)\n",
    "  2. Train Test에 df_shop 정보 Merge\n",
    "  3. Label Encoding  Test 데이터의 아이템 아이디 중 트레인에 없는 값이 존재함 라벨인코딩 원핫 인코딩 불가 - > 아이템 ID 대신 카테고리로 변경\n",
    "  4. One-hot Encoding\n",
    "  5. MinMax scaling\n",
    "  6. LinearRegression"
   ]
  },
  {
   "cell_type": "markdown",
   "metadata": {},
   "source": [
    "## 1. Train 데이터의 가격정보 평균값 Test에 Merge(보류)"
   ]
  },
  {
   "cell_type": "code",
   "execution_count": 30,
   "metadata": {},
   "outputs": [
    {
     "data": {
      "text/html": [
       "<div>\n",
       "<style>\n",
       "    .dataframe thead tr:only-child th {\n",
       "        text-align: right;\n",
       "    }\n",
       "\n",
       "    .dataframe thead th {\n",
       "        text-align: left;\n",
       "    }\n",
       "\n",
       "    .dataframe tbody tr th {\n",
       "        vertical-align: top;\n",
       "    }\n",
       "</style>\n",
       "<table border=\"1\" class=\"dataframe\">\n",
       "  <thead>\n",
       "    <tr style=\"text-align: right;\">\n",
       "      <th></th>\n",
       "      <th>shop_id</th>\n",
       "      <th>item_id</th>\n",
       "      <th>item_cnt_day</th>\n",
       "    </tr>\n",
       "  </thead>\n",
       "  <tbody>\n",
       "    <tr>\n",
       "      <th>0</th>\n",
       "      <td>0</td>\n",
       "      <td>30</td>\n",
       "      <td>31.00</td>\n",
       "    </tr>\n",
       "    <tr>\n",
       "      <th>1</th>\n",
       "      <td>0</td>\n",
       "      <td>31</td>\n",
       "      <td>11.00</td>\n",
       "    </tr>\n",
       "    <tr>\n",
       "      <th>2</th>\n",
       "      <td>0</td>\n",
       "      <td>32</td>\n",
       "      <td>16.00</td>\n",
       "    </tr>\n",
       "    <tr>\n",
       "      <th>3</th>\n",
       "      <td>0</td>\n",
       "      <td>33</td>\n",
       "      <td>6.00</td>\n",
       "    </tr>\n",
       "    <tr>\n",
       "      <th>4</th>\n",
       "      <td>0</td>\n",
       "      <td>35</td>\n",
       "      <td>15.00</td>\n",
       "    </tr>\n",
       "  </tbody>\n",
       "</table>\n",
       "</div>"
      ],
      "text/plain": [
       "   shop_id  item_id  item_cnt_day\n",
       "0        0       30         31.00\n",
       "1        0       31         11.00\n",
       "2        0       32         16.00\n",
       "3        0       33          6.00\n",
       "4        0       35         15.00"
      ]
     },
     "execution_count": 30,
     "metadata": {},
     "output_type": "execute_result"
    }
   ],
   "source": [
    "df_item_cnt_mean = df_train.groupby(['shop_id','item_id']).agg({'item_cnt_day': sum})\n",
    "df_item_cnt_mean.reset_index(inplace=True)\n",
    "df_item_cnt_mean.head()"
   ]
  },
  {
   "cell_type": "code",
   "execution_count": 31,
   "metadata": {},
   "outputs": [
    {
     "data": {
      "text/html": [
       "<div>\n",
       "<style>\n",
       "    .dataframe thead tr:only-child th {\n",
       "        text-align: right;\n",
       "    }\n",
       "\n",
       "    .dataframe thead th {\n",
       "        text-align: left;\n",
       "    }\n",
       "\n",
       "    .dataframe tbody tr th {\n",
       "        vertical-align: top;\n",
       "    }\n",
       "</style>\n",
       "<table border=\"1\" class=\"dataframe\">\n",
       "  <thead>\n",
       "    <tr style=\"text-align: right;\">\n",
       "      <th></th>\n",
       "      <th>shop_id</th>\n",
       "      <th>item_id</th>\n",
       "      <th>date_block_num</th>\n",
       "      <th>item_cnt_day</th>\n",
       "    </tr>\n",
       "  </thead>\n",
       "  <tbody>\n",
       "    <tr>\n",
       "      <th>0</th>\n",
       "      <td>0</td>\n",
       "      <td>30</td>\n",
       "      <td>1</td>\n",
       "      <td>31.00</td>\n",
       "    </tr>\n",
       "    <tr>\n",
       "      <th>1</th>\n",
       "      <td>0</td>\n",
       "      <td>31</td>\n",
       "      <td>1</td>\n",
       "      <td>11.00</td>\n",
       "    </tr>\n",
       "    <tr>\n",
       "      <th>2</th>\n",
       "      <td>0</td>\n",
       "      <td>32</td>\n",
       "      <td>0</td>\n",
       "      <td>6.00</td>\n",
       "    </tr>\n",
       "    <tr>\n",
       "      <th>3</th>\n",
       "      <td>0</td>\n",
       "      <td>32</td>\n",
       "      <td>1</td>\n",
       "      <td>10.00</td>\n",
       "    </tr>\n",
       "    <tr>\n",
       "      <th>4</th>\n",
       "      <td>0</td>\n",
       "      <td>33</td>\n",
       "      <td>0</td>\n",
       "      <td>3.00</td>\n",
       "    </tr>\n",
       "  </tbody>\n",
       "</table>\n",
       "</div>"
      ],
      "text/plain": [
       "   shop_id  item_id  date_block_num  item_cnt_day\n",
       "0        0       30               1         31.00\n",
       "1        0       31               1         11.00\n",
       "2        0       32               0          6.00\n",
       "3        0       32               1         10.00\n",
       "4        0       33               0          3.00"
      ]
     },
     "execution_count": 31,
     "metadata": {},
     "output_type": "execute_result"
    }
   ],
   "source": [
    "df_item_cnt_month = df_train.groupby(['shop_id','item_id','date_block_num']).agg({'item_cnt_day': sum})\n",
    "df_item_cnt_month.reset_index(inplace=True)\n",
    "df_item_cnt_month.head()"
   ]
  },
  {
   "cell_type": "code",
   "execution_count": 32,
   "metadata": {},
   "outputs": [
    {
     "data": {
      "text/html": [
       "<div>\n",
       "<style>\n",
       "    .dataframe thead tr:only-child th {\n",
       "        text-align: right;\n",
       "    }\n",
       "\n",
       "    .dataframe thead th {\n",
       "        text-align: left;\n",
       "    }\n",
       "\n",
       "    .dataframe tbody tr th {\n",
       "        vertical-align: top;\n",
       "    }\n",
       "</style>\n",
       "<table border=\"1\" class=\"dataframe\">\n",
       "  <thead>\n",
       "    <tr style=\"text-align: right;\">\n",
       "      <th></th>\n",
       "      <th>shop_id</th>\n",
       "      <th>item_id</th>\n",
       "      <th>date_block_num</th>\n",
       "      <th>item_cnt_month</th>\n",
       "    </tr>\n",
       "  </thead>\n",
       "  <tbody>\n",
       "    <tr>\n",
       "      <th>0</th>\n",
       "      <td>0</td>\n",
       "      <td>30</td>\n",
       "      <td>1</td>\n",
       "      <td>31.00</td>\n",
       "    </tr>\n",
       "    <tr>\n",
       "      <th>1</th>\n",
       "      <td>0</td>\n",
       "      <td>31</td>\n",
       "      <td>1</td>\n",
       "      <td>11.00</td>\n",
       "    </tr>\n",
       "    <tr>\n",
       "      <th>2</th>\n",
       "      <td>0</td>\n",
       "      <td>32</td>\n",
       "      <td>0</td>\n",
       "      <td>6.00</td>\n",
       "    </tr>\n",
       "    <tr>\n",
       "      <th>3</th>\n",
       "      <td>0</td>\n",
       "      <td>32</td>\n",
       "      <td>1</td>\n",
       "      <td>10.00</td>\n",
       "    </tr>\n",
       "    <tr>\n",
       "      <th>4</th>\n",
       "      <td>0</td>\n",
       "      <td>33</td>\n",
       "      <td>0</td>\n",
       "      <td>3.00</td>\n",
       "    </tr>\n",
       "  </tbody>\n",
       "</table>\n",
       "</div>"
      ],
      "text/plain": [
       "   shop_id  item_id  date_block_num  item_cnt_month\n",
       "0        0       30               1           31.00\n",
       "1        0       31               1           11.00\n",
       "2        0       32               0            6.00\n",
       "3        0       32               1           10.00\n",
       "4        0       33               0            3.00"
      ]
     },
     "execution_count": 32,
     "metadata": {},
     "output_type": "execute_result"
    }
   ],
   "source": [
    "df_item_cnt_month.rename(columns={'item_cnt_day' : 'item_cnt_month'},inplace=True)\n",
    "df_item_cnt_month.head()"
   ]
  },
  {
   "cell_type": "code",
   "execution_count": 33,
   "metadata": {},
   "outputs": [
    {
     "data": {
      "text/html": [
       "<div>\n",
       "<style>\n",
       "    .dataframe thead tr:only-child th {\n",
       "        text-align: right;\n",
       "    }\n",
       "\n",
       "    .dataframe thead th {\n",
       "        text-align: left;\n",
       "    }\n",
       "\n",
       "    .dataframe tbody tr th {\n",
       "        vertical-align: top;\n",
       "    }\n",
       "</style>\n",
       "<table border=\"1\" class=\"dataframe\">\n",
       "  <thead>\n",
       "    <tr style=\"text-align: right;\">\n",
       "      <th></th>\n",
       "      <th>shop_id</th>\n",
       "      <th>item_id</th>\n",
       "      <th>item_cnt_day_mean</th>\n",
       "    </tr>\n",
       "  </thead>\n",
       "  <tbody>\n",
       "    <tr>\n",
       "      <th>0</th>\n",
       "      <td>0</td>\n",
       "      <td>30</td>\n",
       "      <td>31.00</td>\n",
       "    </tr>\n",
       "    <tr>\n",
       "      <th>1</th>\n",
       "      <td>0</td>\n",
       "      <td>31</td>\n",
       "      <td>11.00</td>\n",
       "    </tr>\n",
       "    <tr>\n",
       "      <th>2</th>\n",
       "      <td>0</td>\n",
       "      <td>32</td>\n",
       "      <td>16.00</td>\n",
       "    </tr>\n",
       "    <tr>\n",
       "      <th>3</th>\n",
       "      <td>0</td>\n",
       "      <td>33</td>\n",
       "      <td>6.00</td>\n",
       "    </tr>\n",
       "    <tr>\n",
       "      <th>4</th>\n",
       "      <td>0</td>\n",
       "      <td>35</td>\n",
       "      <td>15.00</td>\n",
       "    </tr>\n",
       "  </tbody>\n",
       "</table>\n",
       "</div>"
      ],
      "text/plain": [
       "   shop_id  item_id  item_cnt_day_mean\n",
       "0        0       30              31.00\n",
       "1        0       31              11.00\n",
       "2        0       32              16.00\n",
       "3        0       33               6.00\n",
       "4        0       35              15.00"
      ]
     },
     "execution_count": 33,
     "metadata": {},
     "output_type": "execute_result"
    }
   ],
   "source": [
    "df_item_cnt_mean.rename(columns={'item_cnt_day' : 'item_cnt_day_mean'},inplace=True)\n",
    "df_item_cnt_mean.head()"
   ]
  },
  {
   "cell_type": "code",
   "execution_count": 34,
   "metadata": {
    "collapsed": true
   },
   "outputs": [],
   "source": [
    "# df_test_pp = pd.merge(df_test,df_item_cnt_month ,left_on = ['shop_id','item_id'], how='left')"
   ]
  },
  {
   "cell_type": "code",
   "execution_count": 35,
   "metadata": {
    "scrolled": true
   },
   "outputs": [
    {
     "data": {
      "text/html": [
       "<div>\n",
       "<style>\n",
       "    .dataframe thead tr:only-child th {\n",
       "        text-align: right;\n",
       "    }\n",
       "\n",
       "    .dataframe thead th {\n",
       "        text-align: left;\n",
       "    }\n",
       "\n",
       "    .dataframe tbody tr th {\n",
       "        vertical-align: top;\n",
       "    }\n",
       "</style>\n",
       "<table border=\"1\" class=\"dataframe\">\n",
       "  <thead>\n",
       "    <tr style=\"text-align: right;\">\n",
       "      <th></th>\n",
       "      <th>shop_id</th>\n",
       "      <th>item_id</th>\n",
       "      <th>date_block_num</th>\n",
       "      <th>item_cnt_day</th>\n",
       "      <th>item_price</th>\n",
       "    </tr>\n",
       "  </thead>\n",
       "  <tbody>\n",
       "    <tr>\n",
       "      <th>0</th>\n",
       "      <td>0</td>\n",
       "      <td>30</td>\n",
       "      <td>1</td>\n",
       "      <td>31.00</td>\n",
       "      <td>265.00</td>\n",
       "    </tr>\n",
       "    <tr>\n",
       "      <th>1</th>\n",
       "      <td>0</td>\n",
       "      <td>31</td>\n",
       "      <td>1</td>\n",
       "      <td>11.00</td>\n",
       "      <td>434.00</td>\n",
       "    </tr>\n",
       "    <tr>\n",
       "      <th>2</th>\n",
       "      <td>0</td>\n",
       "      <td>32</td>\n",
       "      <td>0</td>\n",
       "      <td>6.00</td>\n",
       "      <td>221.00</td>\n",
       "    </tr>\n",
       "    <tr>\n",
       "      <th>3</th>\n",
       "      <td>0</td>\n",
       "      <td>32</td>\n",
       "      <td>1</td>\n",
       "      <td>10.00</td>\n",
       "      <td>221.00</td>\n",
       "    </tr>\n",
       "    <tr>\n",
       "      <th>4</th>\n",
       "      <td>0</td>\n",
       "      <td>33</td>\n",
       "      <td>0</td>\n",
       "      <td>3.00</td>\n",
       "      <td>347.00</td>\n",
       "    </tr>\n",
       "  </tbody>\n",
       "</table>\n",
       "</div>"
      ],
      "text/plain": [
       "   shop_id  item_id  date_block_num  item_cnt_day  item_price\n",
       "0        0       30               1         31.00      265.00\n",
       "1        0       31               1         11.00      434.00\n",
       "2        0       32               0          6.00      221.00\n",
       "3        0       32               1         10.00      221.00\n",
       "4        0       33               0          3.00      347.00"
      ]
     },
     "execution_count": 35,
     "metadata": {},
     "output_type": "execute_result"
    }
   ],
   "source": [
    "df_train_pp = df_train.groupby(['shop_id','item_id','date_block_num']).agg({'item_price':'mean',\n",
    "                                                                            'item_cnt_day' : sum})\n",
    "df_train_pp.reset_index(inplace=True)\n",
    "df_train_pp.head()"
   ]
  },
  {
   "cell_type": "markdown",
   "metadata": {},
   "source": [
    "#### Train"
   ]
  },
  {
   "cell_type": "code",
   "execution_count": 36,
   "metadata": {
    "scrolled": true
   },
   "outputs": [
    {
     "data": {
      "text/html": [
       "<div>\n",
       "<style>\n",
       "    .dataframe thead tr:only-child th {\n",
       "        text-align: right;\n",
       "    }\n",
       "\n",
       "    .dataframe thead th {\n",
       "        text-align: left;\n",
       "    }\n",
       "\n",
       "    .dataframe tbody tr th {\n",
       "        vertical-align: top;\n",
       "    }\n",
       "</style>\n",
       "<table border=\"1\" class=\"dataframe\">\n",
       "  <thead>\n",
       "    <tr style=\"text-align: right;\">\n",
       "      <th></th>\n",
       "      <th>shop_id</th>\n",
       "      <th>item_id</th>\n",
       "      <th>date_block_num</th>\n",
       "      <th>item_cnt_month</th>\n",
       "      <th>item_price</th>\n",
       "    </tr>\n",
       "  </thead>\n",
       "  <tbody>\n",
       "    <tr>\n",
       "      <th>0</th>\n",
       "      <td>0</td>\n",
       "      <td>30</td>\n",
       "      <td>1</td>\n",
       "      <td>31.00</td>\n",
       "      <td>265.00</td>\n",
       "    </tr>\n",
       "    <tr>\n",
       "      <th>1</th>\n",
       "      <td>0</td>\n",
       "      <td>31</td>\n",
       "      <td>1</td>\n",
       "      <td>11.00</td>\n",
       "      <td>434.00</td>\n",
       "    </tr>\n",
       "    <tr>\n",
       "      <th>2</th>\n",
       "      <td>0</td>\n",
       "      <td>32</td>\n",
       "      <td>0</td>\n",
       "      <td>6.00</td>\n",
       "      <td>221.00</td>\n",
       "    </tr>\n",
       "    <tr>\n",
       "      <th>3</th>\n",
       "      <td>0</td>\n",
       "      <td>32</td>\n",
       "      <td>1</td>\n",
       "      <td>10.00</td>\n",
       "      <td>221.00</td>\n",
       "    </tr>\n",
       "    <tr>\n",
       "      <th>4</th>\n",
       "      <td>0</td>\n",
       "      <td>33</td>\n",
       "      <td>0</td>\n",
       "      <td>3.00</td>\n",
       "      <td>347.00</td>\n",
       "    </tr>\n",
       "  </tbody>\n",
       "</table>\n",
       "</div>"
      ],
      "text/plain": [
       "   shop_id  item_id  date_block_num  item_cnt_month  item_price\n",
       "0        0       30               1           31.00      265.00\n",
       "1        0       31               1           11.00      434.00\n",
       "2        0       32               0            6.00      221.00\n",
       "3        0       32               1           10.00      221.00\n",
       "4        0       33               0            3.00      347.00"
      ]
     },
     "execution_count": 36,
     "metadata": {},
     "output_type": "execute_result"
    }
   ],
   "source": [
    "df_train_pp.rename(columns={'item_cnt_day':'item_cnt_month'},inplace=True)\n",
    "df_train_pp.head()"
   ]
  },
  {
   "cell_type": "code",
   "execution_count": 37,
   "metadata": {},
   "outputs": [
    {
     "data": {
      "text/plain": [
       "numpy.float64"
      ]
     },
     "execution_count": 37,
     "metadata": {},
     "output_type": "execute_result"
    }
   ],
   "source": [
    "type(df_train_pp.loc[0].date_block_num)"
   ]
  },
  {
   "cell_type": "markdown",
   "metadata": {},
   "source": [
    "#### Test"
   ]
  },
  {
   "cell_type": "code",
   "execution_count": 38,
   "metadata": {},
   "outputs": [
    {
     "data": {
      "text/plain": [
       "(214200, 3)"
      ]
     },
     "execution_count": 38,
     "metadata": {},
     "output_type": "execute_result"
    }
   ],
   "source": [
    "df_test.shape"
   ]
  },
  {
   "cell_type": "code",
   "execution_count": 39,
   "metadata": {},
   "outputs": [
    {
     "data": {
      "text/plain": [
       "array([[11],\n",
       "       [11],\n",
       "       [11],\n",
       "       ..., \n",
       "       [11],\n",
       "       [11],\n",
       "       [11]])"
      ]
     },
     "execution_count": 39,
     "metadata": {},
     "output_type": "execute_result"
    }
   ],
   "source": [
    "november_column = np.zeros(shape=(214200,1),dtype=int)+11\n",
    "november_column"
   ]
  },
  {
   "cell_type": "code",
   "execution_count": 40,
   "metadata": {
    "collapsed": true
   },
   "outputs": [],
   "source": [
    "november =  pd.DataFrame(data=november_column)\n"
   ]
  },
  {
   "cell_type": "code",
   "execution_count": 41,
   "metadata": {},
   "outputs": [
    {
     "data": {
      "text/html": [
       "<div>\n",
       "<style>\n",
       "    .dataframe thead tr:only-child th {\n",
       "        text-align: right;\n",
       "    }\n",
       "\n",
       "    .dataframe thead th {\n",
       "        text-align: left;\n",
       "    }\n",
       "\n",
       "    .dataframe tbody tr th {\n",
       "        vertical-align: top;\n",
       "    }\n",
       "</style>\n",
       "<table border=\"1\" class=\"dataframe\">\n",
       "  <thead>\n",
       "    <tr style=\"text-align: right;\">\n",
       "      <th></th>\n",
       "      <th>ID</th>\n",
       "      <th>shop_id</th>\n",
       "      <th>item_id</th>\n",
       "      <th>date_block_num</th>\n",
       "    </tr>\n",
       "  </thead>\n",
       "  <tbody>\n",
       "    <tr>\n",
       "      <th>0</th>\n",
       "      <td>0</td>\n",
       "      <td>5</td>\n",
       "      <td>5037</td>\n",
       "      <td>11</td>\n",
       "    </tr>\n",
       "    <tr>\n",
       "      <th>1</th>\n",
       "      <td>1</td>\n",
       "      <td>5</td>\n",
       "      <td>5320</td>\n",
       "      <td>11</td>\n",
       "    </tr>\n",
       "    <tr>\n",
       "      <th>2</th>\n",
       "      <td>2</td>\n",
       "      <td>5</td>\n",
       "      <td>5233</td>\n",
       "      <td>11</td>\n",
       "    </tr>\n",
       "    <tr>\n",
       "      <th>3</th>\n",
       "      <td>3</td>\n",
       "      <td>5</td>\n",
       "      <td>5232</td>\n",
       "      <td>11</td>\n",
       "    </tr>\n",
       "    <tr>\n",
       "      <th>4</th>\n",
       "      <td>4</td>\n",
       "      <td>5</td>\n",
       "      <td>5268</td>\n",
       "      <td>11</td>\n",
       "    </tr>\n",
       "  </tbody>\n",
       "</table>\n",
       "</div>"
      ],
      "text/plain": [
       "   ID  shop_id  item_id  date_block_num\n",
       "0   0        5     5037              11\n",
       "1   1        5     5320              11\n",
       "2   2        5     5233              11\n",
       "3   3        5     5232              11\n",
       "4   4        5     5268              11"
      ]
     },
     "execution_count": 41,
     "metadata": {},
     "output_type": "execute_result"
    }
   ],
   "source": [
    "df_test_pp = pd.concat([df_test, november],axis=1)\n",
    "df_test_pp.rename(columns={0:'date_block_num'},inplace=True)\n",
    "df_test_pp.head()"
   ]
  },
  {
   "cell_type": "code",
   "execution_count": 42,
   "metadata": {},
   "outputs": [
    {
     "data": {
      "text/html": [
       "<div>\n",
       "<style>\n",
       "    .dataframe thead tr:only-child th {\n",
       "        text-align: right;\n",
       "    }\n",
       "\n",
       "    .dataframe thead th {\n",
       "        text-align: left;\n",
       "    }\n",
       "\n",
       "    .dataframe tbody tr th {\n",
       "        vertical-align: top;\n",
       "    }\n",
       "</style>\n",
       "<table border=\"1\" class=\"dataframe\">\n",
       "  <thead>\n",
       "    <tr style=\"text-align: right;\">\n",
       "      <th></th>\n",
       "      <th>shop_id</th>\n",
       "      <th>item_id</th>\n",
       "      <th>item_price</th>\n",
       "    </tr>\n",
       "  </thead>\n",
       "  <tbody>\n",
       "    <tr>\n",
       "      <th>0</th>\n",
       "      <td>0</td>\n",
       "      <td>30</td>\n",
       "      <td>265.00</td>\n",
       "    </tr>\n",
       "    <tr>\n",
       "      <th>1</th>\n",
       "      <td>0</td>\n",
       "      <td>31</td>\n",
       "      <td>434.00</td>\n",
       "    </tr>\n",
       "    <tr>\n",
       "      <th>2</th>\n",
       "      <td>0</td>\n",
       "      <td>32</td>\n",
       "      <td>221.00</td>\n",
       "    </tr>\n",
       "    <tr>\n",
       "      <th>3</th>\n",
       "      <td>0</td>\n",
       "      <td>33</td>\n",
       "      <td>347.00</td>\n",
       "    </tr>\n",
       "    <tr>\n",
       "      <th>4</th>\n",
       "      <td>0</td>\n",
       "      <td>35</td>\n",
       "      <td>247.00</td>\n",
       "    </tr>\n",
       "  </tbody>\n",
       "</table>\n",
       "</div>"
      ],
      "text/plain": [
       "   shop_id  item_id  item_price\n",
       "0        0       30      265.00\n",
       "1        0       31      434.00\n",
       "2        0       32      221.00\n",
       "3        0       33      347.00\n",
       "4        0       35      247.00"
      ]
     },
     "execution_count": 42,
     "metadata": {},
     "output_type": "execute_result"
    }
   ],
   "source": [
    "df_mean_price = df_train_pp.groupby(['shop_id','item_id']).agg({'item_price' : 'mean'}).reset_index()\n",
    "df_mean_price.head()"
   ]
  },
  {
   "cell_type": "code",
   "execution_count": 43,
   "metadata": {},
   "outputs": [
    {
     "data": {
      "text/html": [
       "<div>\n",
       "<style>\n",
       "    .dataframe thead tr:only-child th {\n",
       "        text-align: right;\n",
       "    }\n",
       "\n",
       "    .dataframe thead th {\n",
       "        text-align: left;\n",
       "    }\n",
       "\n",
       "    .dataframe tbody tr th {\n",
       "        vertical-align: top;\n",
       "    }\n",
       "</style>\n",
       "<table border=\"1\" class=\"dataframe\">\n",
       "  <thead>\n",
       "    <tr style=\"text-align: right;\">\n",
       "      <th></th>\n",
       "      <th>ID</th>\n",
       "      <th>shop_id</th>\n",
       "      <th>item_id</th>\n",
       "      <th>date_block_num</th>\n",
       "      <th>item_price</th>\n",
       "    </tr>\n",
       "  </thead>\n",
       "  <tbody>\n",
       "    <tr>\n",
       "      <th>0</th>\n",
       "      <td>0</td>\n",
       "      <td>5</td>\n",
       "      <td>5037</td>\n",
       "      <td>11</td>\n",
       "      <td>1693.52</td>\n",
       "    </tr>\n",
       "    <tr>\n",
       "      <th>1</th>\n",
       "      <td>1</td>\n",
       "      <td>5</td>\n",
       "      <td>5320</td>\n",
       "      <td>11</td>\n",
       "      <td>nan</td>\n",
       "    </tr>\n",
       "    <tr>\n",
       "      <th>2</th>\n",
       "      <td>2</td>\n",
       "      <td>5</td>\n",
       "      <td>5233</td>\n",
       "      <td>11</td>\n",
       "      <td>859.00</td>\n",
       "    </tr>\n",
       "    <tr>\n",
       "      <th>3</th>\n",
       "      <td>3</td>\n",
       "      <td>5</td>\n",
       "      <td>5232</td>\n",
       "      <td>11</td>\n",
       "      <td>599.00</td>\n",
       "    </tr>\n",
       "    <tr>\n",
       "      <th>4</th>\n",
       "      <td>4</td>\n",
       "      <td>5</td>\n",
       "      <td>5268</td>\n",
       "      <td>11</td>\n",
       "      <td>nan</td>\n",
       "    </tr>\n",
       "  </tbody>\n",
       "</table>\n",
       "</div>"
      ],
      "text/plain": [
       "   ID  shop_id  item_id  date_block_num  item_price\n",
       "0   0        5     5037              11     1693.52\n",
       "1   1        5     5320              11         nan\n",
       "2   2        5     5233              11      859.00\n",
       "3   3        5     5232              11      599.00\n",
       "4   4        5     5268              11         nan"
      ]
     },
     "execution_count": 43,
     "metadata": {},
     "output_type": "execute_result"
    }
   ],
   "source": [
    "df_test_pp = pd.merge(df_test_pp, df_mean_price, on = ['shop_id','item_id'], how = 'left')\n",
    "df_test_pp.head()"
   ]
  },
  {
   "cell_type": "markdown",
   "metadata": {},
   "source": [
    "* 5320과 같은 상품은 Train 셋에도 판매 정보가 없음  \n",
    "우선 가격 칼럼을 드랍하겠음(예측 - 상품의 카테고리 정보가 핵심이 아닐까 생각해봄)"
   ]
  },
  {
   "cell_type": "code",
   "execution_count": 44,
   "metadata": {},
   "outputs": [
    {
     "data": {
      "text/html": [
       "<div>\n",
       "<style>\n",
       "    .dataframe thead tr:only-child th {\n",
       "        text-align: right;\n",
       "    }\n",
       "\n",
       "    .dataframe thead th {\n",
       "        text-align: left;\n",
       "    }\n",
       "\n",
       "    .dataframe tbody tr th {\n",
       "        vertical-align: top;\n",
       "    }\n",
       "</style>\n",
       "<table border=\"1\" class=\"dataframe\">\n",
       "  <thead>\n",
       "    <tr style=\"text-align: right;\">\n",
       "      <th></th>\n",
       "      <th>shop_id</th>\n",
       "      <th>item_id</th>\n",
       "      <th>date_block_num</th>\n",
       "      <th>item_cnt_month</th>\n",
       "      <th>item_price</th>\n",
       "    </tr>\n",
       "  </thead>\n",
       "  <tbody>\n",
       "  </tbody>\n",
       "</table>\n",
       "</div>"
      ],
      "text/plain": [
       "Empty DataFrame\n",
       "Columns: [shop_id, item_id, date_block_num, item_cnt_month, item_price]\n",
       "Index: []"
      ]
     },
     "execution_count": 44,
     "metadata": {},
     "output_type": "execute_result"
    }
   ],
   "source": [
    "df_train_pp[df_train_pp['item_id']==5320]"
   ]
  },
  {
   "cell_type": "code",
   "execution_count": 45,
   "metadata": {
    "collapsed": true
   },
   "outputs": [],
   "source": [
    "df_test_pp.drop(['item_price'],axis=1, inplace=True)\n",
    "df_train_pp.drop(['item_price'],axis=1, inplace=True)"
   ]
  },
  {
   "cell_type": "markdown",
   "metadata": {},
   "source": [
    "## 2. Train Test에 df_shop 정보 Merge"
   ]
  },
  {
   "cell_type": "code",
   "execution_count": 46,
   "metadata": {
    "scrolled": true
   },
   "outputs": [
    {
     "data": {
      "text/html": [
       "<div>\n",
       "<style>\n",
       "    .dataframe thead tr:only-child th {\n",
       "        text-align: right;\n",
       "    }\n",
       "\n",
       "    .dataframe thead th {\n",
       "        text-align: left;\n",
       "    }\n",
       "\n",
       "    .dataframe tbody tr th {\n",
       "        vertical-align: top;\n",
       "    }\n",
       "</style>\n",
       "<table border=\"1\" class=\"dataframe\">\n",
       "  <thead>\n",
       "    <tr style=\"text-align: right;\">\n",
       "      <th></th>\n",
       "      <th>shop_name</th>\n",
       "      <th>shop_id</th>\n",
       "      <th>location_name</th>\n",
       "      <th>year2014</th>\n",
       "    </tr>\n",
       "  </thead>\n",
       "  <tbody>\n",
       "    <tr>\n",
       "      <th>0</th>\n",
       "      <td>Yakutsk Ordzhonikidze, 56 francs</td>\n",
       "      <td>0</td>\n",
       "      <td>Yakutsk</td>\n",
       "      <td>269601.00</td>\n",
       "    </tr>\n",
       "    <tr>\n",
       "      <th>1</th>\n",
       "      <td>Yakutsk TC \"Central\" franc</td>\n",
       "      <td>1</td>\n",
       "      <td>Yakutsk</td>\n",
       "      <td>269601.00</td>\n",
       "    </tr>\n",
       "    <tr>\n",
       "      <th>2</th>\n",
       "      <td>Adygea Shopping Center \"Mega\"</td>\n",
       "      <td>2</td>\n",
       "      <td>Adygea</td>\n",
       "      <td>444403.00</td>\n",
       "    </tr>\n",
       "    <tr>\n",
       "      <th>3</th>\n",
       "      <td>Balashikha TRK \"October-Kinomir\"</td>\n",
       "      <td>3</td>\n",
       "      <td>Balashikha</td>\n",
       "      <td>215494.00</td>\n",
       "    </tr>\n",
       "    <tr>\n",
       "      <th>4</th>\n",
       "      <td>Volzhsky shopping center \"Volga Mall\"</td>\n",
       "      <td>4</td>\n",
       "      <td>Volzhsky</td>\n",
       "      <td>314255.00</td>\n",
       "    </tr>\n",
       "  </tbody>\n",
       "</table>\n",
       "</div>"
      ],
      "text/plain": [
       "                               shop_name  shop_id location_name  year2014\n",
       "0       Yakutsk Ordzhonikidze, 56 francs        0       Yakutsk 269601.00\n",
       "1             Yakutsk TC \"Central\" franc        1       Yakutsk 269601.00\n",
       "2          Adygea Shopping Center \"Mega\"        2        Adygea 444403.00\n",
       "3       Balashikha TRK \"October-Kinomir\"        3    Balashikha 215494.00\n",
       "4  Volzhsky shopping center \"Volga Mall\"        4      Volzhsky 314255.00"
      ]
     },
     "execution_count": 46,
     "metadata": {},
     "output_type": "execute_result"
    }
   ],
   "source": [
    "df_shop.head()"
   ]
  },
  {
   "cell_type": "markdown",
   "metadata": {},
   "source": [
    "#### Train"
   ]
  },
  {
   "cell_type": "code",
   "execution_count": 47,
   "metadata": {
    "scrolled": true
   },
   "outputs": [
    {
     "data": {
      "text/html": [
       "<div>\n",
       "<style>\n",
       "    .dataframe thead tr:only-child th {\n",
       "        text-align: right;\n",
       "    }\n",
       "\n",
       "    .dataframe thead th {\n",
       "        text-align: left;\n",
       "    }\n",
       "\n",
       "    .dataframe tbody tr th {\n",
       "        vertical-align: top;\n",
       "    }\n",
       "</style>\n",
       "<table border=\"1\" class=\"dataframe\">\n",
       "  <thead>\n",
       "    <tr style=\"text-align: right;\">\n",
       "      <th></th>\n",
       "      <th>shop_id</th>\n",
       "      <th>item_id</th>\n",
       "      <th>date_block_num</th>\n",
       "      <th>item_cnt_month</th>\n",
       "      <th>shop_name</th>\n",
       "      <th>location_name</th>\n",
       "      <th>year2014</th>\n",
       "    </tr>\n",
       "  </thead>\n",
       "  <tbody>\n",
       "    <tr>\n",
       "      <th>0</th>\n",
       "      <td>0</td>\n",
       "      <td>30</td>\n",
       "      <td>1</td>\n",
       "      <td>31.00</td>\n",
       "      <td>Yakutsk Ordzhonikidze, 56 francs</td>\n",
       "      <td>Yakutsk</td>\n",
       "      <td>269601.00</td>\n",
       "    </tr>\n",
       "    <tr>\n",
       "      <th>1</th>\n",
       "      <td>0</td>\n",
       "      <td>31</td>\n",
       "      <td>1</td>\n",
       "      <td>11.00</td>\n",
       "      <td>Yakutsk Ordzhonikidze, 56 francs</td>\n",
       "      <td>Yakutsk</td>\n",
       "      <td>269601.00</td>\n",
       "    </tr>\n",
       "    <tr>\n",
       "      <th>2</th>\n",
       "      <td>0</td>\n",
       "      <td>32</td>\n",
       "      <td>0</td>\n",
       "      <td>6.00</td>\n",
       "      <td>Yakutsk Ordzhonikidze, 56 francs</td>\n",
       "      <td>Yakutsk</td>\n",
       "      <td>269601.00</td>\n",
       "    </tr>\n",
       "    <tr>\n",
       "      <th>3</th>\n",
       "      <td>0</td>\n",
       "      <td>32</td>\n",
       "      <td>1</td>\n",
       "      <td>10.00</td>\n",
       "      <td>Yakutsk Ordzhonikidze, 56 francs</td>\n",
       "      <td>Yakutsk</td>\n",
       "      <td>269601.00</td>\n",
       "    </tr>\n",
       "    <tr>\n",
       "      <th>4</th>\n",
       "      <td>0</td>\n",
       "      <td>33</td>\n",
       "      <td>0</td>\n",
       "      <td>3.00</td>\n",
       "      <td>Yakutsk Ordzhonikidze, 56 francs</td>\n",
       "      <td>Yakutsk</td>\n",
       "      <td>269601.00</td>\n",
       "    </tr>\n",
       "  </tbody>\n",
       "</table>\n",
       "</div>"
      ],
      "text/plain": [
       "   shop_id  item_id  date_block_num  item_cnt_month  \\\n",
       "0        0       30               1           31.00   \n",
       "1        0       31               1           11.00   \n",
       "2        0       32               0            6.00   \n",
       "3        0       32               1           10.00   \n",
       "4        0       33               0            3.00   \n",
       "\n",
       "                          shop_name location_name  year2014  \n",
       "0  Yakutsk Ordzhonikidze, 56 francs       Yakutsk 269601.00  \n",
       "1  Yakutsk Ordzhonikidze, 56 francs       Yakutsk 269601.00  \n",
       "2  Yakutsk Ordzhonikidze, 56 francs       Yakutsk 269601.00  \n",
       "3  Yakutsk Ordzhonikidze, 56 francs       Yakutsk 269601.00  \n",
       "4  Yakutsk Ordzhonikidze, 56 francs       Yakutsk 269601.00  "
      ]
     },
     "execution_count": 47,
     "metadata": {},
     "output_type": "execute_result"
    }
   ],
   "source": [
    "df_train_pp_2 = pd.merge(df_train_pp,df_shop, on='shop_id', how='left')\n",
    "df_train_pp_2.head()"
   ]
  },
  {
   "cell_type": "markdown",
   "metadata": {},
   "source": [
    "#### Test"
   ]
  },
  {
   "cell_type": "code",
   "execution_count": 48,
   "metadata": {
    "scrolled": true
   },
   "outputs": [
    {
     "data": {
      "text/html": [
       "<div>\n",
       "<style>\n",
       "    .dataframe thead tr:only-child th {\n",
       "        text-align: right;\n",
       "    }\n",
       "\n",
       "    .dataframe thead th {\n",
       "        text-align: left;\n",
       "    }\n",
       "\n",
       "    .dataframe tbody tr th {\n",
       "        vertical-align: top;\n",
       "    }\n",
       "</style>\n",
       "<table border=\"1\" class=\"dataframe\">\n",
       "  <thead>\n",
       "    <tr style=\"text-align: right;\">\n",
       "      <th></th>\n",
       "      <th>ID</th>\n",
       "      <th>shop_id</th>\n",
       "      <th>item_id</th>\n",
       "      <th>date_block_num</th>\n",
       "      <th>shop_name</th>\n",
       "      <th>location_name</th>\n",
       "      <th>year2014</th>\n",
       "    </tr>\n",
       "  </thead>\n",
       "  <tbody>\n",
       "    <tr>\n",
       "      <th>0</th>\n",
       "      <td>0</td>\n",
       "      <td>5</td>\n",
       "      <td>5037</td>\n",
       "      <td>11</td>\n",
       "      <td>Vologda Shopping and Entertainment Center \"Mar...</td>\n",
       "      <td>Vologda</td>\n",
       "      <td>1193371.00</td>\n",
       "    </tr>\n",
       "    <tr>\n",
       "      <th>1</th>\n",
       "      <td>1</td>\n",
       "      <td>5</td>\n",
       "      <td>5320</td>\n",
       "      <td>11</td>\n",
       "      <td>Vologda Shopping and Entertainment Center \"Mar...</td>\n",
       "      <td>Vologda</td>\n",
       "      <td>1193371.00</td>\n",
       "    </tr>\n",
       "    <tr>\n",
       "      <th>2</th>\n",
       "      <td>2</td>\n",
       "      <td>5</td>\n",
       "      <td>5233</td>\n",
       "      <td>11</td>\n",
       "      <td>Vologda Shopping and Entertainment Center \"Mar...</td>\n",
       "      <td>Vologda</td>\n",
       "      <td>1193371.00</td>\n",
       "    </tr>\n",
       "    <tr>\n",
       "      <th>3</th>\n",
       "      <td>3</td>\n",
       "      <td>5</td>\n",
       "      <td>5232</td>\n",
       "      <td>11</td>\n",
       "      <td>Vologda Shopping and Entertainment Center \"Mar...</td>\n",
       "      <td>Vologda</td>\n",
       "      <td>1193371.00</td>\n",
       "    </tr>\n",
       "    <tr>\n",
       "      <th>4</th>\n",
       "      <td>4</td>\n",
       "      <td>5</td>\n",
       "      <td>5268</td>\n",
       "      <td>11</td>\n",
       "      <td>Vologda Shopping and Entertainment Center \"Mar...</td>\n",
       "      <td>Vologda</td>\n",
       "      <td>1193371.00</td>\n",
       "    </tr>\n",
       "  </tbody>\n",
       "</table>\n",
       "</div>"
      ],
      "text/plain": [
       "   ID  shop_id  item_id  date_block_num  \\\n",
       "0   0        5     5037              11   \n",
       "1   1        5     5320              11   \n",
       "2   2        5     5233              11   \n",
       "3   3        5     5232              11   \n",
       "4   4        5     5268              11   \n",
       "\n",
       "                                           shop_name location_name   year2014  \n",
       "0  Vologda Shopping and Entertainment Center \"Mar...       Vologda 1193371.00  \n",
       "1  Vologda Shopping and Entertainment Center \"Mar...       Vologda 1193371.00  \n",
       "2  Vologda Shopping and Entertainment Center \"Mar...       Vologda 1193371.00  \n",
       "3  Vologda Shopping and Entertainment Center \"Mar...       Vologda 1193371.00  \n",
       "4  Vologda Shopping and Entertainment Center \"Mar...       Vologda 1193371.00  "
      ]
     },
     "execution_count": 48,
     "metadata": {},
     "output_type": "execute_result"
    }
   ],
   "source": [
    "df_test_pp_2 = pd.merge(df_test_pp,df_shop, on='shop_id', how='left')\n",
    "df_test_pp_2.head()"
   ]
  },
  {
   "cell_type": "code",
   "execution_count": 49,
   "metadata": {},
   "outputs": [
    {
     "data": {
      "text/plain": [
       "Index(['shop_id', 'item_id', 'date_block_num', 'item_cnt_month', 'shop_name',\n",
       "       'location_name', 'year2014'],\n",
       "      dtype='object')"
      ]
     },
     "execution_count": 49,
     "metadata": {},
     "output_type": "execute_result"
    }
   ],
   "source": [
    "df_train_pp_2.columns"
   ]
  },
  {
   "cell_type": "code",
   "execution_count": 50,
   "metadata": {},
   "outputs": [
    {
     "data": {
      "text/html": [
       "<div>\n",
       "<style>\n",
       "    .dataframe thead tr:only-child th {\n",
       "        text-align: right;\n",
       "    }\n",
       "\n",
       "    .dataframe thead th {\n",
       "        text-align: left;\n",
       "    }\n",
       "\n",
       "    .dataframe tbody tr th {\n",
       "        vertical-align: top;\n",
       "    }\n",
       "</style>\n",
       "<table border=\"1\" class=\"dataframe\">\n",
       "  <thead>\n",
       "    <tr style=\"text-align: right;\">\n",
       "      <th></th>\n",
       "      <th>shop_id</th>\n",
       "      <th>item_id</th>\n",
       "      <th>date_block_num</th>\n",
       "      <th>shop_name</th>\n",
       "      <th>location_name</th>\n",
       "      <th>year2014</th>\n",
       "      <th>item_cnt_month</th>\n",
       "    </tr>\n",
       "  </thead>\n",
       "  <tbody>\n",
       "    <tr>\n",
       "      <th>0</th>\n",
       "      <td>0</td>\n",
       "      <td>30</td>\n",
       "      <td>1</td>\n",
       "      <td>Yakutsk Ordzhonikidze, 56 francs</td>\n",
       "      <td>Yakutsk</td>\n",
       "      <td>269601.00</td>\n",
       "      <td>31.00</td>\n",
       "    </tr>\n",
       "    <tr>\n",
       "      <th>1</th>\n",
       "      <td>0</td>\n",
       "      <td>31</td>\n",
       "      <td>1</td>\n",
       "      <td>Yakutsk Ordzhonikidze, 56 francs</td>\n",
       "      <td>Yakutsk</td>\n",
       "      <td>269601.00</td>\n",
       "      <td>11.00</td>\n",
       "    </tr>\n",
       "    <tr>\n",
       "      <th>2</th>\n",
       "      <td>0</td>\n",
       "      <td>32</td>\n",
       "      <td>0</td>\n",
       "      <td>Yakutsk Ordzhonikidze, 56 francs</td>\n",
       "      <td>Yakutsk</td>\n",
       "      <td>269601.00</td>\n",
       "      <td>6.00</td>\n",
       "    </tr>\n",
       "    <tr>\n",
       "      <th>3</th>\n",
       "      <td>0</td>\n",
       "      <td>32</td>\n",
       "      <td>1</td>\n",
       "      <td>Yakutsk Ordzhonikidze, 56 francs</td>\n",
       "      <td>Yakutsk</td>\n",
       "      <td>269601.00</td>\n",
       "      <td>10.00</td>\n",
       "    </tr>\n",
       "    <tr>\n",
       "      <th>4</th>\n",
       "      <td>0</td>\n",
       "      <td>33</td>\n",
       "      <td>0</td>\n",
       "      <td>Yakutsk Ordzhonikidze, 56 francs</td>\n",
       "      <td>Yakutsk</td>\n",
       "      <td>269601.00</td>\n",
       "      <td>3.00</td>\n",
       "    </tr>\n",
       "  </tbody>\n",
       "</table>\n",
       "</div>"
      ],
      "text/plain": [
       "   shop_id  item_id  date_block_num                         shop_name  \\\n",
       "0        0       30               1  Yakutsk Ordzhonikidze, 56 francs   \n",
       "1        0       31               1  Yakutsk Ordzhonikidze, 56 francs   \n",
       "2        0       32               0  Yakutsk Ordzhonikidze, 56 francs   \n",
       "3        0       32               1  Yakutsk Ordzhonikidze, 56 francs   \n",
       "4        0       33               0  Yakutsk Ordzhonikidze, 56 francs   \n",
       "\n",
       "  location_name  year2014  item_cnt_month  \n",
       "0       Yakutsk 269601.00           31.00  \n",
       "1       Yakutsk 269601.00           11.00  \n",
       "2       Yakutsk 269601.00            6.00  \n",
       "3       Yakutsk 269601.00           10.00  \n",
       "4       Yakutsk 269601.00            3.00  "
      ]
     },
     "execution_count": 50,
     "metadata": {},
     "output_type": "execute_result"
    }
   ],
   "source": [
    "df_train_pp_2 = pd.DataFrame(df_train_pp_2, columns=['shop_id', 'item_id',\n",
    "                                                     'date_block_num',\n",
    "                                                     'shop_name','location_name', \n",
    "                                                     'year2014','item_cnt_month'])\n",
    "df_train_pp_2.head()"
   ]
  },
  {
   "cell_type": "code",
   "execution_count": 51,
   "metadata": {},
   "outputs": [
    {
     "data": {
      "text/html": [
       "<div>\n",
       "<style>\n",
       "    .dataframe thead tr:only-child th {\n",
       "        text-align: right;\n",
       "    }\n",
       "\n",
       "    .dataframe thead th {\n",
       "        text-align: left;\n",
       "    }\n",
       "\n",
       "    .dataframe tbody tr th {\n",
       "        vertical-align: top;\n",
       "    }\n",
       "</style>\n",
       "<table border=\"1\" class=\"dataframe\">\n",
       "  <thead>\n",
       "    <tr style=\"text-align: right;\">\n",
       "      <th></th>\n",
       "      <th>shop_id</th>\n",
       "      <th>item_id</th>\n",
       "      <th>date_block_num</th>\n",
       "      <th>year2014</th>\n",
       "      <th>item_cnt_month</th>\n",
       "    </tr>\n",
       "  </thead>\n",
       "  <tbody>\n",
       "    <tr>\n",
       "      <th>shop_id</th>\n",
       "      <td>1.00</td>\n",
       "      <td>0.02</td>\n",
       "      <td>0.02</td>\n",
       "      <td>-0.24</td>\n",
       "      <td>0.00</td>\n",
       "    </tr>\n",
       "    <tr>\n",
       "      <th>item_id</th>\n",
       "      <td>0.02</td>\n",
       "      <td>1.00</td>\n",
       "      <td>-0.01</td>\n",
       "      <td>0.02</td>\n",
       "      <td>-0.01</td>\n",
       "    </tr>\n",
       "    <tr>\n",
       "      <th>date_block_num</th>\n",
       "      <td>0.02</td>\n",
       "      <td>-0.01</td>\n",
       "      <td>1.00</td>\n",
       "      <td>-0.01</td>\n",
       "      <td>0.00</td>\n",
       "    </tr>\n",
       "    <tr>\n",
       "      <th>year2014</th>\n",
       "      <td>-0.24</td>\n",
       "      <td>0.02</td>\n",
       "      <td>-0.01</td>\n",
       "      <td>1.00</td>\n",
       "      <td>0.03</td>\n",
       "    </tr>\n",
       "    <tr>\n",
       "      <th>item_cnt_month</th>\n",
       "      <td>0.00</td>\n",
       "      <td>-0.01</td>\n",
       "      <td>0.00</td>\n",
       "      <td>0.03</td>\n",
       "      <td>1.00</td>\n",
       "    </tr>\n",
       "  </tbody>\n",
       "</table>\n",
       "</div>"
      ],
      "text/plain": [
       "                shop_id  item_id  date_block_num  year2014  item_cnt_month\n",
       "shop_id            1.00     0.02            0.02     -0.24            0.00\n",
       "item_id            0.02     1.00           -0.01      0.02           -0.01\n",
       "date_block_num     0.02    -0.01            1.00     -0.01            0.00\n",
       "year2014          -0.24     0.02           -0.01      1.00            0.03\n",
       "item_cnt_month     0.00    -0.01            0.00      0.03            1.00"
      ]
     },
     "execution_count": 51,
     "metadata": {},
     "output_type": "execute_result"
    }
   ],
   "source": [
    "df_train_pp_2.corr()"
   ]
  },
  {
   "cell_type": "code",
   "execution_count": 52,
   "metadata": {
    "collapsed": true
   },
   "outputs": [],
   "source": [
    "pd.set_option('display.float_format', lambda x : '%.2f' % x) # 소수 둘째 자리까지 보이도록"
   ]
  },
  {
   "cell_type": "code",
   "execution_count": 53,
   "metadata": {
    "scrolled": true
   },
   "outputs": [
    {
     "data": {
      "text/html": [
       "<div>\n",
       "<style>\n",
       "    .dataframe thead tr:only-child th {\n",
       "        text-align: right;\n",
       "    }\n",
       "\n",
       "    .dataframe thead th {\n",
       "        text-align: left;\n",
       "    }\n",
       "\n",
       "    .dataframe tbody tr th {\n",
       "        vertical-align: top;\n",
       "    }\n",
       "</style>\n",
       "<table border=\"1\" class=\"dataframe\">\n",
       "  <thead>\n",
       "    <tr style=\"text-align: right;\">\n",
       "      <th></th>\n",
       "      <th>ID</th>\n",
       "      <th>shop_id</th>\n",
       "      <th>item_id</th>\n",
       "      <th>date_block_num</th>\n",
       "      <th>year2014</th>\n",
       "    </tr>\n",
       "  </thead>\n",
       "  <tbody>\n",
       "    <tr>\n",
       "      <th>ID</th>\n",
       "      <td>1.00</td>\n",
       "      <td>0.77</td>\n",
       "      <td>0.00</td>\n",
       "      <td>nan</td>\n",
       "      <td>-0.30</td>\n",
       "    </tr>\n",
       "    <tr>\n",
       "      <th>shop_id</th>\n",
       "      <td>0.77</td>\n",
       "      <td>1.00</td>\n",
       "      <td>-0.00</td>\n",
       "      <td>nan</td>\n",
       "      <td>-0.10</td>\n",
       "    </tr>\n",
       "    <tr>\n",
       "      <th>item_id</th>\n",
       "      <td>0.00</td>\n",
       "      <td>-0.00</td>\n",
       "      <td>1.00</td>\n",
       "      <td>nan</td>\n",
       "      <td>-0.00</td>\n",
       "    </tr>\n",
       "    <tr>\n",
       "      <th>date_block_num</th>\n",
       "      <td>nan</td>\n",
       "      <td>nan</td>\n",
       "      <td>nan</td>\n",
       "      <td>nan</td>\n",
       "      <td>nan</td>\n",
       "    </tr>\n",
       "    <tr>\n",
       "      <th>year2014</th>\n",
       "      <td>-0.30</td>\n",
       "      <td>-0.10</td>\n",
       "      <td>-0.00</td>\n",
       "      <td>nan</td>\n",
       "      <td>1.00</td>\n",
       "    </tr>\n",
       "  </tbody>\n",
       "</table>\n",
       "</div>"
      ],
      "text/plain": [
       "                  ID  shop_id  item_id  date_block_num  year2014\n",
       "ID              1.00     0.77     0.00             nan     -0.30\n",
       "shop_id         0.77     1.00    -0.00             nan     -0.10\n",
       "item_id         0.00    -0.00     1.00             nan     -0.00\n",
       "date_block_num   nan      nan      nan             nan       nan\n",
       "year2014       -0.30    -0.10    -0.00             nan      1.00"
      ]
     },
     "execution_count": 53,
     "metadata": {},
     "output_type": "execute_result"
    }
   ],
   "source": [
    "df_test_pp_2.corr()"
   ]
  },
  {
   "cell_type": "code",
   "execution_count": 61,
   "metadata": {},
   "outputs": [
    {
     "data": {
      "text/plain": [
       "0    2\n",
       "1    2\n",
       "2    1\n",
       "3    2\n",
       "4    1\n",
       "Name: date_block_num, dtype: int64"
      ]
     },
     "execution_count": 61,
     "metadata": {},
     "output_type": "execute_result"
    }
   ],
   "source": [
    "date_block_pp = {0:1,1:2,2:3,3:4,4:5,5:6,6:7,7:8,8:9,9:10,10:11,11:12,\n",
    "                 12:1,13:2,14:3,15:4,16:5,17:6,18:7,19:8,20:9,21:10,22:11,23:12,\n",
    "                 24:1,25:2,26:3,27:4,28:5,29:6,30:7,31:8,32:9, 33:10}\n",
    "\n",
    "df_train_pp_2.date_block_num=df_train_pp_2.date_block_num.replace(date_block_pp)\n",
    "df_train_pp_2.date_block_num.head()"
   ]
  },
  {
   "cell_type": "markdown",
   "metadata": {},
   "source": [
    "## 3. Label Encoding\n",
    "* Shop_id와 Name은 같은 성격을 지니기에 Name 드랍"
   ]
  },
  {
   "cell_type": "code",
   "execution_count": 62,
   "metadata": {
    "collapsed": true
   },
   "outputs": [],
   "source": [
    "from sklearn import preprocessing"
   ]
  },
  {
   "cell_type": "code",
   "execution_count": 63,
   "metadata": {
    "collapsed": true
   },
   "outputs": [],
   "source": [
    "def label_encoding(data, columns):\n",
    "    label_encoder_list=[]\n",
    "    for column_index in columns:\n",
    "        le = preprocessing.LabelEncoder()\n",
    "        le.fit(data[:,column_index])\n",
    "        \n",
    "        data[:,column_index]=le.transform(data[:,column_index])\n",
    "        label_encoder_list.append(le)\n",
    "        \n",
    "        del le\n",
    "        \n",
    "    \n",
    "    return label_encoder_list, data"
   ]
  },
  {
   "cell_type": "markdown",
   "metadata": {},
   "source": [
    "#### Train makes label model"
   ]
  },
  {
   "cell_type": "code",
   "execution_count": 64,
   "metadata": {
    "scrolled": true
   },
   "outputs": [],
   "source": [
    "df_train_pp_2.drop(['shop_name'],axis=1, inplace=True)\n",
    "df_test_pp_2.drop(['shop_name'],axis=1, inplace=True)"
   ]
  },
  {
   "cell_type": "code",
   "execution_count": 65,
   "metadata": {},
   "outputs": [
    {
     "data": {
      "text/html": [
       "<div>\n",
       "<style>\n",
       "    .dataframe thead tr:only-child th {\n",
       "        text-align: right;\n",
       "    }\n",
       "\n",
       "    .dataframe thead th {\n",
       "        text-align: left;\n",
       "    }\n",
       "\n",
       "    .dataframe tbody tr th {\n",
       "        vertical-align: top;\n",
       "    }\n",
       "</style>\n",
       "<table border=\"1\" class=\"dataframe\">\n",
       "  <thead>\n",
       "    <tr style=\"text-align: right;\">\n",
       "      <th></th>\n",
       "      <th>shop_id</th>\n",
       "      <th>item_id</th>\n",
       "      <th>date_block_num</th>\n",
       "      <th>location_name</th>\n",
       "      <th>year2014</th>\n",
       "      <th>item_cnt_month</th>\n",
       "    </tr>\n",
       "  </thead>\n",
       "  <tbody>\n",
       "    <tr>\n",
       "      <th>0</th>\n",
       "      <td>0</td>\n",
       "      <td>30</td>\n",
       "      <td>2</td>\n",
       "      <td>Yakutsk</td>\n",
       "      <td>269601.00</td>\n",
       "      <td>31.00</td>\n",
       "    </tr>\n",
       "    <tr>\n",
       "      <th>1</th>\n",
       "      <td>0</td>\n",
       "      <td>31</td>\n",
       "      <td>2</td>\n",
       "      <td>Yakutsk</td>\n",
       "      <td>269601.00</td>\n",
       "      <td>11.00</td>\n",
       "    </tr>\n",
       "    <tr>\n",
       "      <th>2</th>\n",
       "      <td>0</td>\n",
       "      <td>32</td>\n",
       "      <td>1</td>\n",
       "      <td>Yakutsk</td>\n",
       "      <td>269601.00</td>\n",
       "      <td>6.00</td>\n",
       "    </tr>\n",
       "    <tr>\n",
       "      <th>3</th>\n",
       "      <td>0</td>\n",
       "      <td>32</td>\n",
       "      <td>2</td>\n",
       "      <td>Yakutsk</td>\n",
       "      <td>269601.00</td>\n",
       "      <td>10.00</td>\n",
       "    </tr>\n",
       "    <tr>\n",
       "      <th>4</th>\n",
       "      <td>0</td>\n",
       "      <td>33</td>\n",
       "      <td>1</td>\n",
       "      <td>Yakutsk</td>\n",
       "      <td>269601.00</td>\n",
       "      <td>3.00</td>\n",
       "    </tr>\n",
       "  </tbody>\n",
       "</table>\n",
       "</div>"
      ],
      "text/plain": [
       "   shop_id  item_id  date_block_num location_name  year2014  item_cnt_month\n",
       "0        0       30               2       Yakutsk 269601.00           31.00\n",
       "1        0       31               2       Yakutsk 269601.00           11.00\n",
       "2        0       32               1       Yakutsk 269601.00            6.00\n",
       "3        0       32               2       Yakutsk 269601.00           10.00\n",
       "4        0       33               1       Yakutsk 269601.00            3.00"
      ]
     },
     "execution_count": 65,
     "metadata": {},
     "output_type": "execute_result"
    }
   ],
   "source": [
    "df_train_pp_2.head()"
   ]
  },
  {
   "cell_type": "code",
   "execution_count": 66,
   "metadata": {},
   "outputs": [],
   "source": [
    "label_column = [0,1,2,3] # shop_id, item_id, date_block_num, location_name\n",
    "\n",
    "label_encoder_list, train_data = label_encoding(df_train_pp_2.as_matrix(), label_column)"
   ]
  },
  {
   "cell_type": "markdown",
   "metadata": {},
   "source": [
    "## 실험(Item_id 모델 전체 재생성)"
   ]
  },
  {
   "cell_type": "code",
   "execution_count": 67,
   "metadata": {},
   "outputs": [
    {
     "data": {
      "text/plain": [
       "(1609124,)"
      ]
     },
     "execution_count": 67,
     "metadata": {},
     "output_type": "execute_result"
    }
   ],
   "source": [
    "df_train_pp_2.as_matrix()[:,1].shape"
   ]
  },
  {
   "cell_type": "code",
   "execution_count": 68,
   "metadata": {
    "collapsed": true
   },
   "outputs": [],
   "source": [
    "item_total = pd.merge(df_train_pp_2[['item_id']],df_test_pp_2[['item_id']] ,on='item_id' ,how='outer').values"
   ]
  },
  {
   "cell_type": "code",
   "execution_count": 69,
   "metadata": {
    "collapsed": true
   },
   "outputs": [],
   "source": [
    "item_total = np.unique(item_total)"
   ]
  },
  {
   "cell_type": "code",
   "execution_count": 70,
   "metadata": {
    "scrolled": true
   },
   "outputs": [
    {
     "data": {
      "text/plain": [
       "array([    0,     1,     2, ..., 22167, 22168, 22169], dtype=int64)"
      ]
     },
     "execution_count": 70,
     "metadata": {},
     "output_type": "execute_result"
    }
   ],
   "source": [
    "item_total"
   ]
  },
  {
   "cell_type": "markdown",
   "metadata": {},
   "source": [
    "### Item _id만 별개의 인코더 생성"
   ]
  },
  {
   "cell_type": "code",
   "execution_count": null,
   "metadata": {
    "collapsed": true
   },
   "outputs": [],
   "source": []
  },
  {
   "cell_type": "code",
   "execution_count": 71,
   "metadata": {
    "collapsed": true
   },
   "outputs": [],
   "source": [
    "le_1 = preprocessing.LabelEncoder()\n",
    "label_encoder_list[1] = le_1.fit(item_total)"
   ]
  },
  {
   "cell_type": "code",
   "execution_count": 72,
   "metadata": {},
   "outputs": [
    {
     "data": {
      "text/plain": [
       "array([[0, 30, 1, 28, 269601.0, 31.0],\n",
       "       [0, 31, 1, 28, 269601.0, 11.0],\n",
       "       [0, 32, 0, 28, 269601.0, 6.0],\n",
       "       ..., \n",
       "       [59, 21804, 9, 29, 1271766.0, 1.0],\n",
       "       [59, 21804, 11, 29, 1271766.0, 2.0],\n",
       "       [59, 21804, 5, 29, 1271766.0, 1.0]], dtype=object)"
      ]
     },
     "execution_count": 72,
     "metadata": {},
     "output_type": "execute_result"
    }
   ],
   "source": [
    "train_data"
   ]
  },
  {
   "cell_type": "code",
   "execution_count": 73,
   "metadata": {
    "collapsed": true
   },
   "outputs": [],
   "source": [
    "train_data[:,1]=label_encoder_list[1].transform(train_data[:,1])"
   ]
  },
  {
   "cell_type": "code",
   "execution_count": null,
   "metadata": {
    "collapsed": true
   },
   "outputs": [],
   "source": []
  },
  {
   "cell_type": "code",
   "execution_count": 74,
   "metadata": {},
   "outputs": [
    {
     "data": {
      "text/plain": [
       "array([[0, 30, 1, 28, 269601.0, 31.0],\n",
       "       [0, 31, 1, 28, 269601.0, 11.0],\n",
       "       [0, 32, 0, 28, 269601.0, 6.0],\n",
       "       [0, 32, 1, 28, 269601.0, 10.0],\n",
       "       [0, 33, 0, 28, 269601.0, 3.0],\n",
       "       [0, 33, 1, 28, 269601.0, 3.0],\n",
       "       [0, 35, 0, 28, 269601.0, 1.0],\n",
       "       [0, 35, 1, 28, 269601.0, 14.0],\n",
       "       [0, 36, 1, 28, 269601.0, 1.0],\n",
       "       [0, 40, 1, 28, 269601.0, 1.0]], dtype=object)"
      ]
     },
     "execution_count": 74,
     "metadata": {},
     "output_type": "execute_result"
    }
   ],
   "source": [
    "train_data [:10]"
   ]
  },
  {
   "cell_type": "code",
   "execution_count": 75,
   "metadata": {},
   "outputs": [
    {
     "data": {
      "text/plain": [
       "[LabelEncoder(), LabelEncoder(), LabelEncoder(), LabelEncoder()]"
      ]
     },
     "execution_count": 75,
     "metadata": {},
     "output_type": "execute_result"
    }
   ],
   "source": [
    "label_encoder_list"
   ]
  },
  {
   "cell_type": "markdown",
   "metadata": {},
   "source": [
    "#### Model apply to Test"
   ]
  },
  {
   "cell_type": "code",
   "execution_count": 76,
   "metadata": {},
   "outputs": [
    {
     "data": {
      "text/html": [
       "<div>\n",
       "<style>\n",
       "    .dataframe thead tr:only-child th {\n",
       "        text-align: right;\n",
       "    }\n",
       "\n",
       "    .dataframe thead th {\n",
       "        text-align: left;\n",
       "    }\n",
       "\n",
       "    .dataframe tbody tr th {\n",
       "        vertical-align: top;\n",
       "    }\n",
       "</style>\n",
       "<table border=\"1\" class=\"dataframe\">\n",
       "  <thead>\n",
       "    <tr style=\"text-align: right;\">\n",
       "      <th></th>\n",
       "      <th>shop_id</th>\n",
       "      <th>item_id</th>\n",
       "      <th>date_block_num</th>\n",
       "      <th>location_name</th>\n",
       "      <th>year2014</th>\n",
       "    </tr>\n",
       "  </thead>\n",
       "  <tbody>\n",
       "    <tr>\n",
       "      <th>0</th>\n",
       "      <td>5</td>\n",
       "      <td>5037</td>\n",
       "      <td>11</td>\n",
       "      <td>Vologda</td>\n",
       "      <td>1193371.00</td>\n",
       "    </tr>\n",
       "    <tr>\n",
       "      <th>1</th>\n",
       "      <td>5</td>\n",
       "      <td>5320</td>\n",
       "      <td>11</td>\n",
       "      <td>Vologda</td>\n",
       "      <td>1193371.00</td>\n",
       "    </tr>\n",
       "    <tr>\n",
       "      <th>2</th>\n",
       "      <td>5</td>\n",
       "      <td>5233</td>\n",
       "      <td>11</td>\n",
       "      <td>Vologda</td>\n",
       "      <td>1193371.00</td>\n",
       "    </tr>\n",
       "    <tr>\n",
       "      <th>3</th>\n",
       "      <td>5</td>\n",
       "      <td>5232</td>\n",
       "      <td>11</td>\n",
       "      <td>Vologda</td>\n",
       "      <td>1193371.00</td>\n",
       "    </tr>\n",
       "    <tr>\n",
       "      <th>4</th>\n",
       "      <td>5</td>\n",
       "      <td>5268</td>\n",
       "      <td>11</td>\n",
       "      <td>Vologda</td>\n",
       "      <td>1193371.00</td>\n",
       "    </tr>\n",
       "  </tbody>\n",
       "</table>\n",
       "</div>"
      ],
      "text/plain": [
       "   shop_id  item_id  date_block_num location_name   year2014\n",
       "0        5     5037              11       Vologda 1193371.00\n",
       "1        5     5320              11       Vologda 1193371.00\n",
       "2        5     5233              11       Vologda 1193371.00\n",
       "3        5     5232              11       Vologda 1193371.00\n",
       "4        5     5268              11       Vologda 1193371.00"
      ]
     },
     "execution_count": 76,
     "metadata": {},
     "output_type": "execute_result"
    }
   ],
   "source": [
    "df_test_pp_2.drop(['ID'],axis=1,inplace=True)\n",
    "df_test_pp_2.head()"
   ]
  },
  {
   "cell_type": "code",
   "execution_count": 77,
   "metadata": {},
   "outputs": [
    {
     "data": {
      "text/plain": [
       "array([[5, 5037, 11, 'Vologda', 1193371.0],\n",
       "       [5, 5320, 11, 'Vologda', 1193371.0],\n",
       "       [5, 5233, 11, 'Vologda', 1193371.0],\n",
       "       ..., \n",
       "       [45, 15757, 11, 'Samara', 3211187.0],\n",
       "       [45, 19648, 11, 'Samara', 3211187.0],\n",
       "       [45, 969, 11, 'Samara', 3211187.0]], dtype=object)"
      ]
     },
     "execution_count": 77,
     "metadata": {},
     "output_type": "execute_result"
    }
   ],
   "source": [
    "test_data = df_test_pp_2.as_matrix()\n",
    "test_data"
   ]
  },
  {
   "cell_type": "code",
   "execution_count": null,
   "metadata": {
    "collapsed": true
   },
   "outputs": [],
   "source": []
  },
  {
   "cell_type": "code",
   "execution_count": 78,
   "metadata": {},
   "outputs": [
    {
     "data": {
      "text/plain": [
       "array([[5, 5037, 10, 25, 1193371.0],\n",
       "       [5, 5320, 10, 25, 1193371.0],\n",
       "       [5, 5233, 10, 25, 1193371.0],\n",
       "       ..., \n",
       "       [45, 15757, 10, 19, 3211187.0],\n",
       "       [45, 19648, 10, 19, 3211187.0],\n",
       "       [45, 969, 10, 19, 3211187.0]], dtype=object)"
      ]
     },
     "execution_count": 78,
     "metadata": {},
     "output_type": "execute_result"
    }
   ],
   "source": [
    "test_data[:,0]=label_encoder_list[0].transform(test_data[:,0])\n",
    "test_data[:,1]=label_encoder_list[1].transform(test_data[:,1])\n",
    "test_data[:,2]=label_encoder_list[2].transform(test_data[:,2])\n",
    "test_data[:,3]=label_encoder_list[3].transform(test_data[:,3])\n",
    "\n",
    "test_data\n",
    "\n",
    "\n",
    "#ValueError: y contains new labels: [83 140 168 173 204 237 249 254 302 402 428 430 454 480 566 639 640 762 892\n",
    "#  900 907 1184 1193 1246 1252 1253 1254 1284 1386 1394 1434 1436 1437 1574\n",
    "#  1575 1577 1580 1585 1679 1683 1732 1864 1867 1884 1885 2322 2323 2324 2325\n",
    "#  2326 2327 2328 2420 2426 2427 2428 2434 2569 2722 2966 3022 3023 3271 3272\n",
    "#  3273 3282 3284 3338 3349 3354 3405 3407 3408 3538 3571 3579 3604 3627 3760\n",
    "#  3867 3908 3984 4060 4156 4310 4318 4412 4642 4925 5025 5064 5121 5248 5268\n",
    "#  5269 5320 5321 5322 5441 5541 5569 5667 5721 5722 5812 5826 5843 5844 5961\n",
    "#  5963 6152 6153 6169 6259 6335 6439 6519 6520 6521 6522 6523 6524 6525 6526\n",
    "#  6527 6528 6529 6530 6531 6532 6533 6645 6729 6730 6731 6732 6733 6734 6742\n",
    "#  6743 6863 6891 6903 6996 7094 7124 7572 7592 7607 7646 7647 7669 7727 7728\n",
    "#  7729 7730 7766 7782 7862 7926 8182 8191 8337 8354 8355 8545 8549 8551 8676\n",
    "#  8722 8760 8821 8822 8823 8824 8825 8826 8850 8890 8957 8968 8969 8993 9030\n",
    "#  9111 9344 9530 9537 9767 9972 10028 10045 10054 10069 10176 10203 10310\n",
    "#  10372 10483 10507 10747 10779 11267 11385 11762 11764 11765 11946 11974\n",
    "#  12117 12409 12441 12468 12469 12470 12471 12568 12574 12591 12802 12890\n",
    "#  12920 12961 13047 13096 13209 13231 13232 13242 13249 13250 13251 13257\n",
    "#  13263 13264 13271 13273 13275 13284 13295 13303 13309 13310 13313 13338\n",
    "#  13392 13394 13402 13445 13446 13447 13558 13559 13745 13804 13805 13846\n",
    "#  14383 14521 14647 14648 14662 14739 14760 14765 14784 14832 14959 14972\n",
    "#  15033 15034 15183 15329 15330 15418 15467 15553 15564 15566 15586 15665\n",
    "#  15667 16051 16095 16096 16097 16099 16139 16141 16157 16193 16498 16601\n",
    "#  16675 16811 16813 16976 17030 17117 17757 17858 17929 18174 18560 18627\n",
    "#  18913 18979 19048 19085 19155 19210 19219 19252 19417 19651 19773 19775\n",
    "#  19966 19973 20196 20378 20400 20401 20403 20439 20461 20476 20486 20535\n",
    "#  20560 20561 20577 20594 20599 20600 20677 20680 20760 20796 20836 20837\n",
    "#  20843 20845 20863 20878 20879 20880 20996 21196 21214 21354 21397 21453\n",
    "#  21467 21708 21828 21829 21953 21974 21975 22022 22035 22137]"
   ]
  },
  {
   "cell_type": "markdown",
   "metadata": {},
   "source": [
    "## 4. One-hot Encoding\n",
    "\n",
    "### Numeric type - > One hot encoding\n",
    "*  <1609124x21932 sparse matrix of type '<class 'numpy.float64'>'\n",
    "\twith 6436496 stored elements in Compressed Sparse Row format>\n",
    "* Memorry Error 발생\n",
    "\n",
    "\n",
    "* scipy의 csr_matrix 모듈 호출 필요(Sparse한 매트릭스 처리)"
   ]
  },
  {
   "cell_type": "markdown",
   "metadata": {},
   "source": [
    "### Train_data"
   ]
  },
  {
   "cell_type": "code",
   "execution_count": 79,
   "metadata": {
    "collapsed": true
   },
   "outputs": [],
   "source": [
    "def one_encoding(data, columns):\n",
    "    one_encoder_list=[]\n",
    "    for column_index in columns:\n",
    "        one = preprocessing.OneHotEncoder()\n",
    "        one.fit(data[:,column_index].reshape(-1,1))\n",
    "        \n",
    "        \n",
    "        one_encoder_list.append(one)\n",
    "        \n",
    "        del one\n",
    "        \n",
    "    \n",
    "    return one_encoder_list"
   ]
  },
  {
   "cell_type": "code",
   "execution_count": 80,
   "metadata": {
    "collapsed": true
   },
   "outputs": [],
   "source": [
    "one_encoder_list = one_encoding(train_data,[0,1,2,3])"
   ]
  },
  {
   "cell_type": "code",
   "execution_count": 81,
   "metadata": {},
   "outputs": [
    {
     "data": {
      "text/plain": [
       "[OneHotEncoder(categorical_features='all', dtype=<class 'numpy.float64'>,\n",
       "        handle_unknown='error', n_values='auto', sparse=True),\n",
       " OneHotEncoder(categorical_features='all', dtype=<class 'numpy.float64'>,\n",
       "        handle_unknown='error', n_values='auto', sparse=True),\n",
       " OneHotEncoder(categorical_features='all', dtype=<class 'numpy.float64'>,\n",
       "        handle_unknown='error', n_values='auto', sparse=True),\n",
       " OneHotEncoder(categorical_features='all', dtype=<class 'numpy.float64'>,\n",
       "        handle_unknown='error', n_values='auto', sparse=True)]"
      ]
     },
     "execution_count": 81,
     "metadata": {},
     "output_type": "execute_result"
    }
   ],
   "source": [
    "one_encoder_list"
   ]
  },
  {
   "cell_type": "markdown",
   "metadata": {},
   "source": [
    "### Item_id one_hot 조정"
   ]
  },
  {
   "cell_type": "code",
   "execution_count": 82,
   "metadata": {
    "collapsed": true
   },
   "outputs": [],
   "source": [
    "one_hot = preprocessing.OneHotEncoder()\n",
    "one_encoder_list[1] = one_hot.fit(item_total.reshape(-1,1))"
   ]
  },
  {
   "cell_type": "code",
   "execution_count": 83,
   "metadata": {},
   "outputs": [
    {
     "data": {
      "text/plain": [
       "<214200x60 sparse matrix of type '<class 'numpy.float64'>'\n",
       "\twith 214200 stored elements in Compressed Sparse Row format>"
      ]
     },
     "execution_count": 83,
     "metadata": {},
     "output_type": "execute_result"
    }
   ],
   "source": [
    "one_encoder_list[0].transform(test_data[:,0].reshape(-1,1))"
   ]
  },
  {
   "cell_type": "markdown",
   "metadata": {},
   "source": [
    "### one hot transform"
   ]
  },
  {
   "cell_type": "code",
   "execution_count": 84,
   "metadata": {
    "collapsed": true
   },
   "outputs": [],
   "source": [
    "import scipy.sparse as sp"
   ]
  },
  {
   "cell_type": "code",
   "execution_count": 85,
   "metadata": {},
   "outputs": [
    {
     "data": {
      "text/plain": [
       "<1609124x22273 sparse matrix of type '<class 'numpy.float64'>'\n",
       "\twith 6436496 stored elements in Compressed Sparse Row format>"
      ]
     },
     "execution_count": 85,
     "metadata": {},
     "output_type": "execute_result"
    }
   ],
   "source": [
    "train_data_2 = one_encoder_list[0].transform(train_data[:,0].reshape(-1,1))\n",
    "train_data_2 = sp.hstack((train_data_2,one_encoder_list[1].transform(train_data[:,1].reshape(-1,1))),format='csr')\n",
    "train_data_2 = sp.hstack((train_data_2,one_encoder_list[2].transform(train_data[:,2].reshape(-1,1))),format='csr')\n",
    "train_data_2 = sp.hstack((train_data_2,one_encoder_list[3].transform(train_data[:,3].reshape(-1,1))),format='csr')\n",
    "train_data_2"
   ]
  },
  {
   "cell_type": "code",
   "execution_count": 86,
   "metadata": {},
   "outputs": [
    {
     "data": {
      "text/plain": [
       "<214200x22273 sparse matrix of type '<class 'numpy.float64'>'\n",
       "\twith 856800 stored elements in Compressed Sparse Row format>"
      ]
     },
     "execution_count": 86,
     "metadata": {},
     "output_type": "execute_result"
    }
   ],
   "source": [
    "test_data_2 = one_encoder_list[0].transform(test_data[:,0].reshape(-1,1))\n",
    "test_data_2 = sp.hstack((test_data_2,one_encoder_list[1].transform(test_data[:,1].reshape(-1,1))),format='csr')\n",
    "test_data_2 = sp.hstack((test_data_2,one_encoder_list[2].transform(test_data[:,2].reshape(-1,1))),format='csr')\n",
    "test_data_2 = sp.hstack((test_data_2,one_encoder_list[3].transform(test_data[:,3].reshape(-1,1))),format='csr')\n",
    "test_data_2"
   ]
  },
  {
   "cell_type": "markdown",
   "metadata": {},
   "source": [
    "## 5. MinMax scaling\n",
    "\n",
    "\n",
    "* csr_matrix(shop_id, item_id, date_block_num,location)와  \n",
    "피쳐스케일링한 넘파이 어레이(year2014)  \n",
    "hstack\n",
    "\n",
    "\n",
    "* Min-Max의 값을 알 수 있기에 Min-Max 적용"
   ]
  },
  {
   "cell_type": "code",
   "execution_count": 87,
   "metadata": {},
   "outputs": [
    {
     "data": {
      "text/plain": [
       "array([269601.0, 269601.0, 269601.0, ..., 1271766.0, 1271766.0, 1271766.0], dtype=object)"
      ]
     },
     "execution_count": 87,
     "metadata": {},
     "output_type": "execute_result"
    }
   ],
   "source": [
    "train_data[:,4]"
   ]
  },
  {
   "cell_type": "code",
   "execution_count": 88,
   "metadata": {},
   "outputs": [
    {
     "name": "stderr",
     "output_type": "stream",
     "text": [
      "c:\\users\\cch88\\miniconda3\\envs\\ml_python\\lib\\site-packages\\sklearn\\utils\\validation.py:429: DataConversionWarning: Data with input dtype object was converted to float64 by MinMaxScaler.\n",
      "  warnings.warn(msg, _DataConversionWarning)\n",
      "c:\\users\\cch88\\miniconda3\\envs\\ml_python\\lib\\site-packages\\sklearn\\preprocessing\\data.py:321: DeprecationWarning: Passing 1d arrays as data is deprecated in 0.17 and will raise ValueError in 0.19. Reshape your data either using X.reshape(-1, 1) if your data has a single feature or X.reshape(1, -1) if it contains a single sample.\n",
      "  warnings.warn(DEPRECATION_MSG_1D, DeprecationWarning)\n",
      "c:\\users\\cch88\\miniconda3\\envs\\ml_python\\lib\\site-packages\\sklearn\\preprocessing\\data.py:356: DeprecationWarning: Passing 1d arrays as data is deprecated in 0.17 and will raise ValueError in 0.19. Reshape your data either using X.reshape(-1, 1) if your data has a single feature or X.reshape(1, -1) if it contains a single sample.\n",
      "  warnings.warn(DEPRECATION_MSG_1D, DeprecationWarning)\n"
     ]
    },
    {
     "data": {
      "text/plain": [
       "array([ 0.01733807,  0.01733807,  0.01733807, ...,  0.10052229,\n",
       "        0.10052229,  0.10052229])"
      ]
     },
     "execution_count": 88,
     "metadata": {},
     "output_type": "execute_result"
    }
   ],
   "source": [
    "minmax_scale = preprocessing.MinMaxScaler().fit(train_data[:,4])\n",
    "train_minmax = minmax_scale.transform(train_data[:,4])\n",
    "\n",
    "train_minmax[:]"
   ]
  },
  {
   "cell_type": "code",
   "execution_count": 89,
   "metadata": {},
   "outputs": [
    {
     "name": "stderr",
     "output_type": "stream",
     "text": [
      "c:\\users\\cch88\\miniconda3\\envs\\ml_python\\lib\\site-packages\\sklearn\\preprocessing\\data.py:356: DeprecationWarning: Passing 1d arrays as data is deprecated in 0.17 and will raise ValueError in 0.19. Reshape your data either using X.reshape(-1, 1) if your data has a single feature or X.reshape(1, -1) if it contains a single sample.\n",
      "  warnings.warn(DEPRECATION_MSG_1D, DeprecationWarning)\n"
     ]
    }
   ],
   "source": [
    "test_minmax = minmax_scale.transform(test_data[:,4])"
   ]
  },
  {
   "cell_type": "code",
   "execution_count": 90,
   "metadata": {},
   "outputs": [
    {
     "data": {
      "text/plain": [
       "array([ 0.09401515,  0.09401515,  0.09401515, ...,  0.26150299,\n",
       "        0.26150299,  0.26150299])"
      ]
     },
     "execution_count": 90,
     "metadata": {},
     "output_type": "execute_result"
    }
   ],
   "source": [
    "test_minmax"
   ]
  },
  {
   "cell_type": "markdown",
   "metadata": {},
   "source": [
    "### 스케일링한 값 csr매트릭스와 hstack ,X밸류 생성"
   ]
  },
  {
   "cell_type": "code",
   "execution_count": 91,
   "metadata": {},
   "outputs": [
    {
     "data": {
      "text/plain": [
       "array([[ 0.01733807],\n",
       "       [ 0.01733807],\n",
       "       [ 0.01733807],\n",
       "       ..., \n",
       "       [ 0.10052229],\n",
       "       [ 0.10052229],\n",
       "       [ 0.10052229]])"
      ]
     },
     "execution_count": 91,
     "metadata": {},
     "output_type": "execute_result"
    }
   ],
   "source": [
    "train_minmax.reshape(-1,1)"
   ]
  },
  {
   "cell_type": "code",
   "execution_count": 92,
   "metadata": {
    "collapsed": true
   },
   "outputs": [],
   "source": [
    "x_train =sp.hstack((train_data_2,train_minmax.reshape(-1,1)),format='csr')"
   ]
  },
  {
   "cell_type": "code",
   "execution_count": 93,
   "metadata": {
    "collapsed": true
   },
   "outputs": [],
   "source": [
    "x_test = sp.hstack((test_data_2,test_minmax.reshape(-1,1)),format='csr')"
   ]
  },
  {
   "cell_type": "markdown",
   "metadata": {},
   "source": [
    "## 6. LinearRegression"
   ]
  },
  {
   "cell_type": "code",
   "execution_count": 94,
   "metadata": {},
   "outputs": [
    {
     "data": {
      "text/plain": [
       "<1609124x22274 sparse matrix of type '<class 'numpy.float64'>'\n",
       "\twith 8001744 stored elements in Compressed Sparse Row format>"
      ]
     },
     "execution_count": 94,
     "metadata": {},
     "output_type": "execute_result"
    }
   ],
   "source": [
    "x_train"
   ]
  },
  {
   "cell_type": "code",
   "execution_count": 95,
   "metadata": {},
   "outputs": [
    {
     "data": {
      "text/plain": [
       "<214200x22274 sparse matrix of type '<class 'numpy.float64'>'\n",
       "\twith 1065900 stored elements in Compressed Sparse Row format>"
      ]
     },
     "execution_count": 95,
     "metadata": {},
     "output_type": "execute_result"
    }
   ],
   "source": [
    "x_test"
   ]
  },
  {
   "cell_type": "code",
   "execution_count": 96,
   "metadata": {},
   "outputs": [
    {
     "data": {
      "text/plain": [
       "array([[31.0],\n",
       "       [11.0],\n",
       "       [6.0],\n",
       "       ..., \n",
       "       [1.0],\n",
       "       [2.0],\n",
       "       [1.0]], dtype=object)"
      ]
     },
     "execution_count": 96,
     "metadata": {},
     "output_type": "execute_result"
    }
   ],
   "source": [
    "y_train= train_data[:,-1].reshape(-1,1)\n",
    "y_train"
   ]
  },
  {
   "cell_type": "code",
   "execution_count": null,
   "metadata": {
    "collapsed": true
   },
   "outputs": [],
   "source": [
    "from sklearn.linear_model import LinearRegression"
   ]
  },
  {
   "cell_type": "code",
   "execution_count": null,
   "metadata": {},
   "outputs": [],
   "source": [
    "slr = LinearRegression()\n",
    "slr.fit(x_train,y_train) #LinearRegression(copy_X=True, fit_intercept=True, n_jobs=1, normalize=False)"
   ]
  },
  {
   "cell_type": "code",
   "execution_count": null,
   "metadata": {},
   "outputs": [],
   "source": [
    "# 모델 계수 추정\n",
    "# print('Slope: %.3f' % slr.coef_)\n",
    "print('===================================')\n",
    "print('Intercept: %.3f' % slr.intercept_)"
   ]
  },
  {
   "cell_type": "code",
   "execution_count": null,
   "metadata": {
    "collapsed": true
   },
   "outputs": [],
   "source": [
    "y_test_pred = slr.predict(x_test)"
   ]
  },
  {
   "cell_type": "code",
   "execution_count": null,
   "metadata": {},
   "outputs": [],
   "source": [
    "y_test_pred### 양수화 하기 전의 내용"
   ]
  },
  {
   "cell_type": "code",
   "execution_count": null,
   "metadata": {
    "collapsed": true
   },
   "outputs": [],
   "source": [
    "absolute_y_pred = np.absolute(y_test_pred)"
   ]
  },
  {
   "cell_type": "code",
   "execution_count": null,
   "metadata": {
    "scrolled": true
   },
   "outputs": [],
   "source": [
    "df_submit = pd.DataFrame(data=y_test_pred, columns=['item_cnt_month'])\n",
    "df_submit.index.name = 'ID'\n",
    "df_submit.to_csv('1st_submit_Predict_Future_Sales',sep=\",\")\n",
    "df_submit.head()"
   ]
  },
  {
   "cell_type": "code",
   "execution_count": null,
   "metadata": {},
   "outputs": [],
   "source": [
    "df_submit_2 = pd.DataFrame(data=absolute_y_pred, columns=['item_cnt_month'])\n",
    "df_submit_2.index.name = 'ID'\n",
    "df_submit_2.to_csv('Abs_trans_Predict_Future_Sales',sep=\",\")\n",
    "df_submit_2.head()"
   ]
  },
  {
   "cell_type": "markdown",
   "metadata": {},
   "source": [
    "# END RMSE 33.......\n",
    "# Drop"
   ]
  },
  {
   "cell_type": "code",
   "execution_count": null,
   "metadata": {
    "collapsed": true
   },
   "outputs": [],
   "source": []
  }
 ],
 "metadata": {
  "kernelspec": {
   "display_name": "Python 3",
   "language": "python",
   "name": "python3"
  },
  "language_info": {
   "codemirror_mode": {
    "name": "ipython",
    "version": 3
   },
   "file_extension": ".py",
   "mimetype": "text/x-python",
   "name": "python",
   "nbconvert_exporter": "python",
   "pygments_lexer": "ipython3",
   "version": "3.5.0"
  }
 },
 "nbformat": 4,
 "nbformat_minor": 2
}
