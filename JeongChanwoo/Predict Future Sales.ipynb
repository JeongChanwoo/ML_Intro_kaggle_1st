{
 "cells": [
  {
   "cell_type": "markdown",
   "metadata": {},
   "source": [
    "## Data & module Loading"
   ]
  },
  {
   "cell_type": "code",
   "execution_count": 2,
   "metadata": {
    "collapsed": true
   },
   "outputs": [],
   "source": [
    "import pandas as pd\n",
    "import numpy as np\n",
    "import matplotlib.pyplot as plt\n",
    "from googletrans import Translator\n",
    "import googletrans\n",
    "%matplotlib inline"
   ]
  },
  {
   "cell_type": "code",
   "execution_count": 3,
   "metadata": {
    "collapsed": true
   },
   "outputs": [],
   "source": [
    "df_train = pd.read_csv('./data/sales_train.csv.gz',)\n",
    "df_test = pd.read_csv('./data/test.csv.gz')\n",
    "df_items = pd.read_csv('./data/items.csv')\n",
    "df_item_categories = pd.read_csv('./data/item_categories.csv')\n",
    "df_shop = pd.read_csv('./data/shops.csv')\n",
    "df_sample_submission = pd.read_csv('./data/sample_submission.csv.gz')"
   ]
  },
  {
   "cell_type": "markdown",
   "metadata": {},
   "source": [
    "## Data shape & structure\n",
    "###  df_train\n",
    "* date : 2013년 2월 부터 2015년 10월 까지\n",
    "* date_block_num : 2013년 1월 부터 2015년 12월 까지 순서대로(0~33)\n",
    "* shop_id\n",
    "* item_price\n",
    "* item_cnt_day : 판매량(마이너스 경우 반품), train의 Y값\n",
    "\n",
    "\n",
    "* shape : (2935849, 6)\n",
    "* 수치형 : item_price, item_cnt_day // 카테고리형 : date, date_block_num, shop_id, itme_id\n",
    "\n",
    "\n",
    "### df_test\n",
    "* ID : Key index\n",
    "* shop_id\n",
    "* item_id\n",
    "\n",
    "\n",
    "* shape : (214200, 3)\n",
    "* Target : item_cnt_day"
   ]
  },
  {
   "cell_type": "code",
   "execution_count": 4,
   "metadata": {
    "scrolled": false
   },
   "outputs": [
    {
     "data": {
      "text/html": [
       "<div>\n",
       "<style>\n",
       "    .dataframe thead tr:only-child th {\n",
       "        text-align: right;\n",
       "    }\n",
       "\n",
       "    .dataframe thead th {\n",
       "        text-align: left;\n",
       "    }\n",
       "\n",
       "    .dataframe tbody tr th {\n",
       "        vertical-align: top;\n",
       "    }\n",
       "</style>\n",
       "<table border=\"1\" class=\"dataframe\">\n",
       "  <thead>\n",
       "    <tr style=\"text-align: right;\">\n",
       "      <th></th>\n",
       "      <th>date</th>\n",
       "      <th>date_block_num</th>\n",
       "      <th>shop_id</th>\n",
       "      <th>item_id</th>\n",
       "      <th>item_price</th>\n",
       "      <th>item_cnt_day</th>\n",
       "    </tr>\n",
       "  </thead>\n",
       "  <tbody>\n",
       "    <tr>\n",
       "      <th>0</th>\n",
       "      <td>02.01.2013</td>\n",
       "      <td>0</td>\n",
       "      <td>59</td>\n",
       "      <td>22154</td>\n",
       "      <td>999.00</td>\n",
       "      <td>1.0</td>\n",
       "    </tr>\n",
       "    <tr>\n",
       "      <th>1</th>\n",
       "      <td>03.01.2013</td>\n",
       "      <td>0</td>\n",
       "      <td>25</td>\n",
       "      <td>2552</td>\n",
       "      <td>899.00</td>\n",
       "      <td>1.0</td>\n",
       "    </tr>\n",
       "    <tr>\n",
       "      <th>2</th>\n",
       "      <td>05.01.2013</td>\n",
       "      <td>0</td>\n",
       "      <td>25</td>\n",
       "      <td>2552</td>\n",
       "      <td>899.00</td>\n",
       "      <td>-1.0</td>\n",
       "    </tr>\n",
       "    <tr>\n",
       "      <th>3</th>\n",
       "      <td>06.01.2013</td>\n",
       "      <td>0</td>\n",
       "      <td>25</td>\n",
       "      <td>2554</td>\n",
       "      <td>1709.05</td>\n",
       "      <td>1.0</td>\n",
       "    </tr>\n",
       "    <tr>\n",
       "      <th>4</th>\n",
       "      <td>15.01.2013</td>\n",
       "      <td>0</td>\n",
       "      <td>25</td>\n",
       "      <td>2555</td>\n",
       "      <td>1099.00</td>\n",
       "      <td>1.0</td>\n",
       "    </tr>\n",
       "  </tbody>\n",
       "</table>\n",
       "</div>"
      ],
      "text/plain": [
       "         date  date_block_num  shop_id  item_id  item_price  item_cnt_day\n",
       "0  02.01.2013               0       59    22154      999.00           1.0\n",
       "1  03.01.2013               0       25     2552      899.00           1.0\n",
       "2  05.01.2013               0       25     2552      899.00          -1.0\n",
       "3  06.01.2013               0       25     2554     1709.05           1.0\n",
       "4  15.01.2013               0       25     2555     1099.00           1.0"
      ]
     },
     "execution_count": 4,
     "metadata": {},
     "output_type": "execute_result"
    }
   ],
   "source": [
    "df_train.head()"
   ]
  },
  {
   "cell_type": "markdown",
   "metadata": {},
   "source": [
    "### 가게의 상품 월별 매출"
   ]
  },
  {
   "cell_type": "code",
   "execution_count": null,
   "metadata": {
    "collapsed": true
   },
   "outputs": [],
   "source": []
  },
  {
   "cell_type": "code",
   "execution_count": 5,
   "metadata": {},
   "outputs": [
    {
     "data": {
      "text/plain": [
       "array([ 0,  1,  2,  3,  4,  5,  6,  7,  8,  9, 10, 11, 12, 13, 14, 15, 16,\n",
       "       17, 18, 19, 20, 21, 22, 23, 24, 25, 26, 27, 28, 29, 30, 31, 32, 33,\n",
       "       34, 35, 36, 37, 38, 39, 40, 41, 42, 43, 44, 45, 46, 47, 48, 49, 50,\n",
       "       51, 52, 53, 54, 55, 56, 57, 58, 59], dtype=int64)"
      ]
     },
     "execution_count": 5,
     "metadata": {},
     "output_type": "execute_result"
    }
   ],
   "source": [
    "np.sort(df_train['shop_id'].unique())"
   ]
  },
  {
   "cell_type": "code",
   "execution_count": 6,
   "metadata": {},
   "outputs": [
    {
     "data": {
      "text/plain": [
       "(60,)"
      ]
     },
     "execution_count": 6,
     "metadata": {},
     "output_type": "execute_result"
    }
   ],
   "source": [
    "df_train['shop_id'].unique().shape #Train 데이터의 shop ID 수 60"
   ]
  },
  {
   "cell_type": "code",
   "execution_count": 7,
   "metadata": {},
   "outputs": [
    {
     "data": {
      "text/html": [
       "<div>\n",
       "<style>\n",
       "    .dataframe thead tr:only-child th {\n",
       "        text-align: right;\n",
       "    }\n",
       "\n",
       "    .dataframe thead th {\n",
       "        text-align: left;\n",
       "    }\n",
       "\n",
       "    .dataframe tbody tr th {\n",
       "        vertical-align: top;\n",
       "    }\n",
       "</style>\n",
       "<table border=\"1\" class=\"dataframe\">\n",
       "  <thead>\n",
       "    <tr style=\"text-align: right;\">\n",
       "      <th></th>\n",
       "      <th>ID</th>\n",
       "      <th>shop_id</th>\n",
       "      <th>item_id</th>\n",
       "    </tr>\n",
       "  </thead>\n",
       "  <tbody>\n",
       "    <tr>\n",
       "      <th>0</th>\n",
       "      <td>0</td>\n",
       "      <td>5</td>\n",
       "      <td>5037</td>\n",
       "    </tr>\n",
       "    <tr>\n",
       "      <th>1</th>\n",
       "      <td>1</td>\n",
       "      <td>5</td>\n",
       "      <td>5320</td>\n",
       "    </tr>\n",
       "    <tr>\n",
       "      <th>2</th>\n",
       "      <td>2</td>\n",
       "      <td>5</td>\n",
       "      <td>5233</td>\n",
       "    </tr>\n",
       "    <tr>\n",
       "      <th>3</th>\n",
       "      <td>3</td>\n",
       "      <td>5</td>\n",
       "      <td>5232</td>\n",
       "    </tr>\n",
       "    <tr>\n",
       "      <th>4</th>\n",
       "      <td>4</td>\n",
       "      <td>5</td>\n",
       "      <td>5268</td>\n",
       "    </tr>\n",
       "  </tbody>\n",
       "</table>\n",
       "</div>"
      ],
      "text/plain": [
       "   ID  shop_id  item_id\n",
       "0   0        5     5037\n",
       "1   1        5     5320\n",
       "2   2        5     5233\n",
       "3   3        5     5232\n",
       "4   4        5     5268"
      ]
     },
     "execution_count": 7,
     "metadata": {},
     "output_type": "execute_result"
    }
   ],
   "source": [
    "df_test.head()"
   ]
  },
  {
   "cell_type": "code",
   "execution_count": 8,
   "metadata": {},
   "outputs": [
    {
     "data": {
      "text/plain": [
       "array([ 2,  3,  4,  5,  6,  7, 10, 12, 14, 15, 16, 18, 19, 21, 22, 24, 25,\n",
       "       26, 28, 31, 34, 35, 36, 37, 38, 39, 41, 42, 44, 45, 46, 47, 48, 49,\n",
       "       50, 52, 53, 55, 56, 57, 58, 59], dtype=int64)"
      ]
     },
     "execution_count": 8,
     "metadata": {},
     "output_type": "execute_result"
    }
   ],
   "source": [
    "np.sort(df_test['shop_id'].unique())"
   ]
  },
  {
   "cell_type": "code",
   "execution_count": 9,
   "metadata": {},
   "outputs": [
    {
     "data": {
      "text/plain": [
       "(42,)"
      ]
     },
     "execution_count": 9,
     "metadata": {},
     "output_type": "execute_result"
    }
   ],
   "source": [
    "df_test['shop_id'].unique().shape # Test 데이터의 shop ID 수 42"
   ]
  },
  {
   "cell_type": "markdown",
   "metadata": {},
   "source": [
    "* 1, 8, 9, 11, 13, 17, 20, 23, 27, 32, 40, 43, 51, 54 가게 test에 없음"
   ]
  },
  {
   "cell_type": "code",
   "execution_count": 10,
   "metadata": {
    "scrolled": true
   },
   "outputs": [
    {
     "data": {
      "text/html": [
       "<div>\n",
       "<style>\n",
       "    .dataframe thead tr:only-child th {\n",
       "        text-align: right;\n",
       "    }\n",
       "\n",
       "    .dataframe thead th {\n",
       "        text-align: left;\n",
       "    }\n",
       "\n",
       "    .dataframe tbody tr th {\n",
       "        vertical-align: top;\n",
       "    }\n",
       "</style>\n",
       "<table border=\"1\" class=\"dataframe\">\n",
       "  <thead>\n",
       "    <tr style=\"text-align: right;\">\n",
       "      <th></th>\n",
       "      <th>item_name</th>\n",
       "      <th>item_id</th>\n",
       "      <th>item_category_id</th>\n",
       "    </tr>\n",
       "  </thead>\n",
       "  <tbody>\n",
       "    <tr>\n",
       "      <th>0</th>\n",
       "      <td>! ВО ВЛАСТИ НАВАЖДЕНИЯ (ПЛАСТ.)         D</td>\n",
       "      <td>0</td>\n",
       "      <td>40</td>\n",
       "    </tr>\n",
       "    <tr>\n",
       "      <th>1</th>\n",
       "      <td>!ABBYY FineReader 12 Professional Edition Full...</td>\n",
       "      <td>1</td>\n",
       "      <td>76</td>\n",
       "    </tr>\n",
       "    <tr>\n",
       "      <th>2</th>\n",
       "      <td>***В ЛУЧАХ СЛАВЫ   (UNV)                    D</td>\n",
       "      <td>2</td>\n",
       "      <td>40</td>\n",
       "    </tr>\n",
       "    <tr>\n",
       "      <th>3</th>\n",
       "      <td>***ГОЛУБАЯ ВОЛНА  (Univ)                      D</td>\n",
       "      <td>3</td>\n",
       "      <td>40</td>\n",
       "    </tr>\n",
       "    <tr>\n",
       "      <th>4</th>\n",
       "      <td>***КОРОБКА (СТЕКЛО)                       D</td>\n",
       "      <td>4</td>\n",
       "      <td>40</td>\n",
       "    </tr>\n",
       "  </tbody>\n",
       "</table>\n",
       "</div>"
      ],
      "text/plain": [
       "                                           item_name  item_id  \\\n",
       "0          ! ВО ВЛАСТИ НАВАЖДЕНИЯ (ПЛАСТ.)         D        0   \n",
       "1  !ABBYY FineReader 12 Professional Edition Full...        1   \n",
       "2      ***В ЛУЧАХ СЛАВЫ   (UNV)                    D        2   \n",
       "3    ***ГОЛУБАЯ ВОЛНА  (Univ)                      D        3   \n",
       "4        ***КОРОБКА (СТЕКЛО)                       D        4   \n",
       "\n",
       "   item_category_id  \n",
       "0                40  \n",
       "1                76  \n",
       "2                40  \n",
       "3                40  \n",
       "4                40  "
      ]
     },
     "execution_count": 10,
     "metadata": {},
     "output_type": "execute_result"
    }
   ],
   "source": [
    "df_items.head() # item_name이 키릴 문자로 변환 해서 지역명을 볼 수 있도록 하겠음"
   ]
  },
  {
   "cell_type": "code",
   "execution_count": 11,
   "metadata": {
    "collapsed": true
   },
   "outputs": [],
   "source": [
    "translator = Translator()"
   ]
  },
  {
   "cell_type": "code",
   "execution_count": 12,
   "metadata": {},
   "outputs": [
    {
     "name": "stdout",
     "output_type": "stream",
     "text": [
      "Translated(src=ru, dest=en, text=!! IN THE POWER OF HAPPINESS (PLAST) D, pronunciation=None)\n",
      "!! IN THE POWER OF HAPPINESS (PLAST) D\n"
     ]
    }
   ],
   "source": [
    "a = translator.translate(df_items['item_name'][0],dest='en')\n",
    "print (a)\n",
    "print(a.text)"
   ]
  },
  {
   "cell_type": "markdown",
   "metadata": {},
   "source": [
    "### 키릴 문자 변환(함수 생성)"
   ]
  },
  {
   "cell_type": "code",
   "execution_count": 13,
   "metadata": {
    "collapsed": true
   },
   "outputs": [],
   "source": [
    "# translator = Translator()\n",
    "# trans_ranguage = lambda x : ((translator.translate(x, dest='en')).text) #람다는 한번 쓰면 끝?"
   ]
  },
  {
   "cell_type": "code",
   "execution_count": null,
   "metadata": {
    "collapsed": true
   },
   "outputs": [],
   "source": []
  },
  {
   "cell_type": "code",
   "execution_count": 14,
   "metadata": {
    "collapsed": true
   },
   "outputs": [],
   "source": [
    "def russian_translate(series):\n",
    "    translator = Translator()\n",
    "    translate = lambda x : ((translator.translate(x, dest='en',src='ru')).text)\n",
    "    value = np.array(list(map(translate,series.values)))\n",
    "    return np.reshape(value,(-1,1))\n",
    "    #칼럼의 시리즈를 받아서\n",
    "    #해당 시리즈에 맞는 넘파이 어레이로 반환"
   ]
  },
  {
   "cell_type": "code",
   "execution_count": 15,
   "metadata": {
    "collapsed": true
   },
   "outputs": [],
   "source": [
    "df_item_categories['item_category_name']= russian_translate(df_item_categories['item_category_name'])\n",
    "df_shop['shop_name']=russian_translate(df_shop['shop_name'])\n",
    "\n",
    "# df_items['item_name']=russian_translate(df_items['item_name'])\n",
    "# JSONDecodeError: Expecting value: line 1 column 1 (char 0)"
   ]
  },
  {
   "cell_type": "code",
   "execution_count": 16,
   "metadata": {},
   "outputs": [
    {
     "data": {
      "text/html": [
       "<div>\n",
       "<style>\n",
       "    .dataframe thead tr:only-child th {\n",
       "        text-align: right;\n",
       "    }\n",
       "\n",
       "    .dataframe thead th {\n",
       "        text-align: left;\n",
       "    }\n",
       "\n",
       "    .dataframe tbody tr th {\n",
       "        vertical-align: top;\n",
       "    }\n",
       "</style>\n",
       "<table border=\"1\" class=\"dataframe\">\n",
       "  <thead>\n",
       "    <tr style=\"text-align: right;\">\n",
       "      <th></th>\n",
       "      <th>item_category_name</th>\n",
       "      <th>item_category_id</th>\n",
       "    </tr>\n",
       "  </thead>\n",
       "  <tbody>\n",
       "    <tr>\n",
       "      <th>0</th>\n",
       "      <td>PC - Headsets / Headphones</td>\n",
       "      <td>0</td>\n",
       "    </tr>\n",
       "    <tr>\n",
       "      <th>1</th>\n",
       "      <td>Accessories - PS2</td>\n",
       "      <td>1</td>\n",
       "    </tr>\n",
       "    <tr>\n",
       "      <th>2</th>\n",
       "      <td>Accessories - PS3</td>\n",
       "      <td>2</td>\n",
       "    </tr>\n",
       "    <tr>\n",
       "      <th>3</th>\n",
       "      <td>Accessories - PS4</td>\n",
       "      <td>3</td>\n",
       "    </tr>\n",
       "    <tr>\n",
       "      <th>4</th>\n",
       "      <td>Accessories - PSP</td>\n",
       "      <td>4</td>\n",
       "    </tr>\n",
       "  </tbody>\n",
       "</table>\n",
       "</div>"
      ],
      "text/plain": [
       "           item_category_name  item_category_id\n",
       "0  PC - Headsets / Headphones                 0\n",
       "1           Accessories - PS2                 1\n",
       "2           Accessories - PS3                 2\n",
       "3           Accessories - PS4                 3\n",
       "4           Accessories - PSP                 4"
      ]
     },
     "execution_count": 16,
     "metadata": {},
     "output_type": "execute_result"
    }
   ],
   "source": [
    "df_item_categories.head()"
   ]
  },
  {
   "cell_type": "code",
   "execution_count": 17,
   "metadata": {
    "collapsed": true
   },
   "outputs": [],
   "source": [
    "# list(map(trans_ranguage,np.reshape( df_item_categories['item_category_name'].values, (-1,1))))\n",
    "# np.array(list(map(trans_ranguage,np.reshape (df_items_trans_test['item_name'].values,(-1,1))))) # 이방식으로 할거\n",
    "# df_items_trans_test.head()\n",
    "\n",
    "# np.array(list(map(trans_ranguage,df_item_categories['item_category_name'].values)))"
   ]
  },
  {
   "cell_type": "code",
   "execution_count": null,
   "metadata": {
    "collapsed": true
   },
   "outputs": [],
   "source": []
  },
  {
   "cell_type": "code",
   "execution_count": 18,
   "metadata": {},
   "outputs": [
    {
     "data": {
      "text/html": [
       "<div>\n",
       "<style>\n",
       "    .dataframe thead tr:only-child th {\n",
       "        text-align: right;\n",
       "    }\n",
       "\n",
       "    .dataframe thead th {\n",
       "        text-align: left;\n",
       "    }\n",
       "\n",
       "    .dataframe tbody tr th {\n",
       "        vertical-align: top;\n",
       "    }\n",
       "</style>\n",
       "<table border=\"1\" class=\"dataframe\">\n",
       "  <thead>\n",
       "    <tr style=\"text-align: right;\">\n",
       "      <th></th>\n",
       "      <th>item_category_name</th>\n",
       "      <th>item_category_id</th>\n",
       "    </tr>\n",
       "  </thead>\n",
       "  <tbody>\n",
       "    <tr>\n",
       "      <th>0</th>\n",
       "      <td>PC - Headsets / Headphones</td>\n",
       "      <td>0</td>\n",
       "    </tr>\n",
       "    <tr>\n",
       "      <th>1</th>\n",
       "      <td>Accessories - PS2</td>\n",
       "      <td>1</td>\n",
       "    </tr>\n",
       "    <tr>\n",
       "      <th>2</th>\n",
       "      <td>Accessories - PS3</td>\n",
       "      <td>2</td>\n",
       "    </tr>\n",
       "    <tr>\n",
       "      <th>3</th>\n",
       "      <td>Accessories - PS4</td>\n",
       "      <td>3</td>\n",
       "    </tr>\n",
       "    <tr>\n",
       "      <th>4</th>\n",
       "      <td>Accessories - PSP</td>\n",
       "      <td>4</td>\n",
       "    </tr>\n",
       "  </tbody>\n",
       "</table>\n",
       "</div>"
      ],
      "text/plain": [
       "           item_category_name  item_category_id\n",
       "0  PC - Headsets / Headphones                 0\n",
       "1           Accessories - PS2                 1\n",
       "2           Accessories - PS3                 2\n",
       "3           Accessories - PS4                 3\n",
       "4           Accessories - PSP                 4"
      ]
     },
     "execution_count": 18,
     "metadata": {},
     "output_type": "execute_result"
    }
   ],
   "source": [
    "df_item_categories.head() #키릴 문자 변환 후 카테고리 분석"
   ]
  },
  {
   "cell_type": "code",
   "execution_count": 19,
   "metadata": {
    "scrolled": true
   },
   "outputs": [
    {
     "data": {
      "text/html": [
       "<div>\n",
       "<style>\n",
       "    .dataframe thead tr:only-child th {\n",
       "        text-align: right;\n",
       "    }\n",
       "\n",
       "    .dataframe thead th {\n",
       "        text-align: left;\n",
       "    }\n",
       "\n",
       "    .dataframe tbody tr th {\n",
       "        vertical-align: top;\n",
       "    }\n",
       "</style>\n",
       "<table border=\"1\" class=\"dataframe\">\n",
       "  <thead>\n",
       "    <tr style=\"text-align: right;\">\n",
       "      <th></th>\n",
       "      <th>shop_name</th>\n",
       "      <th>shop_id</th>\n",
       "    </tr>\n",
       "  </thead>\n",
       "  <tbody>\n",
       "    <tr>\n",
       "      <th>0</th>\n",
       "      <td>Yakutsk Ordzhonikidze, 56 francs</td>\n",
       "      <td>0</td>\n",
       "    </tr>\n",
       "    <tr>\n",
       "      <th>1</th>\n",
       "      <td>Yakutsk TC \"Central\" franc</td>\n",
       "      <td>1</td>\n",
       "    </tr>\n",
       "    <tr>\n",
       "      <th>2</th>\n",
       "      <td>Adygea Shopping Center \"Mega\"</td>\n",
       "      <td>2</td>\n",
       "    </tr>\n",
       "    <tr>\n",
       "      <th>3</th>\n",
       "      <td>Balashikha TRK \"October-Kinomir\"</td>\n",
       "      <td>3</td>\n",
       "    </tr>\n",
       "    <tr>\n",
       "      <th>4</th>\n",
       "      <td>Volzhsky shopping center \"Volga Mall\"</td>\n",
       "      <td>4</td>\n",
       "    </tr>\n",
       "  </tbody>\n",
       "</table>\n",
       "</div>"
      ],
      "text/plain": [
       "                               shop_name  shop_id\n",
       "0       Yakutsk Ordzhonikidze, 56 francs        0\n",
       "1             Yakutsk TC \"Central\" franc        1\n",
       "2          Adygea Shopping Center \"Mega\"        2\n",
       "3       Balashikha TRK \"October-Kinomir\"        3\n",
       "4  Volzhsky shopping center \"Volga Mall\"        4"
      ]
     },
     "execution_count": 19,
     "metadata": {},
     "output_type": "execute_result"
    }
   ],
   "source": [
    "df_shop.head() #상동"
   ]
  },
  {
   "cell_type": "code",
   "execution_count": 20,
   "metadata": {},
   "outputs": [
    {
     "data": {
      "text/plain": [
       "(60, 2)"
      ]
     },
     "execution_count": 20,
     "metadata": {},
     "output_type": "execute_result"
    }
   ],
   "source": [
    "df_shop.shape"
   ]
  },
  {
   "cell_type": "code",
   "execution_count": 158,
   "metadata": {},
   "outputs": [
    {
     "data": {
      "text/html": [
       "<div>\n",
       "<style>\n",
       "    .dataframe thead tr:only-child th {\n",
       "        text-align: right;\n",
       "    }\n",
       "\n",
       "    .dataframe thead th {\n",
       "        text-align: left;\n",
       "    }\n",
       "\n",
       "    .dataframe tbody tr th {\n",
       "        vertical-align: top;\n",
       "    }\n",
       "</style>\n",
       "<table border=\"1\" class=\"dataframe\">\n",
       "  <thead>\n",
       "    <tr style=\"text-align: right;\">\n",
       "      <th></th>\n",
       "      <th>ID</th>\n",
       "      <th>item_cnt_month</th>\n",
       "    </tr>\n",
       "  </thead>\n",
       "  <tbody>\n",
       "    <tr>\n",
       "      <th>0</th>\n",
       "      <td>0</td>\n",
       "      <td>0.50</td>\n",
       "    </tr>\n",
       "    <tr>\n",
       "      <th>1</th>\n",
       "      <td>1</td>\n",
       "      <td>0.50</td>\n",
       "    </tr>\n",
       "    <tr>\n",
       "      <th>2</th>\n",
       "      <td>2</td>\n",
       "      <td>0.50</td>\n",
       "    </tr>\n",
       "    <tr>\n",
       "      <th>3</th>\n",
       "      <td>3</td>\n",
       "      <td>0.50</td>\n",
       "    </tr>\n",
       "    <tr>\n",
       "      <th>4</th>\n",
       "      <td>4</td>\n",
       "      <td>0.50</td>\n",
       "    </tr>\n",
       "  </tbody>\n",
       "</table>\n",
       "</div>"
      ],
      "text/plain": [
       "   ID  item_cnt_month\n",
       "0   0            0.50\n",
       "1   1            0.50\n",
       "2   2            0.50\n",
       "3   3            0.50\n",
       "4   4            0.50"
      ]
     },
     "execution_count": 158,
     "metadata": {},
     "output_type": "execute_result"
    }
   ],
   "source": [
    "df_sample_submission.head()"
   ]
  },
  {
   "cell_type": "markdown",
   "metadata": {},
   "source": [
    "## 가설 적용전 Train data 통계정보, 상관관계 및 결측치, 특이사항 파악\n",
    "1. 결측치\n",
    "    - 없음\n",
    "    \n",
    "    \n",
    "2. 통계정보\n",
    "    - item_price : min -1(가격에 음의 값), max 이상값\n",
    "    - item_cnt_day : min -22, max 이상값\n",
    "\n",
    "\n",
    "3. 상관관계\n",
    "    - 유의미한 정보는 없음\n",
    "    - date_block_num , item_price = 0.1\n",
    "    - item_id, item_price = -0.13\n",
    "    - 월과 상품가격(+), 상품ID와 상품가격(-) "
   ]
  },
  {
   "cell_type": "code",
   "execution_count": 22,
   "metadata": {},
   "outputs": [
    {
     "data": {
      "text/plain": [
       "date              0\n",
       "date_block_num    0\n",
       "shop_id           0\n",
       "item_id           0\n",
       "item_price        0\n",
       "item_cnt_day      0\n",
       "dtype: int64"
      ]
     },
     "execution_count": 22,
     "metadata": {},
     "output_type": "execute_result"
    }
   ],
   "source": [
    "df_train[df_train.isnull()].count()"
   ]
  },
  {
   "cell_type": "code",
   "execution_count": 23,
   "metadata": {
    "collapsed": true
   },
   "outputs": [],
   "source": [
    "pd.set_option('display.float_format', lambda x : '%.2f' % x) # 소수 둘째 자리까지 보이도록"
   ]
  },
  {
   "cell_type": "code",
   "execution_count": 24,
   "metadata": {},
   "outputs": [
    {
     "data": {
      "text/html": [
       "<div>\n",
       "<style>\n",
       "    .dataframe thead tr:only-child th {\n",
       "        text-align: right;\n",
       "    }\n",
       "\n",
       "    .dataframe thead th {\n",
       "        text-align: left;\n",
       "    }\n",
       "\n",
       "    .dataframe tbody tr th {\n",
       "        vertical-align: top;\n",
       "    }\n",
       "</style>\n",
       "<table border=\"1\" class=\"dataframe\">\n",
       "  <thead>\n",
       "    <tr style=\"text-align: right;\">\n",
       "      <th></th>\n",
       "      <th>date_block_num</th>\n",
       "      <th>shop_id</th>\n",
       "      <th>item_id</th>\n",
       "      <th>item_price</th>\n",
       "      <th>item_cnt_day</th>\n",
       "    </tr>\n",
       "  </thead>\n",
       "  <tbody>\n",
       "    <tr>\n",
       "      <th>count</th>\n",
       "      <td>2935849.00</td>\n",
       "      <td>2935849.00</td>\n",
       "      <td>2935849.00</td>\n",
       "      <td>2935849.00</td>\n",
       "      <td>2935849.00</td>\n",
       "    </tr>\n",
       "    <tr>\n",
       "      <th>mean</th>\n",
       "      <td>14.57</td>\n",
       "      <td>33.00</td>\n",
       "      <td>10197.23</td>\n",
       "      <td>890.85</td>\n",
       "      <td>1.24</td>\n",
       "    </tr>\n",
       "    <tr>\n",
       "      <th>std</th>\n",
       "      <td>9.42</td>\n",
       "      <td>16.23</td>\n",
       "      <td>6324.30</td>\n",
       "      <td>1729.80</td>\n",
       "      <td>2.62</td>\n",
       "    </tr>\n",
       "    <tr>\n",
       "      <th>min</th>\n",
       "      <td>0.00</td>\n",
       "      <td>0.00</td>\n",
       "      <td>0.00</td>\n",
       "      <td>-1.00</td>\n",
       "      <td>-22.00</td>\n",
       "    </tr>\n",
       "    <tr>\n",
       "      <th>25%</th>\n",
       "      <td>7.00</td>\n",
       "      <td>22.00</td>\n",
       "      <td>4476.00</td>\n",
       "      <td>249.00</td>\n",
       "      <td>1.00</td>\n",
       "    </tr>\n",
       "    <tr>\n",
       "      <th>50%</th>\n",
       "      <td>14.00</td>\n",
       "      <td>31.00</td>\n",
       "      <td>9343.00</td>\n",
       "      <td>399.00</td>\n",
       "      <td>1.00</td>\n",
       "    </tr>\n",
       "    <tr>\n",
       "      <th>75%</th>\n",
       "      <td>23.00</td>\n",
       "      <td>47.00</td>\n",
       "      <td>15684.00</td>\n",
       "      <td>999.00</td>\n",
       "      <td>1.00</td>\n",
       "    </tr>\n",
       "    <tr>\n",
       "      <th>max</th>\n",
       "      <td>33.00</td>\n",
       "      <td>59.00</td>\n",
       "      <td>22169.00</td>\n",
       "      <td>307980.00</td>\n",
       "      <td>2169.00</td>\n",
       "    </tr>\n",
       "  </tbody>\n",
       "</table>\n",
       "</div>"
      ],
      "text/plain": [
       "       date_block_num    shop_id    item_id  item_price  item_cnt_day\n",
       "count      2935849.00 2935849.00 2935849.00  2935849.00    2935849.00\n",
       "mean            14.57      33.00   10197.23      890.85          1.24\n",
       "std              9.42      16.23    6324.30     1729.80          2.62\n",
       "min              0.00       0.00       0.00       -1.00        -22.00\n",
       "25%              7.00      22.00    4476.00      249.00          1.00\n",
       "50%             14.00      31.00    9343.00      399.00          1.00\n",
       "75%             23.00      47.00   15684.00      999.00          1.00\n",
       "max             33.00      59.00   22169.00   307980.00       2169.00"
      ]
     },
     "execution_count": 24,
     "metadata": {},
     "output_type": "execute_result"
    }
   ],
   "source": [
    "df_train.describe() # Item_price, item_cnt_day와 같은 연속형 값 기준 확인할 것"
   ]
  },
  {
   "cell_type": "code",
   "execution_count": 25,
   "metadata": {
    "collapsed": true
   },
   "outputs": [],
   "source": [
    "# df_train.item_price.plot(kind='hist',xlim=(0,4000),bins=700)"
   ]
  },
  {
   "cell_type": "code",
   "execution_count": 26,
   "metadata": {
    "collapsed": true
   },
   "outputs": [],
   "source": [
    "# df_train.item_cnt_day.plot(kind='hist',xlim=(-2.5,8),bins=700)"
   ]
  },
  {
   "cell_type": "code",
   "execution_count": 27,
   "metadata": {
    "collapsed": true
   },
   "outputs": [],
   "source": [
    "#attributes = df_train.columns.tolist()"
   ]
  },
  {
   "cell_type": "code",
   "execution_count": 28,
   "metadata": {
    "collapsed": true,
    "scrolled": false
   },
   "outputs": [],
   "source": [
    "#pd.scatter_matrix(df_train[attributes],figsize = (24,16))"
   ]
  },
  {
   "cell_type": "markdown",
   "metadata": {
    "collapsed": true
   },
   "source": [
    "- item_ptrice와 item_cnt_day가 음의 상관관계를 보이는 것 같음"
   ]
  },
  {
   "cell_type": "code",
   "execution_count": 29,
   "metadata": {},
   "outputs": [
    {
     "data": {
      "text/plain": [
       "<matplotlib.axes._subplots.AxesSubplot at 0x1e1f8f76eb8>"
      ]
     },
     "execution_count": 29,
     "metadata": {},
     "output_type": "execute_result"
    },
    {
     "data": {
      "image/png": "[encoded data removed]",
      "text/plain": [
       "<matplotlib.figure.Figure at 0x1e1f8f8a860>"
      ]
     },
     "metadata": {},
     "output_type": "display_data"
    }
   ],
   "source": [
    "df_train.plot(kind = \"scatter\", x = \"item_price\", y=\"item_cnt_day\",alpha = 0.1, xlim=(0,80000),ylim=(0,1000))"
   ]
  },
  {
   "cell_type": "code",
   "execution_count": 30,
   "metadata": {
    "collapsed": true
   },
   "outputs": [],
   "source": [
    "#df_train.corr()\n",
    "#corr\n",
    "#date_block_num , item_price = 0.1\n",
    "#item_id, item_price = -0.13\n"
   ]
  },
  {
   "cell_type": "code",
   "execution_count": 31,
   "metadata": {},
   "outputs": [
    {
     "data": {
      "text/plain": [
       "array([ 0,  1,  2,  3,  4,  5,  6,  7,  8,  9, 10, 11, 12, 13, 14, 15, 16,\n",
       "       17, 18, 19, 20, 21, 22, 23, 24, 25, 26, 27, 28, 29, 30, 31, 32, 33], dtype=int64)"
      ]
     },
     "execution_count": 31,
     "metadata": {},
     "output_type": "execute_result"
    }
   ],
   "source": [
    "df_train['date_block_num'].unique()"
   ]
  },
  {
   "cell_type": "markdown",
   "metadata": {
    "collapsed": true
   },
   "source": [
    "# 가설\n",
    "1. 지역의 영향 (대도시권, 중소규모 도시)\n",
    "\n",
    "2. On, Off line 매장 구분의 영향\n",
    "\n",
    "3. 상품 카테고리별 영향\n",
    "\n",
    "4. 프로모션의 영향"
   ]
  },
  {
   "cell_type": "markdown",
   "metadata": {},
   "source": [
    "### 1. 지역의 영향\n",
    "* shop_name에서 지역명만 추출"
   ]
  },
  {
   "cell_type": "code",
   "execution_count": 32,
   "metadata": {},
   "outputs": [
    {
     "data": {
      "text/html": [
       "<div>\n",
       "<style>\n",
       "    .dataframe thead tr:only-child th {\n",
       "        text-align: right;\n",
       "    }\n",
       "\n",
       "    .dataframe thead th {\n",
       "        text-align: left;\n",
       "    }\n",
       "\n",
       "    .dataframe tbody tr th {\n",
       "        vertical-align: top;\n",
       "    }\n",
       "</style>\n",
       "<table border=\"1\" class=\"dataframe\">\n",
       "  <thead>\n",
       "    <tr style=\"text-align: right;\">\n",
       "      <th></th>\n",
       "      <th>shop_name</th>\n",
       "      <th>shop_id</th>\n",
       "    </tr>\n",
       "  </thead>\n",
       "  <tbody>\n",
       "    <tr>\n",
       "      <th>0</th>\n",
       "      <td>Yakutsk Ordzhonikidze, 56 francs</td>\n",
       "      <td>0</td>\n",
       "    </tr>\n",
       "    <tr>\n",
       "      <th>1</th>\n",
       "      <td>Yakutsk TC \"Central\" franc</td>\n",
       "      <td>1</td>\n",
       "    </tr>\n",
       "    <tr>\n",
       "      <th>2</th>\n",
       "      <td>Adygea Shopping Center \"Mega\"</td>\n",
       "      <td>2</td>\n",
       "    </tr>\n",
       "    <tr>\n",
       "      <th>3</th>\n",
       "      <td>Balashikha TRK \"October-Kinomir\"</td>\n",
       "      <td>3</td>\n",
       "    </tr>\n",
       "    <tr>\n",
       "      <th>4</th>\n",
       "      <td>Volzhsky shopping center \"Volga Mall\"</td>\n",
       "      <td>4</td>\n",
       "    </tr>\n",
       "  </tbody>\n",
       "</table>\n",
       "</div>"
      ],
      "text/plain": [
       "                               shop_name  shop_id\n",
       "0       Yakutsk Ordzhonikidze, 56 francs        0\n",
       "1             Yakutsk TC \"Central\" franc        1\n",
       "2          Adygea Shopping Center \"Mega\"        2\n",
       "3       Balashikha TRK \"October-Kinomir\"        3\n",
       "4  Volzhsky shopping center \"Volga Mall\"        4"
      ]
     },
     "execution_count": 32,
     "metadata": {},
     "output_type": "execute_result"
    }
   ],
   "source": [
    "df_shop.head()"
   ]
  },
  {
   "cell_type": "code",
   "execution_count": 33,
   "metadata": {},
   "outputs": [
    {
     "data": {
      "text/html": [
       "<div>\n",
       "<style>\n",
       "    .dataframe thead tr:only-child th {\n",
       "        text-align: right;\n",
       "    }\n",
       "\n",
       "    .dataframe thead th {\n",
       "        text-align: left;\n",
       "    }\n",
       "\n",
       "    .dataframe tbody tr th {\n",
       "        vertical-align: top;\n",
       "    }\n",
       "</style>\n",
       "<table border=\"1\" class=\"dataframe\">\n",
       "  <thead>\n",
       "    <tr style=\"text-align: right;\">\n",
       "      <th></th>\n",
       "      <th>shop_name</th>\n",
       "    </tr>\n",
       "  </thead>\n",
       "  <tbody>\n",
       "    <tr>\n",
       "      <th>0</th>\n",
       "      <td>Yakutsk Ordzhonikidze, 56 francs</td>\n",
       "    </tr>\n",
       "    <tr>\n",
       "      <th>1</th>\n",
       "      <td>Yakutsk TC \"Central\" franc</td>\n",
       "    </tr>\n",
       "    <tr>\n",
       "      <th>2</th>\n",
       "      <td>Adygea Shopping Center \"Mega\"</td>\n",
       "    </tr>\n",
       "    <tr>\n",
       "      <th>3</th>\n",
       "      <td>Balashikha TRK \"October-Kinomir\"</td>\n",
       "    </tr>\n",
       "    <tr>\n",
       "      <th>4</th>\n",
       "      <td>Volzhsky shopping center \"Volga Mall\"</td>\n",
       "    </tr>\n",
       "  </tbody>\n",
       "</table>\n",
       "</div>"
      ],
      "text/plain": [
       "                               shop_name\n",
       "0       Yakutsk Ordzhonikidze, 56 francs\n",
       "1             Yakutsk TC \"Central\" franc\n",
       "2          Adygea Shopping Center \"Mega\"\n",
       "3       Balashikha TRK \"October-Kinomir\"\n",
       "4  Volzhsky shopping center \"Volga Mall\""
      ]
     },
     "execution_count": 33,
     "metadata": {},
     "output_type": "execute_result"
    }
   ],
   "source": [
    "df_shop[['shop_name']].head()"
   ]
  },
  {
   "cell_type": "code",
   "execution_count": 34,
   "metadata": {},
   "outputs": [
    {
     "data": {
      "text/html": [
       "<div>\n",
       "<style>\n",
       "    .dataframe thead tr:only-child th {\n",
       "        text-align: right;\n",
       "    }\n",
       "\n",
       "    .dataframe thead th {\n",
       "        text-align: left;\n",
       "    }\n",
       "\n",
       "    .dataframe tbody tr th {\n",
       "        vertical-align: top;\n",
       "    }\n",
       "</style>\n",
       "<table border=\"1\" class=\"dataframe\">\n",
       "  <thead>\n",
       "    <tr style=\"text-align: right;\">\n",
       "      <th></th>\n",
       "      <th>0</th>\n",
       "      <th>1</th>\n",
       "      <th>2</th>\n",
       "      <th>3</th>\n",
       "      <th>4</th>\n",
       "      <th>5</th>\n",
       "      <th>6</th>\n",
       "    </tr>\n",
       "  </thead>\n",
       "  <tbody>\n",
       "    <tr>\n",
       "      <th>0</th>\n",
       "      <td>Yakutsk</td>\n",
       "      <td>Ordzhonikidze,</td>\n",
       "      <td>56</td>\n",
       "      <td>francs</td>\n",
       "      <td>None</td>\n",
       "      <td>None</td>\n",
       "      <td>None</td>\n",
       "    </tr>\n",
       "    <tr>\n",
       "      <th>1</th>\n",
       "      <td>Yakutsk</td>\n",
       "      <td>TC</td>\n",
       "      <td>\"Central\"</td>\n",
       "      <td>franc</td>\n",
       "      <td>None</td>\n",
       "      <td>None</td>\n",
       "      <td>None</td>\n",
       "    </tr>\n",
       "    <tr>\n",
       "      <th>2</th>\n",
       "      <td>Adygea</td>\n",
       "      <td>Shopping</td>\n",
       "      <td>Center</td>\n",
       "      <td>\"Mega\"</td>\n",
       "      <td>None</td>\n",
       "      <td>None</td>\n",
       "      <td>None</td>\n",
       "    </tr>\n",
       "    <tr>\n",
       "      <th>3</th>\n",
       "      <td>Balashikha</td>\n",
       "      <td>TRK</td>\n",
       "      <td>\"October-Kinomir\"</td>\n",
       "      <td>None</td>\n",
       "      <td>None</td>\n",
       "      <td>None</td>\n",
       "      <td>None</td>\n",
       "    </tr>\n",
       "    <tr>\n",
       "      <th>4</th>\n",
       "      <td>Volzhsky</td>\n",
       "      <td>shopping</td>\n",
       "      <td>center</td>\n",
       "      <td>\"Volga</td>\n",
       "      <td>Mall\"</td>\n",
       "      <td>None</td>\n",
       "      <td>None</td>\n",
       "    </tr>\n",
       "  </tbody>\n",
       "</table>\n",
       "</div>"
      ],
      "text/plain": [
       "            0               1                  2       3      4     5     6\n",
       "0     Yakutsk  Ordzhonikidze,                 56  francs   None  None  None\n",
       "1     Yakutsk              TC          \"Central\"   franc   None  None  None\n",
       "2      Adygea        Shopping             Center  \"Mega\"   None  None  None\n",
       "3  Balashikha             TRK  \"October-Kinomir\"    None   None  None  None\n",
       "4    Volzhsky        shopping             center  \"Volga  Mall\"  None  None"
      ]
     },
     "execution_count": 34,
     "metadata": {},
     "output_type": "execute_result"
    }
   ],
   "source": [
    "shop_name_split = df_shop['shop_name'].str.split(' ',expand=True)\n",
    "shop_name_split.head()"
   ]
  },
  {
   "cell_type": "code",
   "execution_count": 35,
   "metadata": {},
   "outputs": [
    {
     "name": "stderr",
     "output_type": "stream",
     "text": [
      "c:\\users\\cch88\\miniconda3\\envs\\ml_python\\lib\\site-packages\\pandas\\core\\frame.py:2746: SettingWithCopyWarning: \n",
      "A value is trying to be set on a copy of a slice from a DataFrame\n",
      "\n",
      "See the caveats in the documentation: http://pandas.pydata.org/pandas-docs/stable/indexing.html#indexing-view-versus-copy\n",
      "  **kwargs)\n"
     ]
    },
    {
     "data": {
      "text/html": [
       "<div>\n",
       "<style>\n",
       "    .dataframe thead tr:only-child th {\n",
       "        text-align: right;\n",
       "    }\n",
       "\n",
       "    .dataframe thead th {\n",
       "        text-align: left;\n",
       "    }\n",
       "\n",
       "    .dataframe tbody tr th {\n",
       "        vertical-align: top;\n",
       "    }\n",
       "</style>\n",
       "<table border=\"1\" class=\"dataframe\">\n",
       "  <thead>\n",
       "    <tr style=\"text-align: right;\">\n",
       "      <th></th>\n",
       "      <th>location_name</th>\n",
       "    </tr>\n",
       "  </thead>\n",
       "  <tbody>\n",
       "    <tr>\n",
       "      <th>0</th>\n",
       "      <td>Yakutsk</td>\n",
       "    </tr>\n",
       "    <tr>\n",
       "      <th>1</th>\n",
       "      <td>Yakutsk</td>\n",
       "    </tr>\n",
       "    <tr>\n",
       "      <th>2</th>\n",
       "      <td>Adygea</td>\n",
       "    </tr>\n",
       "    <tr>\n",
       "      <th>3</th>\n",
       "      <td>Balashikha</td>\n",
       "    </tr>\n",
       "    <tr>\n",
       "      <th>4</th>\n",
       "      <td>Volzhsky</td>\n",
       "    </tr>\n",
       "  </tbody>\n",
       "</table>\n",
       "</div>"
      ],
      "text/plain": [
       "  location_name\n",
       "0       Yakutsk\n",
       "1       Yakutsk\n",
       "2        Adygea\n",
       "3    Balashikha\n",
       "4      Volzhsky"
      ]
     },
     "execution_count": 35,
     "metadata": {},
     "output_type": "execute_result"
    }
   ],
   "source": [
    "location_name = shop_name_split[[0]]\n",
    "location_name.rename(columns={0:'location_name'},inplace=True)\n",
    "location_name.head()"
   ]
  },
  {
   "cell_type": "code",
   "execution_count": 36,
   "metadata": {
    "scrolled": true
   },
   "outputs": [
    {
     "data": {
      "text/html": [
       "<div>\n",
       "<style>\n",
       "    .dataframe thead tr:only-child th {\n",
       "        text-align: right;\n",
       "    }\n",
       "\n",
       "    .dataframe thead th {\n",
       "        text-align: left;\n",
       "    }\n",
       "\n",
       "    .dataframe tbody tr th {\n",
       "        vertical-align: top;\n",
       "    }\n",
       "</style>\n",
       "<table border=\"1\" class=\"dataframe\">\n",
       "  <thead>\n",
       "    <tr style=\"text-align: right;\">\n",
       "      <th></th>\n",
       "      <th>shop_name</th>\n",
       "      <th>shop_id</th>\n",
       "      <th>location_name</th>\n",
       "    </tr>\n",
       "  </thead>\n",
       "  <tbody>\n",
       "    <tr>\n",
       "      <th>0</th>\n",
       "      <td>Yakutsk Ordzhonikidze, 56 francs</td>\n",
       "      <td>0</td>\n",
       "      <td>Yakutsk</td>\n",
       "    </tr>\n",
       "    <tr>\n",
       "      <th>1</th>\n",
       "      <td>Yakutsk TC \"Central\" franc</td>\n",
       "      <td>1</td>\n",
       "      <td>Yakutsk</td>\n",
       "    </tr>\n",
       "    <tr>\n",
       "      <th>2</th>\n",
       "      <td>Adygea Shopping Center \"Mega\"</td>\n",
       "      <td>2</td>\n",
       "      <td>Adygea</td>\n",
       "    </tr>\n",
       "    <tr>\n",
       "      <th>3</th>\n",
       "      <td>Balashikha TRK \"October-Kinomir\"</td>\n",
       "      <td>3</td>\n",
       "      <td>Balashikha</td>\n",
       "    </tr>\n",
       "    <tr>\n",
       "      <th>4</th>\n",
       "      <td>Volzhsky shopping center \"Volga Mall\"</td>\n",
       "      <td>4</td>\n",
       "      <td>Volzhsky</td>\n",
       "    </tr>\n",
       "  </tbody>\n",
       "</table>\n",
       "</div>"
      ],
      "text/plain": [
       "                               shop_name  shop_id location_name\n",
       "0       Yakutsk Ordzhonikidze, 56 francs        0       Yakutsk\n",
       "1             Yakutsk TC \"Central\" franc        1       Yakutsk\n",
       "2          Adygea Shopping Center \"Mega\"        2        Adygea\n",
       "3       Balashikha TRK \"October-Kinomir\"        3    Balashikha\n",
       "4  Volzhsky shopping center \"Volga Mall\"        4      Volzhsky"
      ]
     },
     "execution_count": 36,
     "metadata": {},
     "output_type": "execute_result"
    }
   ],
   "source": [
    "df_shop_new=pd.concat([df_shop,location_name],axis=1)\n",
    "df_shop_new.head()"
   ]
  },
  {
   "cell_type": "markdown",
   "metadata": {},
   "source": [
    "#### Russia population Census 참고\n",
    "* 2014년 census 정보만 가져올것임\n",
    "* https://gist.githubusercontent.com/logvik/cf787bda80a8aa125c84/raw/2749e1679670baad67fd9361feb7cb5437f2d8ad/population.csv csv 파일\n",
    "* Oblast,Krai는 주를 의미 (람다 식의 적용으로 제거)"
   ]
  },
  {
   "cell_type": "code",
   "execution_count": 38,
   "metadata": {},
   "outputs": [
    {
     "data": {
      "text/html": [
       "<div>\n",
       "<style>\n",
       "    .dataframe thead tr:only-child th {\n",
       "        text-align: right;\n",
       "    }\n",
       "\n",
       "    .dataframe thead th {\n",
       "        text-align: left;\n",
       "    }\n",
       "\n",
       "    .dataframe tbody tr th {\n",
       "        vertical-align: top;\n",
       "    }\n",
       "</style>\n",
       "<table border=\"1\" class=\"dataframe\">\n",
       "  <thead>\n",
       "    <tr style=\"text-align: right;\">\n",
       "      <th></th>\n",
       "      <th>Code</th>\n",
       "      <th>Name</th>\n",
       "      <th>year1959</th>\n",
       "      <th>year1970</th>\n",
       "      <th>year1979</th>\n",
       "      <th>year1989</th>\n",
       "      <th>year2002</th>\n",
       "      <th>year2010</th>\n",
       "      <th>year2013</th>\n",
       "      <th>year2014</th>\n",
       "    </tr>\n",
       "  </thead>\n",
       "  <tbody>\n",
       "    <tr>\n",
       "      <th>0</th>\n",
       "      <td>MOW</td>\n",
       "      <td>Moscow</td>\n",
       "      <td>5085581</td>\n",
       "      <td>7061008</td>\n",
       "      <td>8010954</td>\n",
       "      <td>8967232</td>\n",
       "      <td>10382754</td>\n",
       "      <td>11503501</td>\n",
       "      <td>11979529</td>\n",
       "      <td>12108257</td>\n",
       "    </tr>\n",
       "    <tr>\n",
       "      <th>1</th>\n",
       "      <td>MOS</td>\n",
       "      <td>Moscow Oblast</td>\n",
       "      <td>5863003</td>\n",
       "      <td>5774529</td>\n",
       "      <td>6359385</td>\n",
       "      <td>6693623</td>\n",
       "      <td>6618538</td>\n",
       "      <td>7095120</td>\n",
       "      <td>7048084</td>\n",
       "      <td>7133620</td>\n",
       "    </tr>\n",
       "    <tr>\n",
       "      <th>2</th>\n",
       "      <td>KDA</td>\n",
       "      <td>Krasnodar Krai</td>\n",
       "      <td>3477809</td>\n",
       "      <td>4124163</td>\n",
       "      <td>4410331</td>\n",
       "      <td>4680560</td>\n",
       "      <td>5125221</td>\n",
       "      <td>5226647</td>\n",
       "      <td>5330181</td>\n",
       "      <td>5404273</td>\n",
       "    </tr>\n",
       "    <tr>\n",
       "      <th>3</th>\n",
       "      <td>SPE</td>\n",
       "      <td>St. Petersburg</td>\n",
       "      <td>3321196</td>\n",
       "      <td>3949501</td>\n",
       "      <td>4588183</td>\n",
       "      <td>5023506</td>\n",
       "      <td>4661219</td>\n",
       "      <td>4879566</td>\n",
       "      <td>5028000</td>\n",
       "      <td>5131942</td>\n",
       "    </tr>\n",
       "    <tr>\n",
       "      <th>4</th>\n",
       "      <td>SVE</td>\n",
       "      <td>Sverdlovsk Oblast</td>\n",
       "      <td>4044416</td>\n",
       "      <td>4319741</td>\n",
       "      <td>4453491</td>\n",
       "      <td>4716768</td>\n",
       "      <td>4486214</td>\n",
       "      <td>4297747</td>\n",
       "      <td>4315830</td>\n",
       "      <td>4320677</td>\n",
       "    </tr>\n",
       "  </tbody>\n",
       "</table>\n",
       "</div>"
      ],
      "text/plain": [
       "  Code               Name  year1959  year1970  year1979  year1989  year2002  \\\n",
       "0  MOW             Moscow   5085581   7061008   8010954   8967232  10382754   \n",
       "1  MOS      Moscow Oblast   5863003   5774529   6359385   6693623   6618538   \n",
       "2  KDA     Krasnodar Krai   3477809   4124163   4410331   4680560   5125221   \n",
       "3  SPE     St. Petersburg   3321196   3949501   4588183   5023506   4661219   \n",
       "4  SVE  Sverdlovsk Oblast   4044416   4319741   4453491   4716768   4486214   \n",
       "\n",
       "   year2010  year2013  year2014  \n",
       "0  11503501  11979529  12108257  \n",
       "1   7095120   7048084   7133620  \n",
       "2   5226647   5330181   5404273  \n",
       "3   4879566   5028000   5131942  \n",
       "4   4297747   4315830   4320677  "
      ]
     },
     "execution_count": 38,
     "metadata": {},
     "output_type": "execute_result"
    }
   ],
   "source": [
    "df_population = pd.read_csv('./data/population.csv')\n",
    "df_population.head()"
   ]
  },
  {
   "cell_type": "code",
   "execution_count": 39,
   "metadata": {
    "collapsed": true
   },
   "outputs": [],
   "source": [
    "df_population.drop(df_population.columns[2:-1], axis=1, inplace= True)\n",
    "df_population.drop(['Code'],axis=1,inplace=True)"
   ]
  },
  {
   "cell_type": "code",
   "execution_count": 40,
   "metadata": {
    "scrolled": false
   },
   "outputs": [
    {
     "data": {
      "text/html": [
       "<div>\n",
       "<style>\n",
       "    .dataframe thead tr:only-child th {\n",
       "        text-align: right;\n",
       "    }\n",
       "\n",
       "    .dataframe thead th {\n",
       "        text-align: left;\n",
       "    }\n",
       "\n",
       "    .dataframe tbody tr th {\n",
       "        vertical-align: top;\n",
       "    }\n",
       "</style>\n",
       "<table border=\"1\" class=\"dataframe\">\n",
       "  <thead>\n",
       "    <tr style=\"text-align: right;\">\n",
       "      <th></th>\n",
       "      <th>Name</th>\n",
       "      <th>year2014</th>\n",
       "    </tr>\n",
       "  </thead>\n",
       "  <tbody>\n",
       "    <tr>\n",
       "      <th>0</th>\n",
       "      <td>Moscow</td>\n",
       "      <td>12108257</td>\n",
       "    </tr>\n",
       "    <tr>\n",
       "      <th>1</th>\n",
       "      <td>Moscow Oblast</td>\n",
       "      <td>7133620</td>\n",
       "    </tr>\n",
       "    <tr>\n",
       "      <th>2</th>\n",
       "      <td>Krasnodar Krai</td>\n",
       "      <td>5404273</td>\n",
       "    </tr>\n",
       "    <tr>\n",
       "      <th>3</th>\n",
       "      <td>St. Petersburg</td>\n",
       "      <td>5131942</td>\n",
       "    </tr>\n",
       "    <tr>\n",
       "      <th>4</th>\n",
       "      <td>Sverdlovsk Oblast</td>\n",
       "      <td>4320677</td>\n",
       "    </tr>\n",
       "  </tbody>\n",
       "</table>\n",
       "</div>"
      ],
      "text/plain": [
       "                Name  year2014\n",
       "0             Moscow  12108257\n",
       "1      Moscow Oblast   7133620\n",
       "2     Krasnodar Krai   5404273\n",
       "3     St. Petersburg   5131942\n",
       "4  Sverdlovsk Oblast   4320677"
      ]
     },
     "execution_count": 40,
     "metadata": {},
     "output_type": "execute_result"
    }
   ],
   "source": [
    "df_population.head()"
   ]
  },
  {
   "cell_type": "code",
   "execution_count": null,
   "metadata": {
    "collapsed": true
   },
   "outputs": [],
   "source": []
  },
  {
   "cell_type": "code",
   "execution_count": 41,
   "metadata": {
    "collapsed": true
   },
   "outputs": [],
   "source": [
    "# df_population['Name'][1].replace(' Oblast','')\n",
    "\n",
    "re = lambda x : x.replace(' Oblast','')\n",
    "re_2 = lambda x : x.replace(' Krai','')\n",
    "df_population['Name'] = df_population['Name'].apply(re)\n",
    "df_population['Name'] = df_population['Name'].apply(re_2)\n",
    "df_population.drop(1,inplace=True)# 모스크바 도심과 광역 중 도심만 선택"
   ]
  },
  {
   "cell_type": "code",
   "execution_count": 42,
   "metadata": {},
   "outputs": [
    {
     "data": {
      "text/html": [
       "<div>\n",
       "<style>\n",
       "    .dataframe thead tr:only-child th {\n",
       "        text-align: right;\n",
       "    }\n",
       "\n",
       "    .dataframe thead th {\n",
       "        text-align: left;\n",
       "    }\n",
       "\n",
       "    .dataframe tbody tr th {\n",
       "        vertical-align: top;\n",
       "    }\n",
       "</style>\n",
       "<table border=\"1\" class=\"dataframe\">\n",
       "  <thead>\n",
       "    <tr style=\"text-align: right;\">\n",
       "      <th></th>\n",
       "      <th>Name</th>\n",
       "      <th>year2014</th>\n",
       "    </tr>\n",
       "  </thead>\n",
       "  <tbody>\n",
       "    <tr>\n",
       "      <th>0</th>\n",
       "      <td>Moscow</td>\n",
       "      <td>12108257</td>\n",
       "    </tr>\n",
       "    <tr>\n",
       "      <th>2</th>\n",
       "      <td>Krasnodar</td>\n",
       "      <td>5404273</td>\n",
       "    </tr>\n",
       "    <tr>\n",
       "      <th>3</th>\n",
       "      <td>St. Petersburg</td>\n",
       "      <td>5131942</td>\n",
       "    </tr>\n",
       "    <tr>\n",
       "      <th>4</th>\n",
       "      <td>Sverdlovsk</td>\n",
       "      <td>4320677</td>\n",
       "    </tr>\n",
       "    <tr>\n",
       "      <th>5</th>\n",
       "      <td>Rostov</td>\n",
       "      <td>4245532</td>\n",
       "    </tr>\n",
       "  </tbody>\n",
       "</table>\n",
       "</div>"
      ],
      "text/plain": [
       "             Name  year2014\n",
       "0          Moscow  12108257\n",
       "2       Krasnodar   5404273\n",
       "3  St. Petersburg   5131942\n",
       "4      Sverdlovsk   4320677\n",
       "5          Rostov   4245532"
      ]
     },
     "execution_count": 42,
     "metadata": {},
     "output_type": "execute_result"
    }
   ],
   "source": [
    "df_population.head()"
   ]
  },
  {
   "cell_type": "markdown",
   "metadata": {},
   "source": [
    "#### df_shop_new와 df_population merge\n",
    "* 지역명 기준으로 merge 23개 지역이 인구수 Nan값 데이터 파일에 도시명과 지역명이 상이한 경우임"
   ]
  },
  {
   "cell_type": "code",
   "execution_count": 43,
   "metadata": {},
   "outputs": [
    {
     "data": {
      "text/html": [
       "<div>\n",
       "<style>\n",
       "    .dataframe thead tr:only-child th {\n",
       "        text-align: right;\n",
       "    }\n",
       "\n",
       "    .dataframe thead th {\n",
       "        text-align: left;\n",
       "    }\n",
       "\n",
       "    .dataframe tbody tr th {\n",
       "        vertical-align: top;\n",
       "    }\n",
       "</style>\n",
       "<table border=\"1\" class=\"dataframe\">\n",
       "  <thead>\n",
       "    <tr style=\"text-align: right;\">\n",
       "      <th></th>\n",
       "      <th>shop_name</th>\n",
       "      <th>shop_id</th>\n",
       "      <th>location_name</th>\n",
       "      <th>Name</th>\n",
       "      <th>year2014</th>\n",
       "    </tr>\n",
       "  </thead>\n",
       "  <tbody>\n",
       "    <tr>\n",
       "      <th>0</th>\n",
       "      <td>Yakutsk Ordzhonikidze, 56 francs</td>\n",
       "      <td>0</td>\n",
       "      <td>Yakutsk</td>\n",
       "      <td>NaN</td>\n",
       "      <td>nan</td>\n",
       "    </tr>\n",
       "    <tr>\n",
       "      <th>1</th>\n",
       "      <td>Yakutsk TC \"Central\" franc</td>\n",
       "      <td>1</td>\n",
       "      <td>Yakutsk</td>\n",
       "      <td>NaN</td>\n",
       "      <td>nan</td>\n",
       "    </tr>\n",
       "    <tr>\n",
       "      <th>2</th>\n",
       "      <td>Adygea Shopping Center \"Mega\"</td>\n",
       "      <td>2</td>\n",
       "      <td>Adygea</td>\n",
       "      <td>NaN</td>\n",
       "      <td>nan</td>\n",
       "    </tr>\n",
       "    <tr>\n",
       "      <th>3</th>\n",
       "      <td>Balashikha TRK \"October-Kinomir\"</td>\n",
       "      <td>3</td>\n",
       "      <td>Balashikha</td>\n",
       "      <td>NaN</td>\n",
       "      <td>nan</td>\n",
       "    </tr>\n",
       "    <tr>\n",
       "      <th>4</th>\n",
       "      <td>Volzhsky shopping center \"Volga Mall\"</td>\n",
       "      <td>4</td>\n",
       "      <td>Volzhsky</td>\n",
       "      <td>NaN</td>\n",
       "      <td>nan</td>\n",
       "    </tr>\n",
       "  </tbody>\n",
       "</table>\n",
       "</div>"
      ],
      "text/plain": [
       "                               shop_name  shop_id location_name Name  year2014\n",
       "0       Yakutsk Ordzhonikidze, 56 francs        0       Yakutsk  NaN       nan\n",
       "1             Yakutsk TC \"Central\" franc        1       Yakutsk  NaN       nan\n",
       "2          Adygea Shopping Center \"Mega\"        2        Adygea  NaN       nan\n",
       "3       Balashikha TRK \"October-Kinomir\"        3    Balashikha  NaN       nan\n",
       "4  Volzhsky shopping center \"Volga Mall\"        4      Volzhsky  NaN       nan"
      ]
     },
     "execution_count": 43,
     "metadata": {},
     "output_type": "execute_result"
    }
   ],
   "source": [
    "df_shop_new_2 = pd.merge(df_shop_new, df_population, left_on='location_name', right_on='Name',how='left')\n",
    "df_shop_new_2.head()"
   ]
  },
  {
   "cell_type": "code",
   "execution_count": 44,
   "metadata": {},
   "outputs": [
    {
     "data": {
      "text/html": [
       "<div>\n",
       "<style>\n",
       "    .dataframe thead tr:only-child th {\n",
       "        text-align: right;\n",
       "    }\n",
       "\n",
       "    .dataframe thead th {\n",
       "        text-align: left;\n",
       "    }\n",
       "\n",
       "    .dataframe tbody tr th {\n",
       "        vertical-align: top;\n",
       "    }\n",
       "</style>\n",
       "<table border=\"1\" class=\"dataframe\">\n",
       "  <thead>\n",
       "    <tr style=\"text-align: right;\">\n",
       "      <th></th>\n",
       "      <th>shop_name</th>\n",
       "      <th>shop_id</th>\n",
       "      <th>location_name</th>\n",
       "      <th>Name</th>\n",
       "      <th>year2014</th>\n",
       "    </tr>\n",
       "  </thead>\n",
       "  <tbody>\n",
       "    <tr>\n",
       "      <th>0</th>\n",
       "      <td>Yakutsk Ordzhonikidze, 56 francs</td>\n",
       "      <td>0</td>\n",
       "      <td>Yakutsk</td>\n",
       "      <td>NaN</td>\n",
       "      <td>nan</td>\n",
       "    </tr>\n",
       "    <tr>\n",
       "      <th>1</th>\n",
       "      <td>Yakutsk TC \"Central\" franc</td>\n",
       "      <td>1</td>\n",
       "      <td>Yakutsk</td>\n",
       "      <td>NaN</td>\n",
       "      <td>nan</td>\n",
       "    </tr>\n",
       "    <tr>\n",
       "      <th>2</th>\n",
       "      <td>Adygea Shopping Center \"Mega\"</td>\n",
       "      <td>2</td>\n",
       "      <td>Adygea</td>\n",
       "      <td>NaN</td>\n",
       "      <td>nan</td>\n",
       "    </tr>\n",
       "    <tr>\n",
       "      <th>3</th>\n",
       "      <td>Balashikha TRK \"October-Kinomir\"</td>\n",
       "      <td>3</td>\n",
       "      <td>Balashikha</td>\n",
       "      <td>NaN</td>\n",
       "      <td>nan</td>\n",
       "    </tr>\n",
       "    <tr>\n",
       "      <th>4</th>\n",
       "      <td>Volzhsky shopping center \"Volga Mall\"</td>\n",
       "      <td>4</td>\n",
       "      <td>Volzhsky</td>\n",
       "      <td>NaN</td>\n",
       "      <td>nan</td>\n",
       "    </tr>\n",
       "    <tr>\n",
       "      <th>9</th>\n",
       "      <td>Outbound Trade</td>\n",
       "      <td>9</td>\n",
       "      <td>Outbound</td>\n",
       "      <td>NaN</td>\n",
       "      <td>nan</td>\n",
       "    </tr>\n",
       "    <tr>\n",
       "      <th>10</th>\n",
       "      <td>Zhukovsky Str. Chkalov 39m?</td>\n",
       "      <td>10</td>\n",
       "      <td>Zhukovsky</td>\n",
       "      <td>NaN</td>\n",
       "      <td>nan</td>\n",
       "    </tr>\n",
       "    <tr>\n",
       "      <th>11</th>\n",
       "      <td>Zhukovsky Str. Chkalov 39 m²</td>\n",
       "      <td>11</td>\n",
       "      <td>Zhukovsky</td>\n",
       "      <td>NaN</td>\n",
       "      <td>nan</td>\n",
       "    </tr>\n",
       "    <tr>\n",
       "      <th>12</th>\n",
       "      <td>Online shop Emergency</td>\n",
       "      <td>12</td>\n",
       "      <td>Online</td>\n",
       "      <td>NaN</td>\n",
       "      <td>nan</td>\n",
       "    </tr>\n",
       "    <tr>\n",
       "      <th>13</th>\n",
       "      <td>Kazan Shopping Center \"Bahetle\"</td>\n",
       "      <td>13</td>\n",
       "      <td>Kazan</td>\n",
       "      <td>NaN</td>\n",
       "      <td>nan</td>\n",
       "    </tr>\n",
       "    <tr>\n",
       "      <th>14</th>\n",
       "      <td>Kazan Shopping Center \"ParkHouse\" II</td>\n",
       "      <td>14</td>\n",
       "      <td>Kazan</td>\n",
       "      <td>NaN</td>\n",
       "      <td>nan</td>\n",
       "    </tr>\n",
       "    <tr>\n",
       "      <th>16</th>\n",
       "      <td>Kolomna shopping center \"Rio\"</td>\n",
       "      <td>16</td>\n",
       "      <td>Kolomna</td>\n",
       "      <td>NaN</td>\n",
       "      <td>nan</td>\n",
       "    </tr>\n",
       "    <tr>\n",
       "      <th>33</th>\n",
       "      <td>Mytischi TRK \"XL-3\"</td>\n",
       "      <td>33</td>\n",
       "      <td>Mytischi</td>\n",
       "      <td>NaN</td>\n",
       "      <td>nan</td>\n",
       "    </tr>\n",
       "    <tr>\n",
       "      <th>34</th>\n",
       "      <td>N.Novgorod TRC \"RIO\"</td>\n",
       "      <td>34</td>\n",
       "      <td>N.Novgorod</td>\n",
       "      <td>NaN</td>\n",
       "      <td>nan</td>\n",
       "    </tr>\n",
       "    <tr>\n",
       "      <th>35</th>\n",
       "      <td>N.Novgorod SEC \"Fantastic\"</td>\n",
       "      <td>35</td>\n",
       "      <td>N.Novgorod</td>\n",
       "      <td>NaN</td>\n",
       "      <td>nan</td>\n",
       "    </tr>\n",
       "    <tr>\n",
       "      <th>39</th>\n",
       "      <td>RostovNaDonu TRC \"Megacenter Horizon\"</td>\n",
       "      <td>39</td>\n",
       "      <td>RostovNaDonu</td>\n",
       "      <td>NaN</td>\n",
       "      <td>nan</td>\n",
       "    </tr>\n",
       "    <tr>\n",
       "      <th>40</th>\n",
       "      <td>RostovNaDonu TRC \"Megacenter Horizon\" Island</td>\n",
       "      <td>40</td>\n",
       "      <td>RostovNaDonu</td>\n",
       "      <td>NaN</td>\n",
       "      <td>nan</td>\n",
       "    </tr>\n",
       "    <tr>\n",
       "      <th>41</th>\n",
       "      <td>RostovNaDonu Shopping Center \"Mega\"</td>\n",
       "      <td>41</td>\n",
       "      <td>RostovNaDonu</td>\n",
       "      <td>NaN</td>\n",
       "      <td>nan</td>\n",
       "    </tr>\n",
       "    <tr>\n",
       "      <th>42</th>\n",
       "      <td>SPb TC \"Nevsky Center\"</td>\n",
       "      <td>42</td>\n",
       "      <td>SPb</td>\n",
       "      <td>NaN</td>\n",
       "      <td>nan</td>\n",
       "    </tr>\n",
       "    <tr>\n",
       "      <th>43</th>\n",
       "      <td>SPb TK \"Sennaya\"</td>\n",
       "      <td>43</td>\n",
       "      <td>SPb</td>\n",
       "      <td>NaN</td>\n",
       "      <td>nan</td>\n",
       "    </tr>\n",
       "    <tr>\n",
       "      <th>46</th>\n",
       "      <td>Sergiev Posad Shopping center \"7YA\"</td>\n",
       "      <td>46</td>\n",
       "      <td>Sergiev</td>\n",
       "      <td>NaN</td>\n",
       "      <td>nan</td>\n",
       "    </tr>\n",
       "    <tr>\n",
       "      <th>47</th>\n",
       "      <td>Surgut shopping and entertainment center \"City...</td>\n",
       "      <td>47</td>\n",
       "      <td>Surgut</td>\n",
       "      <td>NaN</td>\n",
       "      <td>nan</td>\n",
       "    </tr>\n",
       "    <tr>\n",
       "      <th>52</th>\n",
       "      <td>Ufa TC \"Central\"</td>\n",
       "      <td>52</td>\n",
       "      <td>Ufa</td>\n",
       "      <td>NaN</td>\n",
       "      <td>nan</td>\n",
       "    </tr>\n",
       "    <tr>\n",
       "      <th>53</th>\n",
       "      <td>Ufa TC \"Family\" 2</td>\n",
       "      <td>53</td>\n",
       "      <td>Ufa</td>\n",
       "      <td>NaN</td>\n",
       "      <td>nan</td>\n",
       "    </tr>\n",
       "    <tr>\n",
       "      <th>54</th>\n",
       "      <td>Khimki Shopping Center \"Mega\"</td>\n",
       "      <td>54</td>\n",
       "      <td>Khimki</td>\n",
       "      <td>NaN</td>\n",
       "      <td>nan</td>\n",
       "    </tr>\n",
       "    <tr>\n",
       "      <th>55</th>\n",
       "      <td>Digital warehouse 1C-Online</td>\n",
       "      <td>55</td>\n",
       "      <td>Digital</td>\n",
       "      <td>NaN</td>\n",
       "      <td>nan</td>\n",
       "    </tr>\n",
       "    <tr>\n",
       "      <th>56</th>\n",
       "      <td>Chekhov SEC \"Carnival\"</td>\n",
       "      <td>56</td>\n",
       "      <td>Chekhov</td>\n",
       "      <td>NaN</td>\n",
       "      <td>nan</td>\n",
       "    </tr>\n",
       "    <tr>\n",
       "      <th>57</th>\n",
       "      <td>Yakutsk Ordzhonikidze, 56</td>\n",
       "      <td>57</td>\n",
       "      <td>Yakutsk</td>\n",
       "      <td>NaN</td>\n",
       "      <td>nan</td>\n",
       "    </tr>\n",
       "    <tr>\n",
       "      <th>58</th>\n",
       "      <td>Yakutsk Central shopping center</td>\n",
       "      <td>58</td>\n",
       "      <td>Yakutsk</td>\n",
       "      <td>NaN</td>\n",
       "      <td>nan</td>\n",
       "    </tr>\n",
       "  </tbody>\n",
       "</table>\n",
       "</div>"
      ],
      "text/plain": [
       "                                            shop_name  shop_id location_name  \\\n",
       "0                    Yakutsk Ordzhonikidze, 56 francs        0       Yakutsk   \n",
       "1                          Yakutsk TC \"Central\" franc        1       Yakutsk   \n",
       "2                       Adygea Shopping Center \"Mega\"        2        Adygea   \n",
       "3                    Balashikha TRK \"October-Kinomir\"        3    Balashikha   \n",
       "4               Volzhsky shopping center \"Volga Mall\"        4      Volzhsky   \n",
       "9                                      Outbound Trade        9      Outbound   \n",
       "10                        Zhukovsky Str. Chkalov 39m?       10     Zhukovsky   \n",
       "11                       Zhukovsky Str. Chkalov 39 m²       11     Zhukovsky   \n",
       "12                              Online shop Emergency       12        Online   \n",
       "13                    Kazan Shopping Center \"Bahetle\"       13         Kazan   \n",
       "14               Kazan Shopping Center \"ParkHouse\" II       14         Kazan   \n",
       "16                      Kolomna shopping center \"Rio\"       16       Kolomna   \n",
       "33                                Mytischi TRK \"XL-3\"       33      Mytischi   \n",
       "34                               N.Novgorod TRC \"RIO\"       34    N.Novgorod   \n",
       "35                         N.Novgorod SEC \"Fantastic\"       35    N.Novgorod   \n",
       "39              RostovNaDonu TRC \"Megacenter Horizon\"       39  RostovNaDonu   \n",
       "40       RostovNaDonu TRC \"Megacenter Horizon\" Island       40  RostovNaDonu   \n",
       "41                RostovNaDonu Shopping Center \"Mega\"       41  RostovNaDonu   \n",
       "42                             SPb TC \"Nevsky Center\"       42           SPb   \n",
       "43                                   SPb TK \"Sennaya\"       43           SPb   \n",
       "46                Sergiev Posad Shopping center \"7YA\"       46       Sergiev   \n",
       "47  Surgut shopping and entertainment center \"City...       47        Surgut   \n",
       "52                                   Ufa TC \"Central\"       52           Ufa   \n",
       "53                                  Ufa TC \"Family\" 2       53           Ufa   \n",
       "54                      Khimki Shopping Center \"Mega\"       54        Khimki   \n",
       "55                        Digital warehouse 1C-Online       55       Digital   \n",
       "56                             Chekhov SEC \"Carnival\"       56       Chekhov   \n",
       "57                          Yakutsk Ordzhonikidze, 56       57       Yakutsk   \n",
       "58                    Yakutsk Central shopping center       58       Yakutsk   \n",
       "\n",
       "   Name  year2014  \n",
       "0   NaN       nan  \n",
       "1   NaN       nan  \n",
       "2   NaN       nan  \n",
       "3   NaN       nan  \n",
       "4   NaN       nan  \n",
       "9   NaN       nan  \n",
       "10  NaN       nan  \n",
       "11  NaN       nan  \n",
       "12  NaN       nan  \n",
       "13  NaN       nan  \n",
       "14  NaN       nan  \n",
       "16  NaN       nan  \n",
       "33  NaN       nan  \n",
       "34  NaN       nan  \n",
       "35  NaN       nan  \n",
       "39  NaN       nan  \n",
       "40  NaN       nan  \n",
       "41  NaN       nan  \n",
       "42  NaN       nan  \n",
       "43  NaN       nan  \n",
       "46  NaN       nan  \n",
       "47  NaN       nan  \n",
       "52  NaN       nan  \n",
       "53  NaN       nan  \n",
       "54  NaN       nan  \n",
       "55  NaN       nan  \n",
       "56  NaN       nan  \n",
       "57  NaN       nan  \n",
       "58  NaN       nan  "
      ]
     },
     "execution_count": 44,
     "metadata": {},
     "output_type": "execute_result"
    }
   ],
   "source": [
    "df_shop_new_2[df_shop_new_2['year2014'].isnull()]"
   ]
  },
  {
   "cell_type": "code",
   "execution_count": 45,
   "metadata": {
    "collapsed": true
   },
   "outputs": [],
   "source": [
    "df_shop_new_2.loc[[42,43],['year2014']]=5131942\n",
    "#상트 페테르 부르크 표기 차이\n",
    "\n",
    "df_shop_new_2.loc[[12,55],['year2014']]=10000000 \n",
    "#러시아 인터넷 유저 8천만 중 1/8\n",
    "\n",
    "df_shop_new_2.loc[[9],['year2014']]=5000000\n"
   ]
  },
  {
   "cell_type": "code",
   "execution_count": 46,
   "metadata": {
    "scrolled": true
   },
   "outputs": [
    {
     "data": {
      "text/html": [
       "<div>\n",
       "<style>\n",
       "    .dataframe thead tr:only-child th {\n",
       "        text-align: right;\n",
       "    }\n",
       "\n",
       "    .dataframe thead th {\n",
       "        text-align: left;\n",
       "    }\n",
       "\n",
       "    .dataframe tbody tr th {\n",
       "        vertical-align: top;\n",
       "    }\n",
       "</style>\n",
       "<table border=\"1\" class=\"dataframe\">\n",
       "  <thead>\n",
       "    <tr style=\"text-align: right;\">\n",
       "      <th></th>\n",
       "      <th>shop_name</th>\n",
       "      <th>shop_id</th>\n",
       "      <th>location_name</th>\n",
       "      <th>Name</th>\n",
       "      <th>year2014</th>\n",
       "    </tr>\n",
       "  </thead>\n",
       "  <tbody>\n",
       "    <tr>\n",
       "      <th>0</th>\n",
       "      <td>Yakutsk Ordzhonikidze, 56 francs</td>\n",
       "      <td>0</td>\n",
       "      <td>Yakutsk</td>\n",
       "      <td>NaN</td>\n",
       "      <td>nan</td>\n",
       "    </tr>\n",
       "    <tr>\n",
       "      <th>1</th>\n",
       "      <td>Yakutsk TC \"Central\" franc</td>\n",
       "      <td>1</td>\n",
       "      <td>Yakutsk</td>\n",
       "      <td>NaN</td>\n",
       "      <td>nan</td>\n",
       "    </tr>\n",
       "    <tr>\n",
       "      <th>2</th>\n",
       "      <td>Adygea Shopping Center \"Mega\"</td>\n",
       "      <td>2</td>\n",
       "      <td>Adygea</td>\n",
       "      <td>NaN</td>\n",
       "      <td>nan</td>\n",
       "    </tr>\n",
       "    <tr>\n",
       "      <th>3</th>\n",
       "      <td>Balashikha TRK \"October-Kinomir\"</td>\n",
       "      <td>3</td>\n",
       "      <td>Balashikha</td>\n",
       "      <td>NaN</td>\n",
       "      <td>nan</td>\n",
       "    </tr>\n",
       "    <tr>\n",
       "      <th>4</th>\n",
       "      <td>Volzhsky shopping center \"Volga Mall\"</td>\n",
       "      <td>4</td>\n",
       "      <td>Volzhsky</td>\n",
       "      <td>NaN</td>\n",
       "      <td>nan</td>\n",
       "    </tr>\n",
       "    <tr>\n",
       "      <th>10</th>\n",
       "      <td>Zhukovsky Str. Chkalov 39m?</td>\n",
       "      <td>10</td>\n",
       "      <td>Zhukovsky</td>\n",
       "      <td>NaN</td>\n",
       "      <td>nan</td>\n",
       "    </tr>\n",
       "    <tr>\n",
       "      <th>11</th>\n",
       "      <td>Zhukovsky Str. Chkalov 39 m²</td>\n",
       "      <td>11</td>\n",
       "      <td>Zhukovsky</td>\n",
       "      <td>NaN</td>\n",
       "      <td>nan</td>\n",
       "    </tr>\n",
       "    <tr>\n",
       "      <th>13</th>\n",
       "      <td>Kazan Shopping Center \"Bahetle\"</td>\n",
       "      <td>13</td>\n",
       "      <td>Kazan</td>\n",
       "      <td>NaN</td>\n",
       "      <td>nan</td>\n",
       "    </tr>\n",
       "    <tr>\n",
       "      <th>14</th>\n",
       "      <td>Kazan Shopping Center \"ParkHouse\" II</td>\n",
       "      <td>14</td>\n",
       "      <td>Kazan</td>\n",
       "      <td>NaN</td>\n",
       "      <td>nan</td>\n",
       "    </tr>\n",
       "    <tr>\n",
       "      <th>16</th>\n",
       "      <td>Kolomna shopping center \"Rio\"</td>\n",
       "      <td>16</td>\n",
       "      <td>Kolomna</td>\n",
       "      <td>NaN</td>\n",
       "      <td>nan</td>\n",
       "    </tr>\n",
       "    <tr>\n",
       "      <th>33</th>\n",
       "      <td>Mytischi TRK \"XL-3\"</td>\n",
       "      <td>33</td>\n",
       "      <td>Mytischi</td>\n",
       "      <td>NaN</td>\n",
       "      <td>nan</td>\n",
       "    </tr>\n",
       "    <tr>\n",
       "      <th>34</th>\n",
       "      <td>N.Novgorod TRC \"RIO\"</td>\n",
       "      <td>34</td>\n",
       "      <td>N.Novgorod</td>\n",
       "      <td>NaN</td>\n",
       "      <td>nan</td>\n",
       "    </tr>\n",
       "    <tr>\n",
       "      <th>35</th>\n",
       "      <td>N.Novgorod SEC \"Fantastic\"</td>\n",
       "      <td>35</td>\n",
       "      <td>N.Novgorod</td>\n",
       "      <td>NaN</td>\n",
       "      <td>nan</td>\n",
       "    </tr>\n",
       "    <tr>\n",
       "      <th>39</th>\n",
       "      <td>RostovNaDonu TRC \"Megacenter Horizon\"</td>\n",
       "      <td>39</td>\n",
       "      <td>RostovNaDonu</td>\n",
       "      <td>NaN</td>\n",
       "      <td>nan</td>\n",
       "    </tr>\n",
       "    <tr>\n",
       "      <th>40</th>\n",
       "      <td>RostovNaDonu TRC \"Megacenter Horizon\" Island</td>\n",
       "      <td>40</td>\n",
       "      <td>RostovNaDonu</td>\n",
       "      <td>NaN</td>\n",
       "      <td>nan</td>\n",
       "    </tr>\n",
       "    <tr>\n",
       "      <th>41</th>\n",
       "      <td>RostovNaDonu Shopping Center \"Mega\"</td>\n",
       "      <td>41</td>\n",
       "      <td>RostovNaDonu</td>\n",
       "      <td>NaN</td>\n",
       "      <td>nan</td>\n",
       "    </tr>\n",
       "    <tr>\n",
       "      <th>46</th>\n",
       "      <td>Sergiev Posad Shopping center \"7YA\"</td>\n",
       "      <td>46</td>\n",
       "      <td>Sergiev</td>\n",
       "      <td>NaN</td>\n",
       "      <td>nan</td>\n",
       "    </tr>\n",
       "    <tr>\n",
       "      <th>47</th>\n",
       "      <td>Surgut shopping and entertainment center \"City...</td>\n",
       "      <td>47</td>\n",
       "      <td>Surgut</td>\n",
       "      <td>NaN</td>\n",
       "      <td>nan</td>\n",
       "    </tr>\n",
       "    <tr>\n",
       "      <th>52</th>\n",
       "      <td>Ufa TC \"Central\"</td>\n",
       "      <td>52</td>\n",
       "      <td>Ufa</td>\n",
       "      <td>NaN</td>\n",
       "      <td>nan</td>\n",
       "    </tr>\n",
       "    <tr>\n",
       "      <th>53</th>\n",
       "      <td>Ufa TC \"Family\" 2</td>\n",
       "      <td>53</td>\n",
       "      <td>Ufa</td>\n",
       "      <td>NaN</td>\n",
       "      <td>nan</td>\n",
       "    </tr>\n",
       "    <tr>\n",
       "      <th>54</th>\n",
       "      <td>Khimki Shopping Center \"Mega\"</td>\n",
       "      <td>54</td>\n",
       "      <td>Khimki</td>\n",
       "      <td>NaN</td>\n",
       "      <td>nan</td>\n",
       "    </tr>\n",
       "    <tr>\n",
       "      <th>56</th>\n",
       "      <td>Chekhov SEC \"Carnival\"</td>\n",
       "      <td>56</td>\n",
       "      <td>Chekhov</td>\n",
       "      <td>NaN</td>\n",
       "      <td>nan</td>\n",
       "    </tr>\n",
       "    <tr>\n",
       "      <th>57</th>\n",
       "      <td>Yakutsk Ordzhonikidze, 56</td>\n",
       "      <td>57</td>\n",
       "      <td>Yakutsk</td>\n",
       "      <td>NaN</td>\n",
       "      <td>nan</td>\n",
       "    </tr>\n",
       "    <tr>\n",
       "      <th>58</th>\n",
       "      <td>Yakutsk Central shopping center</td>\n",
       "      <td>58</td>\n",
       "      <td>Yakutsk</td>\n",
       "      <td>NaN</td>\n",
       "      <td>nan</td>\n",
       "    </tr>\n",
       "  </tbody>\n",
       "</table>\n",
       "</div>"
      ],
      "text/plain": [
       "                                            shop_name  shop_id location_name  \\\n",
       "0                    Yakutsk Ordzhonikidze, 56 francs        0       Yakutsk   \n",
       "1                          Yakutsk TC \"Central\" franc        1       Yakutsk   \n",
       "2                       Adygea Shopping Center \"Mega\"        2        Adygea   \n",
       "3                    Balashikha TRK \"October-Kinomir\"        3    Balashikha   \n",
       "4               Volzhsky shopping center \"Volga Mall\"        4      Volzhsky   \n",
       "10                        Zhukovsky Str. Chkalov 39m?       10     Zhukovsky   \n",
       "11                       Zhukovsky Str. Chkalov 39 m²       11     Zhukovsky   \n",
       "13                    Kazan Shopping Center \"Bahetle\"       13         Kazan   \n",
       "14               Kazan Shopping Center \"ParkHouse\" II       14         Kazan   \n",
       "16                      Kolomna shopping center \"Rio\"       16       Kolomna   \n",
       "33                                Mytischi TRK \"XL-3\"       33      Mytischi   \n",
       "34                               N.Novgorod TRC \"RIO\"       34    N.Novgorod   \n",
       "35                         N.Novgorod SEC \"Fantastic\"       35    N.Novgorod   \n",
       "39              RostovNaDonu TRC \"Megacenter Horizon\"       39  RostovNaDonu   \n",
       "40       RostovNaDonu TRC \"Megacenter Horizon\" Island       40  RostovNaDonu   \n",
       "41                RostovNaDonu Shopping Center \"Mega\"       41  RostovNaDonu   \n",
       "46                Sergiev Posad Shopping center \"7YA\"       46       Sergiev   \n",
       "47  Surgut shopping and entertainment center \"City...       47        Surgut   \n",
       "52                                   Ufa TC \"Central\"       52           Ufa   \n",
       "53                                  Ufa TC \"Family\" 2       53           Ufa   \n",
       "54                      Khimki Shopping Center \"Mega\"       54        Khimki   \n",
       "56                             Chekhov SEC \"Carnival\"       56       Chekhov   \n",
       "57                          Yakutsk Ordzhonikidze, 56       57       Yakutsk   \n",
       "58                    Yakutsk Central shopping center       58       Yakutsk   \n",
       "\n",
       "   Name  year2014  \n",
       "0   NaN       nan  \n",
       "1   NaN       nan  \n",
       "2   NaN       nan  \n",
       "3   NaN       nan  \n",
       "4   NaN       nan  \n",
       "10  NaN       nan  \n",
       "11  NaN       nan  \n",
       "13  NaN       nan  \n",
       "14  NaN       nan  \n",
       "16  NaN       nan  \n",
       "33  NaN       nan  \n",
       "34  NaN       nan  \n",
       "35  NaN       nan  \n",
       "39  NaN       nan  \n",
       "40  NaN       nan  \n",
       "41  NaN       nan  \n",
       "46  NaN       nan  \n",
       "47  NaN       nan  \n",
       "52  NaN       nan  \n",
       "53  NaN       nan  \n",
       "54  NaN       nan  \n",
       "56  NaN       nan  \n",
       "57  NaN       nan  \n",
       "58  NaN       nan  "
      ]
     },
     "execution_count": 46,
     "metadata": {},
     "output_type": "execute_result"
    }
   ],
   "source": [
    "df_shop_new_2[df_shop_new_2['year2014'].isnull()] # 추가 인구 결측치 지역은 딕트 형태로 태깅후 어플라이 시키겠음"
   ]
  },
  {
   "cell_type": "code",
   "execution_count": 47,
   "metadata": {
    "collapsed": true
   },
   "outputs": [],
   "source": [
    "non_pop_index = df_shop_new_2[df_shop_new_2['year2014'].isnull()].index.tolist()"
   ]
  },
  {
   "cell_type": "code",
   "execution_count": 48,
   "metadata": {},
   "outputs": [
    {
     "data": {
      "text/plain": [
       "['Yakutsk',\n",
       " 'Adygea',\n",
       " 'Balashikha',\n",
       " 'Volzhsky',\n",
       " 'Zhukovsky',\n",
       " 'Kazan',\n",
       " 'Kolomna',\n",
       " 'Mytischi',\n",
       " 'N.Novgorod',\n",
       " 'RostovNaDonu',\n",
       " 'Sergiev',\n",
       " 'Surgut',\n",
       " 'Ufa',\n",
       " 'Khimki',\n",
       " 'Chekhov']"
      ]
     },
     "execution_count": 48,
     "metadata": {},
     "output_type": "execute_result"
    }
   ],
   "source": [
    "df_shop_new_2[df_shop_new_2['year2014'].isnull()]['location_name'].unique().tolist()"
   ]
  },
  {
   "cell_type": "code",
   "execution_count": 49,
   "metadata": {
    "collapsed": true
   },
   "outputs": [],
   "source": [
    "population_tag = {\n",
    "'Yakutsk': 269601,\n",
    "'Adygea':444403,\n",
    "'Balashikha':215494,\n",
    "'Volzhsky':314255,\n",
    "'Zhukovsky':104736 ,\n",
    "'Kazan':1143535,\n",
    "'Kolomna':144589 ,\n",
    "'Mytischi':173160 ,\n",
    "'N.Novgorod':1250619,\n",
    "'RostovNaDonu':1089261 ,\n",
    "'Sergiev':111179 ,\n",
    "'Surgut': 341000,\n",
    "'Ufa': 1023000,\n",
    "'Khimki':207425 ,\n",
    "'Chekhov':60720\n",
    "}"
   ]
  },
  {
   "cell_type": "code",
   "execution_count": 50,
   "metadata": {
    "collapsed": true
   },
   "outputs": [],
   "source": [
    "df_shop_new_2.loc[non_pop_index,['year2014']]=df_shop_new_2[df_shop_new_2['year2014'].isnull()].location_name.map(population_tag)"
   ]
  },
  {
   "cell_type": "code",
   "execution_count": 51,
   "metadata": {},
   "outputs": [
    {
     "data": {
      "text/html": [
       "<div>\n",
       "<style>\n",
       "    .dataframe thead tr:only-child th {\n",
       "        text-align: right;\n",
       "    }\n",
       "\n",
       "    .dataframe thead th {\n",
       "        text-align: left;\n",
       "    }\n",
       "\n",
       "    .dataframe tbody tr th {\n",
       "        vertical-align: top;\n",
       "    }\n",
       "</style>\n",
       "<table border=\"1\" class=\"dataframe\">\n",
       "  <thead>\n",
       "    <tr style=\"text-align: right;\">\n",
       "      <th></th>\n",
       "      <th>shop_name</th>\n",
       "      <th>shop_id</th>\n",
       "      <th>location_name</th>\n",
       "      <th>Name</th>\n",
       "      <th>year2014</th>\n",
       "    </tr>\n",
       "  </thead>\n",
       "  <tbody>\n",
       "  </tbody>\n",
       "</table>\n",
       "</div>"
      ],
      "text/plain": [
       "Empty DataFrame\n",
       "Columns: [shop_name, shop_id, location_name, Name, year2014]\n",
       "Index: []"
      ]
     },
     "execution_count": 51,
     "metadata": {},
     "output_type": "execute_result"
    }
   ],
   "source": [
    "df_shop_new_2[df_shop_new_2['year2014'].isnull()]"
   ]
  },
  {
   "cell_type": "code",
   "execution_count": 52,
   "metadata": {},
   "outputs": [
    {
     "data": {
      "text/html": [
       "<div>\n",
       "<style>\n",
       "    .dataframe thead tr:only-child th {\n",
       "        text-align: right;\n",
       "    }\n",
       "\n",
       "    .dataframe thead th {\n",
       "        text-align: left;\n",
       "    }\n",
       "\n",
       "    .dataframe tbody tr th {\n",
       "        vertical-align: top;\n",
       "    }\n",
       "</style>\n",
       "<table border=\"1\" class=\"dataframe\">\n",
       "  <thead>\n",
       "    <tr style=\"text-align: right;\">\n",
       "      <th></th>\n",
       "      <th>shop_name</th>\n",
       "      <th>shop_id</th>\n",
       "      <th>location_name</th>\n",
       "      <th>Name</th>\n",
       "      <th>year2014</th>\n",
       "    </tr>\n",
       "  </thead>\n",
       "  <tbody>\n",
       "    <tr>\n",
       "      <th>0</th>\n",
       "      <td>Yakutsk Ordzhonikidze, 56 francs</td>\n",
       "      <td>0</td>\n",
       "      <td>Yakutsk</td>\n",
       "      <td>NaN</td>\n",
       "      <td>269601.00</td>\n",
       "    </tr>\n",
       "    <tr>\n",
       "      <th>1</th>\n",
       "      <td>Yakutsk TC \"Central\" franc</td>\n",
       "      <td>1</td>\n",
       "      <td>Yakutsk</td>\n",
       "      <td>NaN</td>\n",
       "      <td>269601.00</td>\n",
       "    </tr>\n",
       "    <tr>\n",
       "      <th>2</th>\n",
       "      <td>Adygea Shopping Center \"Mega\"</td>\n",
       "      <td>2</td>\n",
       "      <td>Adygea</td>\n",
       "      <td>NaN</td>\n",
       "      <td>444403.00</td>\n",
       "    </tr>\n",
       "    <tr>\n",
       "      <th>3</th>\n",
       "      <td>Balashikha TRK \"October-Kinomir\"</td>\n",
       "      <td>3</td>\n",
       "      <td>Balashikha</td>\n",
       "      <td>NaN</td>\n",
       "      <td>215494.00</td>\n",
       "    </tr>\n",
       "    <tr>\n",
       "      <th>4</th>\n",
       "      <td>Volzhsky shopping center \"Volga Mall\"</td>\n",
       "      <td>4</td>\n",
       "      <td>Volzhsky</td>\n",
       "      <td>NaN</td>\n",
       "      <td>314255.00</td>\n",
       "    </tr>\n",
       "  </tbody>\n",
       "</table>\n",
       "</div>"
      ],
      "text/plain": [
       "                               shop_name  shop_id location_name Name  year2014\n",
       "0       Yakutsk Ordzhonikidze, 56 francs        0       Yakutsk  NaN 269601.00\n",
       "1             Yakutsk TC \"Central\" franc        1       Yakutsk  NaN 269601.00\n",
       "2          Adygea Shopping Center \"Mega\"        2        Adygea  NaN 444403.00\n",
       "3       Balashikha TRK \"October-Kinomir\"        3    Balashikha  NaN 215494.00\n",
       "4  Volzhsky shopping center \"Volga Mall\"        4      Volzhsky  NaN 314255.00"
      ]
     },
     "execution_count": 52,
     "metadata": {},
     "output_type": "execute_result"
    }
   ],
   "source": [
    "df_shop_new_2.head()"
   ]
  },
  {
   "cell_type": "markdown",
   "metadata": {},
   "source": []
  },
  {
   "cell_type": "code",
   "execution_count": 53,
   "metadata": {},
   "outputs": [
    {
     "data": {
      "text/plain": [
       "Index(['date', 'date_block_num', 'shop_id', 'item_id', 'item_price',\n",
       "       'item_cnt_day'],\n",
       "      dtype='object')"
      ]
     },
     "execution_count": 53,
     "metadata": {},
     "output_type": "execute_result"
    }
   ],
   "source": [
    "df_train.columns"
   ]
  },
  {
   "cell_type": "code",
   "execution_count": 54,
   "metadata": {
    "scrolled": true
   },
   "outputs": [
    {
     "data": {
      "text/html": [
       "<div>\n",
       "<style>\n",
       "    .dataframe thead tr:only-child th {\n",
       "        text-align: right;\n",
       "    }\n",
       "\n",
       "    .dataframe thead th {\n",
       "        text-align: left;\n",
       "    }\n",
       "\n",
       "    .dataframe tbody tr th {\n",
       "        vertical-align: top;\n",
       "    }\n",
       "</style>\n",
       "<table border=\"1\" class=\"dataframe\">\n",
       "  <thead>\n",
       "    <tr style=\"text-align: right;\">\n",
       "      <th></th>\n",
       "      <th>date</th>\n",
       "      <th>date_block_num</th>\n",
       "      <th>shop_id</th>\n",
       "      <th>item_id</th>\n",
       "      <th>item_price</th>\n",
       "      <th>item_cnt_day</th>\n",
       "      <th>shop_name</th>\n",
       "      <th>location_name</th>\n",
       "      <th>Name</th>\n",
       "      <th>year2014</th>\n",
       "    </tr>\n",
       "  </thead>\n",
       "  <tbody>\n",
       "    <tr>\n",
       "      <th>0</th>\n",
       "      <td>02.01.2013</td>\n",
       "      <td>0</td>\n",
       "      <td>59</td>\n",
       "      <td>22154</td>\n",
       "      <td>999.00</td>\n",
       "      <td>1.00</td>\n",
       "      <td>Yaroslavl Shopping center \"Altair\"</td>\n",
       "      <td>Yaroslavl</td>\n",
       "      <td>Yaroslavl</td>\n",
       "      <td>1271766.00</td>\n",
       "    </tr>\n",
       "    <tr>\n",
       "      <th>1</th>\n",
       "      <td>03.01.2013</td>\n",
       "      <td>0</td>\n",
       "      <td>25</td>\n",
       "      <td>2552</td>\n",
       "      <td>899.00</td>\n",
       "      <td>1.00</td>\n",
       "      <td>Moscow TRK \"Atrium\"</td>\n",
       "      <td>Moscow</td>\n",
       "      <td>Moscow</td>\n",
       "      <td>12108257.00</td>\n",
       "    </tr>\n",
       "    <tr>\n",
       "      <th>2</th>\n",
       "      <td>05.01.2013</td>\n",
       "      <td>0</td>\n",
       "      <td>25</td>\n",
       "      <td>2552</td>\n",
       "      <td>899.00</td>\n",
       "      <td>-1.00</td>\n",
       "      <td>Moscow TRK \"Atrium\"</td>\n",
       "      <td>Moscow</td>\n",
       "      <td>Moscow</td>\n",
       "      <td>12108257.00</td>\n",
       "    </tr>\n",
       "    <tr>\n",
       "      <th>3</th>\n",
       "      <td>06.01.2013</td>\n",
       "      <td>0</td>\n",
       "      <td>25</td>\n",
       "      <td>2554</td>\n",
       "      <td>1709.05</td>\n",
       "      <td>1.00</td>\n",
       "      <td>Moscow TRK \"Atrium\"</td>\n",
       "      <td>Moscow</td>\n",
       "      <td>Moscow</td>\n",
       "      <td>12108257.00</td>\n",
       "    </tr>\n",
       "    <tr>\n",
       "      <th>4</th>\n",
       "      <td>15.01.2013</td>\n",
       "      <td>0</td>\n",
       "      <td>25</td>\n",
       "      <td>2555</td>\n",
       "      <td>1099.00</td>\n",
       "      <td>1.00</td>\n",
       "      <td>Moscow TRK \"Atrium\"</td>\n",
       "      <td>Moscow</td>\n",
       "      <td>Moscow</td>\n",
       "      <td>12108257.00</td>\n",
       "    </tr>\n",
       "  </tbody>\n",
       "</table>\n",
       "</div>"
      ],
      "text/plain": [
       "         date  date_block_num  shop_id  item_id  item_price  item_cnt_day  \\\n",
       "0  02.01.2013               0       59    22154      999.00          1.00   \n",
       "1  03.01.2013               0       25     2552      899.00          1.00   \n",
       "2  05.01.2013               0       25     2552      899.00         -1.00   \n",
       "3  06.01.2013               0       25     2554     1709.05          1.00   \n",
       "4  15.01.2013               0       25     2555     1099.00          1.00   \n",
       "\n",
       "                            shop_name location_name       Name    year2014  \n",
       "0  Yaroslavl Shopping center \"Altair\"     Yaroslavl  Yaroslavl  1271766.00  \n",
       "1                 Moscow TRK \"Atrium\"        Moscow     Moscow 12108257.00  \n",
       "2                 Moscow TRK \"Atrium\"        Moscow     Moscow 12108257.00  \n",
       "3                 Moscow TRK \"Atrium\"        Moscow     Moscow 12108257.00  \n",
       "4                 Moscow TRK \"Atrium\"        Moscow     Moscow 12108257.00  "
      ]
     },
     "execution_count": 54,
     "metadata": {},
     "output_type": "execute_result"
    }
   ],
   "source": [
    "df_train_location = pd.merge(df_train,df_shop_new_2,left_on = 'shop_id', right_on='shop_id', how='left')\n",
    "df_train_location.head()"
   ]
  },
  {
   "cell_type": "code",
   "execution_count": 55,
   "metadata": {
    "collapsed": true
   },
   "outputs": [],
   "source": [
    "df_train_location.drop(['date'],inplace=True,axis=1)"
   ]
  },
  {
   "cell_type": "code",
   "execution_count": 56,
   "metadata": {
    "scrolled": true
   },
   "outputs": [
    {
     "data": {
      "text/html": [
       "<div>\n",
       "<style>\n",
       "    .dataframe thead tr:only-child th {\n",
       "        text-align: right;\n",
       "    }\n",
       "\n",
       "    .dataframe thead th {\n",
       "        text-align: left;\n",
       "    }\n",
       "\n",
       "    .dataframe tbody tr th {\n",
       "        vertical-align: top;\n",
       "    }\n",
       "</style>\n",
       "<table border=\"1\" class=\"dataframe\">\n",
       "  <thead>\n",
       "    <tr style=\"text-align: right;\">\n",
       "      <th></th>\n",
       "      <th>date_block_num</th>\n",
       "      <th>shop_id</th>\n",
       "      <th>item_id</th>\n",
       "      <th>item_price</th>\n",
       "      <th>item_cnt_day</th>\n",
       "      <th>shop_name</th>\n",
       "      <th>location_name</th>\n",
       "      <th>Name</th>\n",
       "      <th>year2014</th>\n",
       "    </tr>\n",
       "  </thead>\n",
       "  <tbody>\n",
       "    <tr>\n",
       "      <th>0</th>\n",
       "      <td>0</td>\n",
       "      <td>59</td>\n",
       "      <td>22154</td>\n",
       "      <td>999.00</td>\n",
       "      <td>1.00</td>\n",
       "      <td>Yaroslavl Shopping center \"Altair\"</td>\n",
       "      <td>Yaroslavl</td>\n",
       "      <td>Yaroslavl</td>\n",
       "      <td>1271766.00</td>\n",
       "    </tr>\n",
       "    <tr>\n",
       "      <th>1</th>\n",
       "      <td>0</td>\n",
       "      <td>25</td>\n",
       "      <td>2552</td>\n",
       "      <td>899.00</td>\n",
       "      <td>1.00</td>\n",
       "      <td>Moscow TRK \"Atrium\"</td>\n",
       "      <td>Moscow</td>\n",
       "      <td>Moscow</td>\n",
       "      <td>12108257.00</td>\n",
       "    </tr>\n",
       "    <tr>\n",
       "      <th>2</th>\n",
       "      <td>0</td>\n",
       "      <td>25</td>\n",
       "      <td>2552</td>\n",
       "      <td>899.00</td>\n",
       "      <td>-1.00</td>\n",
       "      <td>Moscow TRK \"Atrium\"</td>\n",
       "      <td>Moscow</td>\n",
       "      <td>Moscow</td>\n",
       "      <td>12108257.00</td>\n",
       "    </tr>\n",
       "    <tr>\n",
       "      <th>3</th>\n",
       "      <td>0</td>\n",
       "      <td>25</td>\n",
       "      <td>2554</td>\n",
       "      <td>1709.05</td>\n",
       "      <td>1.00</td>\n",
       "      <td>Moscow TRK \"Atrium\"</td>\n",
       "      <td>Moscow</td>\n",
       "      <td>Moscow</td>\n",
       "      <td>12108257.00</td>\n",
       "    </tr>\n",
       "    <tr>\n",
       "      <th>4</th>\n",
       "      <td>0</td>\n",
       "      <td>25</td>\n",
       "      <td>2555</td>\n",
       "      <td>1099.00</td>\n",
       "      <td>1.00</td>\n",
       "      <td>Moscow TRK \"Atrium\"</td>\n",
       "      <td>Moscow</td>\n",
       "      <td>Moscow</td>\n",
       "      <td>12108257.00</td>\n",
       "    </tr>\n",
       "  </tbody>\n",
       "</table>\n",
       "</div>"
      ],
      "text/plain": [
       "   date_block_num  shop_id  item_id  item_price  item_cnt_day  \\\n",
       "0               0       59    22154      999.00          1.00   \n",
       "1               0       25     2552      899.00          1.00   \n",
       "2               0       25     2552      899.00         -1.00   \n",
       "3               0       25     2554     1709.05          1.00   \n",
       "4               0       25     2555     1099.00          1.00   \n",
       "\n",
       "                            shop_name location_name       Name    year2014  \n",
       "0  Yaroslavl Shopping center \"Altair\"     Yaroslavl  Yaroslavl  1271766.00  \n",
       "1                 Moscow TRK \"Atrium\"        Moscow     Moscow 12108257.00  \n",
       "2                 Moscow TRK \"Atrium\"        Moscow     Moscow 12108257.00  \n",
       "3                 Moscow TRK \"Atrium\"        Moscow     Moscow 12108257.00  \n",
       "4                 Moscow TRK \"Atrium\"        Moscow     Moscow 12108257.00  "
      ]
     },
     "execution_count": 56,
     "metadata": {},
     "output_type": "execute_result"
    }
   ],
   "source": [
    "df_train_location.head()"
   ]
  },
  {
   "cell_type": "code",
   "execution_count": 57,
   "metadata": {
    "collapsed": true
   },
   "outputs": [],
   "source": [
    "df_train_location.drop(['Name'],axis=1,inplace=True)"
   ]
  },
  {
   "cell_type": "code",
   "execution_count": null,
   "metadata": {
    "collapsed": true
   },
   "outputs": [],
   "source": [
    "\n"
   ]
  },
  {
   "cell_type": "code",
   "execution_count": 58,
   "metadata": {
    "scrolled": true
   },
   "outputs": [
    {
     "name": "stderr",
     "output_type": "stream",
     "text": [
      "c:\\users\\cch88\\miniconda3\\envs\\ml_python\\lib\\site-packages\\ipykernel_launcher.py:1: UserWarning: Boolean Series key will be reindexed to match DataFrame index.\n",
      "  \"\"\"Entry point for launching an IPython kernel.\n"
     ]
    },
    {
     "data": {
      "text/html": [
       "<div>\n",
       "<style>\n",
       "    .dataframe thead tr:only-child th {\n",
       "        text-align: right;\n",
       "    }\n",
       "\n",
       "    .dataframe thead th {\n",
       "        text-align: left;\n",
       "    }\n",
       "\n",
       "    .dataframe tbody tr th {\n",
       "        vertical-align: top;\n",
       "    }\n",
       "</style>\n",
       "<table border=\"1\" class=\"dataframe\">\n",
       "  <thead>\n",
       "    <tr style=\"text-align: right;\">\n",
       "      <th></th>\n",
       "      <th>date_block_num</th>\n",
       "      <th>shop_id</th>\n",
       "      <th>item_id</th>\n",
       "      <th>item_price</th>\n",
       "      <th>item_cnt_day</th>\n",
       "      <th>shop_name</th>\n",
       "      <th>location_name</th>\n",
       "      <th>year2014</th>\n",
       "    </tr>\n",
       "  </thead>\n",
       "  <tbody>\n",
       "    <tr>\n",
       "      <th>40085</th>\n",
       "      <td>0</td>\n",
       "      <td>0</td>\n",
       "      <td>32</td>\n",
       "      <td>221.00</td>\n",
       "      <td>2.00</td>\n",
       "      <td>Yakutsk Ordzhonikidze, 56 francs</td>\n",
       "      <td>Yakutsk</td>\n",
       "      <td>269601.00</td>\n",
       "    </tr>\n",
       "    <tr>\n",
       "      <th>40086</th>\n",
       "      <td>0</td>\n",
       "      <td>0</td>\n",
       "      <td>32</td>\n",
       "      <td>221.00</td>\n",
       "      <td>2.00</td>\n",
       "      <td>Yakutsk Ordzhonikidze, 56 francs</td>\n",
       "      <td>Yakutsk</td>\n",
       "      <td>269601.00</td>\n",
       "    </tr>\n",
       "    <tr>\n",
       "      <th>40087</th>\n",
       "      <td>0</td>\n",
       "      <td>0</td>\n",
       "      <td>32</td>\n",
       "      <td>221.00</td>\n",
       "      <td>1.00</td>\n",
       "      <td>Yakutsk Ordzhonikidze, 56 francs</td>\n",
       "      <td>Yakutsk</td>\n",
       "      <td>269601.00</td>\n",
       "    </tr>\n",
       "    <tr>\n",
       "      <th>40088</th>\n",
       "      <td>0</td>\n",
       "      <td>0</td>\n",
       "      <td>32</td>\n",
       "      <td>221.00</td>\n",
       "      <td>1.00</td>\n",
       "      <td>Yakutsk Ordzhonikidze, 56 francs</td>\n",
       "      <td>Yakutsk</td>\n",
       "      <td>269601.00</td>\n",
       "    </tr>\n",
       "    <tr>\n",
       "      <th>173447</th>\n",
       "      <td>1</td>\n",
       "      <td>0</td>\n",
       "      <td>32</td>\n",
       "      <td>221.00</td>\n",
       "      <td>1.00</td>\n",
       "      <td>Yakutsk Ordzhonikidze, 56 francs</td>\n",
       "      <td>Yakutsk</td>\n",
       "      <td>269601.00</td>\n",
       "    </tr>\n",
       "    <tr>\n",
       "      <th>173448</th>\n",
       "      <td>1</td>\n",
       "      <td>0</td>\n",
       "      <td>32</td>\n",
       "      <td>221.00</td>\n",
       "      <td>2.00</td>\n",
       "      <td>Yakutsk Ordzhonikidze, 56 francs</td>\n",
       "      <td>Yakutsk</td>\n",
       "      <td>269601.00</td>\n",
       "    </tr>\n",
       "    <tr>\n",
       "      <th>173449</th>\n",
       "      <td>1</td>\n",
       "      <td>0</td>\n",
       "      <td>32</td>\n",
       "      <td>221.00</td>\n",
       "      <td>2.00</td>\n",
       "      <td>Yakutsk Ordzhonikidze, 56 francs</td>\n",
       "      <td>Yakutsk</td>\n",
       "      <td>269601.00</td>\n",
       "    </tr>\n",
       "    <tr>\n",
       "      <th>173450</th>\n",
       "      <td>1</td>\n",
       "      <td>0</td>\n",
       "      <td>32</td>\n",
       "      <td>221.00</td>\n",
       "      <td>1.00</td>\n",
       "      <td>Yakutsk Ordzhonikidze, 56 francs</td>\n",
       "      <td>Yakutsk</td>\n",
       "      <td>269601.00</td>\n",
       "    </tr>\n",
       "    <tr>\n",
       "      <th>173452</th>\n",
       "      <td>1</td>\n",
       "      <td>0</td>\n",
       "      <td>32</td>\n",
       "      <td>221.00</td>\n",
       "      <td>2.00</td>\n",
       "      <td>Yakutsk Ordzhonikidze, 56 francs</td>\n",
       "      <td>Yakutsk</td>\n",
       "      <td>269601.00</td>\n",
       "    </tr>\n",
       "    <tr>\n",
       "      <th>173453</th>\n",
       "      <td>1</td>\n",
       "      <td>0</td>\n",
       "      <td>32</td>\n",
       "      <td>221.00</td>\n",
       "      <td>1.00</td>\n",
       "      <td>Yakutsk Ordzhonikidze, 56 francs</td>\n",
       "      <td>Yakutsk</td>\n",
       "      <td>269601.00</td>\n",
       "    </tr>\n",
       "    <tr>\n",
       "      <th>173460</th>\n",
       "      <td>1</td>\n",
       "      <td>0</td>\n",
       "      <td>32</td>\n",
       "      <td>221.00</td>\n",
       "      <td>1.00</td>\n",
       "      <td>Yakutsk Ordzhonikidze, 56 francs</td>\n",
       "      <td>Yakutsk</td>\n",
       "      <td>269601.00</td>\n",
       "    </tr>\n",
       "  </tbody>\n",
       "</table>\n",
       "</div>"
      ],
      "text/plain": [
       "        date_block_num  shop_id  item_id  item_price  item_cnt_day  \\\n",
       "40085                0        0       32      221.00          2.00   \n",
       "40086                0        0       32      221.00          2.00   \n",
       "40087                0        0       32      221.00          1.00   \n",
       "40088                0        0       32      221.00          1.00   \n",
       "173447               1        0       32      221.00          1.00   \n",
       "173448               1        0       32      221.00          2.00   \n",
       "173449               1        0       32      221.00          2.00   \n",
       "173450               1        0       32      221.00          1.00   \n",
       "173452               1        0       32      221.00          2.00   \n",
       "173453               1        0       32      221.00          1.00   \n",
       "173460               1        0       32      221.00          1.00   \n",
       "\n",
       "                               shop_name location_name  year2014  \n",
       "40085   Yakutsk Ordzhonikidze, 56 francs       Yakutsk 269601.00  \n",
       "40086   Yakutsk Ordzhonikidze, 56 francs       Yakutsk 269601.00  \n",
       "40087   Yakutsk Ordzhonikidze, 56 francs       Yakutsk 269601.00  \n",
       "40088   Yakutsk Ordzhonikidze, 56 francs       Yakutsk 269601.00  \n",
       "173447  Yakutsk Ordzhonikidze, 56 francs       Yakutsk 269601.00  \n",
       "173448  Yakutsk Ordzhonikidze, 56 francs       Yakutsk 269601.00  \n",
       "173449  Yakutsk Ordzhonikidze, 56 francs       Yakutsk 269601.00  \n",
       "173450  Yakutsk Ordzhonikidze, 56 francs       Yakutsk 269601.00  \n",
       "173452  Yakutsk Ordzhonikidze, 56 francs       Yakutsk 269601.00  \n",
       "173453  Yakutsk Ordzhonikidze, 56 francs       Yakutsk 269601.00  \n",
       "173460  Yakutsk Ordzhonikidze, 56 francs       Yakutsk 269601.00  "
      ]
     },
     "execution_count": 58,
     "metadata": {},
     "output_type": "execute_result"
    }
   ],
   "source": [
    "df_train_location[df_train_location['shop_id']==0][df_train_location['item_id']==32]"
   ]
  },
  {
   "cell_type": "code",
   "execution_count": 59,
   "metadata": {
    "collapsed": true
   },
   "outputs": [],
   "source": [
    "df_item_cnt_month=df_train_location.groupby(['shop_id','item_id','date_block_num']).agg({\n",
    "                                                                  'item_cnt_day' : sum})"
   ]
  },
  {
   "cell_type": "markdown",
   "metadata": {},
   "source": []
  },
  {
   "cell_type": "code",
   "execution_count": 60,
   "metadata": {},
   "outputs": [
    {
     "data": {
      "text/html": [
       "<div>\n",
       "<style>\n",
       "    .dataframe thead tr:only-child th {\n",
       "        text-align: right;\n",
       "    }\n",
       "\n",
       "    .dataframe thead th {\n",
       "        text-align: left;\n",
       "    }\n",
       "\n",
       "    .dataframe tbody tr th {\n",
       "        vertical-align: top;\n",
       "    }\n",
       "</style>\n",
       "<table border=\"1\" class=\"dataframe\">\n",
       "  <thead>\n",
       "    <tr style=\"text-align: right;\">\n",
       "      <th></th>\n",
       "      <th></th>\n",
       "      <th></th>\n",
       "      <th>item_cnt_day</th>\n",
       "    </tr>\n",
       "    <tr>\n",
       "      <th>shop_id</th>\n",
       "      <th>item_id</th>\n",
       "      <th>date_block_num</th>\n",
       "      <th></th>\n",
       "    </tr>\n",
       "  </thead>\n",
       "  <tbody>\n",
       "    <tr>\n",
       "      <th rowspan=\"5\" valign=\"top\">0</th>\n",
       "      <th>30</th>\n",
       "      <th>1</th>\n",
       "      <td>31.00</td>\n",
       "    </tr>\n",
       "    <tr>\n",
       "      <th>31</th>\n",
       "      <th>1</th>\n",
       "      <td>11.00</td>\n",
       "    </tr>\n",
       "    <tr>\n",
       "      <th rowspan=\"2\" valign=\"top\">32</th>\n",
       "      <th>0</th>\n",
       "      <td>6.00</td>\n",
       "    </tr>\n",
       "    <tr>\n",
       "      <th>1</th>\n",
       "      <td>10.00</td>\n",
       "    </tr>\n",
       "    <tr>\n",
       "      <th>33</th>\n",
       "      <th>0</th>\n",
       "      <td>3.00</td>\n",
       "    </tr>\n",
       "  </tbody>\n",
       "</table>\n",
       "</div>"
      ],
      "text/plain": [
       "                                item_cnt_day\n",
       "shop_id item_id date_block_num              \n",
       "0       30      1                      31.00\n",
       "        31      1                      11.00\n",
       "        32      0                       6.00\n",
       "                1                      10.00\n",
       "        33      0                       3.00"
      ]
     },
     "execution_count": 60,
     "metadata": {},
     "output_type": "execute_result"
    }
   ],
   "source": [
    "df_item_cnt_month.head()"
   ]
  },
  {
   "cell_type": "code",
   "execution_count": 61,
   "metadata": {
    "collapsed": true
   },
   "outputs": [],
   "source": [
    "df_item_cnt_month.reset_index(inplace=True)"
   ]
  },
  {
   "cell_type": "code",
   "execution_count": 62,
   "metadata": {},
   "outputs": [
    {
     "data": {
      "text/html": [
       "<div>\n",
       "<style>\n",
       "    .dataframe thead tr:only-child th {\n",
       "        text-align: right;\n",
       "    }\n",
       "\n",
       "    .dataframe thead th {\n",
       "        text-align: left;\n",
       "    }\n",
       "\n",
       "    .dataframe tbody tr th {\n",
       "        vertical-align: top;\n",
       "    }\n",
       "</style>\n",
       "<table border=\"1\" class=\"dataframe\">\n",
       "  <thead>\n",
       "    <tr style=\"text-align: right;\">\n",
       "      <th></th>\n",
       "      <th>shop_id</th>\n",
       "      <th>item_id</th>\n",
       "      <th>date_block_num</th>\n",
       "      <th>item_cnt_day</th>\n",
       "    </tr>\n",
       "  </thead>\n",
       "  <tbody>\n",
       "    <tr>\n",
       "      <th>0</th>\n",
       "      <td>0</td>\n",
       "      <td>30</td>\n",
       "      <td>1</td>\n",
       "      <td>31.00</td>\n",
       "    </tr>\n",
       "    <tr>\n",
       "      <th>1</th>\n",
       "      <td>0</td>\n",
       "      <td>31</td>\n",
       "      <td>1</td>\n",
       "      <td>11.00</td>\n",
       "    </tr>\n",
       "    <tr>\n",
       "      <th>2</th>\n",
       "      <td>0</td>\n",
       "      <td>32</td>\n",
       "      <td>0</td>\n",
       "      <td>6.00</td>\n",
       "    </tr>\n",
       "    <tr>\n",
       "      <th>3</th>\n",
       "      <td>0</td>\n",
       "      <td>32</td>\n",
       "      <td>1</td>\n",
       "      <td>10.00</td>\n",
       "    </tr>\n",
       "    <tr>\n",
       "      <th>4</th>\n",
       "      <td>0</td>\n",
       "      <td>33</td>\n",
       "      <td>0</td>\n",
       "      <td>3.00</td>\n",
       "    </tr>\n",
       "  </tbody>\n",
       "</table>\n",
       "</div>"
      ],
      "text/plain": [
       "   shop_id  item_id  date_block_num  item_cnt_day\n",
       "0        0       30               1         31.00\n",
       "1        0       31               1         11.00\n",
       "2        0       32               0          6.00\n",
       "3        0       32               1         10.00\n",
       "4        0       33               0          3.00"
      ]
     },
     "execution_count": 62,
     "metadata": {},
     "output_type": "execute_result"
    }
   ],
   "source": [
    "df_item_cnt_month.head()"
   ]
  },
  {
   "cell_type": "code",
   "execution_count": 63,
   "metadata": {},
   "outputs": [
    {
     "data": {
      "text/html": [
       "<div>\n",
       "<style>\n",
       "    .dataframe thead tr:only-child th {\n",
       "        text-align: right;\n",
       "    }\n",
       "\n",
       "    .dataframe thead th {\n",
       "        text-align: left;\n",
       "    }\n",
       "\n",
       "    .dataframe tbody tr th {\n",
       "        vertical-align: top;\n",
       "    }\n",
       "</style>\n",
       "<table border=\"1\" class=\"dataframe\">\n",
       "  <thead>\n",
       "    <tr style=\"text-align: right;\">\n",
       "      <th></th>\n",
       "      <th>shop_id</th>\n",
       "      <th>item_id</th>\n",
       "      <th>date_block_num</th>\n",
       "      <th>item_cnt_month</th>\n",
       "    </tr>\n",
       "  </thead>\n",
       "  <tbody>\n",
       "    <tr>\n",
       "      <th>0</th>\n",
       "      <td>0</td>\n",
       "      <td>30</td>\n",
       "      <td>1</td>\n",
       "      <td>31.00</td>\n",
       "    </tr>\n",
       "    <tr>\n",
       "      <th>1</th>\n",
       "      <td>0</td>\n",
       "      <td>31</td>\n",
       "      <td>1</td>\n",
       "      <td>11.00</td>\n",
       "    </tr>\n",
       "    <tr>\n",
       "      <th>2</th>\n",
       "      <td>0</td>\n",
       "      <td>32</td>\n",
       "      <td>0</td>\n",
       "      <td>6.00</td>\n",
       "    </tr>\n",
       "    <tr>\n",
       "      <th>3</th>\n",
       "      <td>0</td>\n",
       "      <td>32</td>\n",
       "      <td>1</td>\n",
       "      <td>10.00</td>\n",
       "    </tr>\n",
       "    <tr>\n",
       "      <th>4</th>\n",
       "      <td>0</td>\n",
       "      <td>33</td>\n",
       "      <td>0</td>\n",
       "      <td>3.00</td>\n",
       "    </tr>\n",
       "  </tbody>\n",
       "</table>\n",
       "</div>"
      ],
      "text/plain": [
       "   shop_id  item_id  date_block_num  item_cnt_month\n",
       "0        0       30               1           31.00\n",
       "1        0       31               1           11.00\n",
       "2        0       32               0            6.00\n",
       "3        0       32               1           10.00\n",
       "4        0       33               0            3.00"
      ]
     },
     "execution_count": 63,
     "metadata": {},
     "output_type": "execute_result"
    }
   ],
   "source": [
    "df_item_cnt_month.rename(columns={'item_cnt_day': 'item_cnt_month'},inplace=True)\n",
    "df_item_cnt_month.head()"
   ]
  },
  {
   "cell_type": "code",
   "execution_count": 64,
   "metadata": {
    "collapsed": true
   },
   "outputs": [],
   "source": [
    "df_train_merge=pd.merge(df_train_location, df_item_cnt_month, \n",
    "         left_on=['shop_id','item_id','date_block_num'],\n",
    "         right_on=['shop_id','item_id','date_block_num'],\n",
    "        how ='left')"
   ]
  },
  {
   "cell_type": "code",
   "execution_count": 65,
   "metadata": {},
   "outputs": [
    {
     "data": {
      "text/html": [
       "<div>\n",
       "<style>\n",
       "    .dataframe thead tr:only-child th {\n",
       "        text-align: right;\n",
       "    }\n",
       "\n",
       "    .dataframe thead th {\n",
       "        text-align: left;\n",
       "    }\n",
       "\n",
       "    .dataframe tbody tr th {\n",
       "        vertical-align: top;\n",
       "    }\n",
       "</style>\n",
       "<table border=\"1\" class=\"dataframe\">\n",
       "  <thead>\n",
       "    <tr style=\"text-align: right;\">\n",
       "      <th></th>\n",
       "      <th>date_block_num</th>\n",
       "      <th>shop_id</th>\n",
       "      <th>item_id</th>\n",
       "      <th>item_price</th>\n",
       "      <th>item_cnt_day</th>\n",
       "      <th>shop_name</th>\n",
       "      <th>location_name</th>\n",
       "      <th>year2014</th>\n",
       "      <th>item_cnt_month</th>\n",
       "    </tr>\n",
       "  </thead>\n",
       "  <tbody>\n",
       "    <tr>\n",
       "      <th>0</th>\n",
       "      <td>0</td>\n",
       "      <td>59</td>\n",
       "      <td>22154</td>\n",
       "      <td>999.00</td>\n",
       "      <td>1.00</td>\n",
       "      <td>Yaroslavl Shopping center \"Altair\"</td>\n",
       "      <td>Yaroslavl</td>\n",
       "      <td>1271766.00</td>\n",
       "      <td>1.00</td>\n",
       "    </tr>\n",
       "    <tr>\n",
       "      <th>1</th>\n",
       "      <td>0</td>\n",
       "      <td>25</td>\n",
       "      <td>2552</td>\n",
       "      <td>899.00</td>\n",
       "      <td>1.00</td>\n",
       "      <td>Moscow TRK \"Atrium\"</td>\n",
       "      <td>Moscow</td>\n",
       "      <td>12108257.00</td>\n",
       "      <td>0.00</td>\n",
       "    </tr>\n",
       "    <tr>\n",
       "      <th>2</th>\n",
       "      <td>0</td>\n",
       "      <td>25</td>\n",
       "      <td>2552</td>\n",
       "      <td>899.00</td>\n",
       "      <td>-1.00</td>\n",
       "      <td>Moscow TRK \"Atrium\"</td>\n",
       "      <td>Moscow</td>\n",
       "      <td>12108257.00</td>\n",
       "      <td>0.00</td>\n",
       "    </tr>\n",
       "    <tr>\n",
       "      <th>3</th>\n",
       "      <td>0</td>\n",
       "      <td>25</td>\n",
       "      <td>2554</td>\n",
       "      <td>1709.05</td>\n",
       "      <td>1.00</td>\n",
       "      <td>Moscow TRK \"Atrium\"</td>\n",
       "      <td>Moscow</td>\n",
       "      <td>12108257.00</td>\n",
       "      <td>1.00</td>\n",
       "    </tr>\n",
       "    <tr>\n",
       "      <th>4</th>\n",
       "      <td>0</td>\n",
       "      <td>25</td>\n",
       "      <td>2555</td>\n",
       "      <td>1099.00</td>\n",
       "      <td>1.00</td>\n",
       "      <td>Moscow TRK \"Atrium\"</td>\n",
       "      <td>Moscow</td>\n",
       "      <td>12108257.00</td>\n",
       "      <td>1.00</td>\n",
       "    </tr>\n",
       "  </tbody>\n",
       "</table>\n",
       "</div>"
      ],
      "text/plain": [
       "   date_block_num  shop_id  item_id  item_price  item_cnt_day  \\\n",
       "0               0       59    22154      999.00          1.00   \n",
       "1               0       25     2552      899.00          1.00   \n",
       "2               0       25     2552      899.00         -1.00   \n",
       "3               0       25     2554     1709.05          1.00   \n",
       "4               0       25     2555     1099.00          1.00   \n",
       "\n",
       "                            shop_name location_name    year2014  \\\n",
       "0  Yaroslavl Shopping center \"Altair\"     Yaroslavl  1271766.00   \n",
       "1                 Moscow TRK \"Atrium\"        Moscow 12108257.00   \n",
       "2                 Moscow TRK \"Atrium\"        Moscow 12108257.00   \n",
       "3                 Moscow TRK \"Atrium\"        Moscow 12108257.00   \n",
       "4                 Moscow TRK \"Atrium\"        Moscow 12108257.00   \n",
       "\n",
       "   item_cnt_month  \n",
       "0            1.00  \n",
       "1            0.00  \n",
       "2            0.00  \n",
       "3            1.00  \n",
       "4            1.00  "
      ]
     },
     "execution_count": 65,
     "metadata": {},
     "output_type": "execute_result"
    }
   ],
   "source": [
    "df_train_merge.head()"
   ]
  },
  {
   "cell_type": "code",
   "execution_count": 66,
   "metadata": {},
   "outputs": [
    {
     "data": {
      "text/html": [
       "<div>\n",
       "<style>\n",
       "    .dataframe thead tr:only-child th {\n",
       "        text-align: right;\n",
       "    }\n",
       "\n",
       "    .dataframe thead th {\n",
       "        text-align: left;\n",
       "    }\n",
       "\n",
       "    .dataframe tbody tr th {\n",
       "        vertical-align: top;\n",
       "    }\n",
       "</style>\n",
       "<table border=\"1\" class=\"dataframe\">\n",
       "  <thead>\n",
       "    <tr style=\"text-align: right;\">\n",
       "      <th></th>\n",
       "      <th></th>\n",
       "      <th></th>\n",
       "      <th>item_price</th>\n",
       "      <th>item_cnt_month</th>\n",
       "      <th>shop_name</th>\n",
       "      <th>item_cnt_day</th>\n",
       "      <th>location_name</th>\n",
       "      <th>year2014</th>\n",
       "    </tr>\n",
       "    <tr>\n",
       "      <th>shop_id</th>\n",
       "      <th>item_id</th>\n",
       "      <th>date_block_num</th>\n",
       "      <th></th>\n",
       "      <th></th>\n",
       "      <th></th>\n",
       "      <th></th>\n",
       "      <th></th>\n",
       "      <th></th>\n",
       "    </tr>\n",
       "  </thead>\n",
       "  <tbody>\n",
       "    <tr>\n",
       "      <th rowspan=\"5\" valign=\"top\">0</th>\n",
       "      <th>30</th>\n",
       "      <th>1</th>\n",
       "      <td>265.00</td>\n",
       "      <td>31.00</td>\n",
       "      <td>Yakutsk Ordzhonikidze, 56 francs</td>\n",
       "      <td>9.00</td>\n",
       "      <td>Yakutsk</td>\n",
       "      <td>269601.00</td>\n",
       "    </tr>\n",
       "    <tr>\n",
       "      <th>31</th>\n",
       "      <th>1</th>\n",
       "      <td>434.00</td>\n",
       "      <td>11.00</td>\n",
       "      <td>Yakutsk Ordzhonikidze, 56 francs</td>\n",
       "      <td>3.00</td>\n",
       "      <td>Yakutsk</td>\n",
       "      <td>269601.00</td>\n",
       "    </tr>\n",
       "    <tr>\n",
       "      <th rowspan=\"2\" valign=\"top\">32</th>\n",
       "      <th>0</th>\n",
       "      <td>221.00</td>\n",
       "      <td>6.00</td>\n",
       "      <td>Yakutsk Ordzhonikidze, 56 francs</td>\n",
       "      <td>2.00</td>\n",
       "      <td>Yakutsk</td>\n",
       "      <td>269601.00</td>\n",
       "    </tr>\n",
       "    <tr>\n",
       "      <th>1</th>\n",
       "      <td>221.00</td>\n",
       "      <td>10.00</td>\n",
       "      <td>Yakutsk Ordzhonikidze, 56 francs</td>\n",
       "      <td>2.00</td>\n",
       "      <td>Yakutsk</td>\n",
       "      <td>269601.00</td>\n",
       "    </tr>\n",
       "    <tr>\n",
       "      <th>33</th>\n",
       "      <th>0</th>\n",
       "      <td>347.00</td>\n",
       "      <td>3.00</td>\n",
       "      <td>Yakutsk Ordzhonikidze, 56 francs</td>\n",
       "      <td>1.00</td>\n",
       "      <td>Yakutsk</td>\n",
       "      <td>269601.00</td>\n",
       "    </tr>\n",
       "  </tbody>\n",
       "</table>\n",
       "</div>"
      ],
      "text/plain": [
       "                                item_price  item_cnt_month  \\\n",
       "shop_id item_id date_block_num                               \n",
       "0       30      1                   265.00           31.00   \n",
       "        31      1                   434.00           11.00   \n",
       "        32      0                   221.00            6.00   \n",
       "                1                   221.00           10.00   \n",
       "        33      0                   347.00            3.00   \n",
       "\n",
       "                                                       shop_name  \\\n",
       "shop_id item_id date_block_num                                     \n",
       "0       30      1               Yakutsk Ordzhonikidze, 56 francs   \n",
       "        31      1               Yakutsk Ordzhonikidze, 56 francs   \n",
       "        32      0               Yakutsk Ordzhonikidze, 56 francs   \n",
       "                1               Yakutsk Ordzhonikidze, 56 francs   \n",
       "        33      0               Yakutsk Ordzhonikidze, 56 francs   \n",
       "\n",
       "                                item_cnt_day location_name  year2014  \n",
       "shop_id item_id date_block_num                                        \n",
       "0       30      1                       9.00       Yakutsk 269601.00  \n",
       "        31      1                       3.00       Yakutsk 269601.00  \n",
       "        32      0                       2.00       Yakutsk 269601.00  \n",
       "                1                       2.00       Yakutsk 269601.00  \n",
       "        33      0                       1.00       Yakutsk 269601.00  "
      ]
     },
     "execution_count": 66,
     "metadata": {},
     "output_type": "execute_result"
    }
   ],
   "source": [
    "df_train_fin=df_train_merge.groupby(['shop_id','item_id','date_block_num']).agg({'item_price':'mean',\n",
    "                                                                                 'shop_name' : 'max',\n",
    "                                                                                 'location_name' : 'max',\n",
    "                                                                                 'year2014':'mean',\n",
    "                                                                                 'item_cnt_day' : max,\n",
    "                                                                                 'item_cnt_month' : max})\n",
    "df_train_fin.head()"
   ]
  },
  {
   "cell_type": "code",
   "execution_count": 67,
   "metadata": {
    "collapsed": true
   },
   "outputs": [],
   "source": [
    "df_train_fin.reset_index(inplace=True)"
   ]
  },
  {
   "cell_type": "code",
   "execution_count": 68,
   "metadata": {
    "collapsed": true
   },
   "outputs": [],
   "source": [
    "df_train_fin.drop(['item_cnt_day'],inplace=True,axis=1)"
   ]
  },
  {
   "cell_type": "code",
   "execution_count": 69,
   "metadata": {
    "scrolled": true
   },
   "outputs": [
    {
     "data": {
      "text/html": [
       "<div>\n",
       "<style>\n",
       "    .dataframe thead tr:only-child th {\n",
       "        text-align: right;\n",
       "    }\n",
       "\n",
       "    .dataframe thead th {\n",
       "        text-align: left;\n",
       "    }\n",
       "\n",
       "    .dataframe tbody tr th {\n",
       "        vertical-align: top;\n",
       "    }\n",
       "</style>\n",
       "<table border=\"1\" class=\"dataframe\">\n",
       "  <thead>\n",
       "    <tr style=\"text-align: right;\">\n",
       "      <th></th>\n",
       "      <th>shop_id</th>\n",
       "      <th>item_id</th>\n",
       "      <th>date_block_num</th>\n",
       "      <th>item_price</th>\n",
       "      <th>item_cnt_month</th>\n",
       "      <th>shop_name</th>\n",
       "      <th>location_name</th>\n",
       "      <th>year2014</th>\n",
       "    </tr>\n",
       "  </thead>\n",
       "  <tbody>\n",
       "    <tr>\n",
       "      <th>0</th>\n",
       "      <td>0</td>\n",
       "      <td>30</td>\n",
       "      <td>1</td>\n",
       "      <td>265.00</td>\n",
       "      <td>31.00</td>\n",
       "      <td>Yakutsk Ordzhonikidze, 56 francs</td>\n",
       "      <td>Yakutsk</td>\n",
       "      <td>269601.00</td>\n",
       "    </tr>\n",
       "    <tr>\n",
       "      <th>1</th>\n",
       "      <td>0</td>\n",
       "      <td>31</td>\n",
       "      <td>1</td>\n",
       "      <td>434.00</td>\n",
       "      <td>11.00</td>\n",
       "      <td>Yakutsk Ordzhonikidze, 56 francs</td>\n",
       "      <td>Yakutsk</td>\n",
       "      <td>269601.00</td>\n",
       "    </tr>\n",
       "    <tr>\n",
       "      <th>2</th>\n",
       "      <td>0</td>\n",
       "      <td>32</td>\n",
       "      <td>0</td>\n",
       "      <td>221.00</td>\n",
       "      <td>6.00</td>\n",
       "      <td>Yakutsk Ordzhonikidze, 56 francs</td>\n",
       "      <td>Yakutsk</td>\n",
       "      <td>269601.00</td>\n",
       "    </tr>\n",
       "    <tr>\n",
       "      <th>3</th>\n",
       "      <td>0</td>\n",
       "      <td>32</td>\n",
       "      <td>1</td>\n",
       "      <td>221.00</td>\n",
       "      <td>10.00</td>\n",
       "      <td>Yakutsk Ordzhonikidze, 56 francs</td>\n",
       "      <td>Yakutsk</td>\n",
       "      <td>269601.00</td>\n",
       "    </tr>\n",
       "    <tr>\n",
       "      <th>4</th>\n",
       "      <td>0</td>\n",
       "      <td>33</td>\n",
       "      <td>0</td>\n",
       "      <td>347.00</td>\n",
       "      <td>3.00</td>\n",
       "      <td>Yakutsk Ordzhonikidze, 56 francs</td>\n",
       "      <td>Yakutsk</td>\n",
       "      <td>269601.00</td>\n",
       "    </tr>\n",
       "  </tbody>\n",
       "</table>\n",
       "</div>"
      ],
      "text/plain": [
       "   shop_id  item_id  date_block_num  item_price  item_cnt_month  \\\n",
       "0        0       30               1      265.00           31.00   \n",
       "1        0       31               1      434.00           11.00   \n",
       "2        0       32               0      221.00            6.00   \n",
       "3        0       32               1      221.00           10.00   \n",
       "4        0       33               0      347.00            3.00   \n",
       "\n",
       "                          shop_name location_name  year2014  \n",
       "0  Yakutsk Ordzhonikidze, 56 francs       Yakutsk 269601.00  \n",
       "1  Yakutsk Ordzhonikidze, 56 francs       Yakutsk 269601.00  \n",
       "2  Yakutsk Ordzhonikidze, 56 francs       Yakutsk 269601.00  \n",
       "3  Yakutsk Ordzhonikidze, 56 francs       Yakutsk 269601.00  \n",
       "4  Yakutsk Ordzhonikidze, 56 francs       Yakutsk 269601.00  "
      ]
     },
     "execution_count": 69,
     "metadata": {},
     "output_type": "execute_result"
    }
   ],
   "source": [
    "df_train_fin.head()"
   ]
  },
  {
   "cell_type": "code",
   "execution_count": 70,
   "metadata": {},
   "outputs": [
    {
     "data": {
      "text/plain": [
       "Index(['shop_id', 'item_id', 'date_block_num', 'item_price', 'item_cnt_month',\n",
       "       'shop_name', 'location_name', 'year2014'],\n",
       "      dtype='object')"
      ]
     },
     "execution_count": 70,
     "metadata": {},
     "output_type": "execute_result"
    }
   ],
   "source": [
    "df_train_fin.columns"
   ]
  },
  {
   "cell_type": "code",
   "execution_count": 71,
   "metadata": {
    "scrolled": true
   },
   "outputs": [
    {
     "data": {
      "text/html": [
       "<div>\n",
       "<style>\n",
       "    .dataframe thead tr:only-child th {\n",
       "        text-align: right;\n",
       "    }\n",
       "\n",
       "    .dataframe thead th {\n",
       "        text-align: left;\n",
       "    }\n",
       "\n",
       "    .dataframe tbody tr th {\n",
       "        vertical-align: top;\n",
       "    }\n",
       "</style>\n",
       "<table border=\"1\" class=\"dataframe\">\n",
       "  <thead>\n",
       "    <tr style=\"text-align: right;\">\n",
       "      <th></th>\n",
       "      <th>shop_id</th>\n",
       "      <th>item_id</th>\n",
       "      <th>date_block_num</th>\n",
       "      <th>location_name</th>\n",
       "      <th>shop_name</th>\n",
       "      <th>year2014</th>\n",
       "      <th>item_price</th>\n",
       "      <th>item_cnt_month</th>\n",
       "    </tr>\n",
       "  </thead>\n",
       "  <tbody>\n",
       "    <tr>\n",
       "      <th>0</th>\n",
       "      <td>0</td>\n",
       "      <td>30</td>\n",
       "      <td>1</td>\n",
       "      <td>Yakutsk</td>\n",
       "      <td>Yakutsk Ordzhonikidze, 56 francs</td>\n",
       "      <td>269601.00</td>\n",
       "      <td>265.00</td>\n",
       "      <td>31.00</td>\n",
       "    </tr>\n",
       "    <tr>\n",
       "      <th>1</th>\n",
       "      <td>0</td>\n",
       "      <td>31</td>\n",
       "      <td>1</td>\n",
       "      <td>Yakutsk</td>\n",
       "      <td>Yakutsk Ordzhonikidze, 56 francs</td>\n",
       "      <td>269601.00</td>\n",
       "      <td>434.00</td>\n",
       "      <td>11.00</td>\n",
       "    </tr>\n",
       "    <tr>\n",
       "      <th>2</th>\n",
       "      <td>0</td>\n",
       "      <td>32</td>\n",
       "      <td>0</td>\n",
       "      <td>Yakutsk</td>\n",
       "      <td>Yakutsk Ordzhonikidze, 56 francs</td>\n",
       "      <td>269601.00</td>\n",
       "      <td>221.00</td>\n",
       "      <td>6.00</td>\n",
       "    </tr>\n",
       "    <tr>\n",
       "      <th>3</th>\n",
       "      <td>0</td>\n",
       "      <td>32</td>\n",
       "      <td>1</td>\n",
       "      <td>Yakutsk</td>\n",
       "      <td>Yakutsk Ordzhonikidze, 56 francs</td>\n",
       "      <td>269601.00</td>\n",
       "      <td>221.00</td>\n",
       "      <td>10.00</td>\n",
       "    </tr>\n",
       "    <tr>\n",
       "      <th>4</th>\n",
       "      <td>0</td>\n",
       "      <td>33</td>\n",
       "      <td>0</td>\n",
       "      <td>Yakutsk</td>\n",
       "      <td>Yakutsk Ordzhonikidze, 56 francs</td>\n",
       "      <td>269601.00</td>\n",
       "      <td>347.00</td>\n",
       "      <td>3.00</td>\n",
       "    </tr>\n",
       "  </tbody>\n",
       "</table>\n",
       "</div>"
      ],
      "text/plain": [
       "   shop_id  item_id  date_block_num location_name  \\\n",
       "0        0       30               1       Yakutsk   \n",
       "1        0       31               1       Yakutsk   \n",
       "2        0       32               0       Yakutsk   \n",
       "3        0       32               1       Yakutsk   \n",
       "4        0       33               0       Yakutsk   \n",
       "\n",
       "                          shop_name  year2014  item_price  item_cnt_month  \n",
       "0  Yakutsk Ordzhonikidze, 56 francs 269601.00      265.00           31.00  \n",
       "1  Yakutsk Ordzhonikidze, 56 francs 269601.00      434.00           11.00  \n",
       "2  Yakutsk Ordzhonikidze, 56 francs 269601.00      221.00            6.00  \n",
       "3  Yakutsk Ordzhonikidze, 56 francs 269601.00      221.00           10.00  \n",
       "4  Yakutsk Ordzhonikidze, 56 francs 269601.00      347.00            3.00  "
      ]
     },
     "execution_count": 71,
     "metadata": {},
     "output_type": "execute_result"
    }
   ],
   "source": [
    "df_train_fin=pd.DataFrame(df_train_fin, columns=['shop_id', 'item_id', 'date_block_num', 'location_name','shop_name', 'year2014',\n",
    "       'item_price','item_cnt_month'])\n",
    "df_train_fin.head()"
   ]
  },
  {
   "cell_type": "code",
   "execution_count": 72,
   "metadata": {
    "collapsed": true
   },
   "outputs": [],
   "source": [
    "#shop_name과 shop_id는 동일한 성격들 지니기에 shop_name 드랍\n",
    "df_train_fin.drop(['shop_name'],axis=1,inplace=True)"
   ]
  },
  {
   "cell_type": "code",
   "execution_count": 73,
   "metadata": {},
   "outputs": [
    {
     "data": {
      "text/html": [
       "<div>\n",
       "<style>\n",
       "    .dataframe thead tr:only-child th {\n",
       "        text-align: right;\n",
       "    }\n",
       "\n",
       "    .dataframe thead th {\n",
       "        text-align: left;\n",
       "    }\n",
       "\n",
       "    .dataframe tbody tr th {\n",
       "        vertical-align: top;\n",
       "    }\n",
       "</style>\n",
       "<table border=\"1\" class=\"dataframe\">\n",
       "  <thead>\n",
       "    <tr style=\"text-align: right;\">\n",
       "      <th></th>\n",
       "      <th>shop_id</th>\n",
       "      <th>item_id</th>\n",
       "      <th>date_block_num</th>\n",
       "      <th>location_name</th>\n",
       "      <th>year2014</th>\n",
       "      <th>item_price</th>\n",
       "      <th>item_cnt_month</th>\n",
       "    </tr>\n",
       "  </thead>\n",
       "  <tbody>\n",
       "    <tr>\n",
       "      <th>0</th>\n",
       "      <td>0</td>\n",
       "      <td>30</td>\n",
       "      <td>1</td>\n",
       "      <td>Yakutsk</td>\n",
       "      <td>269601.00</td>\n",
       "      <td>265.00</td>\n",
       "      <td>31.00</td>\n",
       "    </tr>\n",
       "    <tr>\n",
       "      <th>1</th>\n",
       "      <td>0</td>\n",
       "      <td>31</td>\n",
       "      <td>1</td>\n",
       "      <td>Yakutsk</td>\n",
       "      <td>269601.00</td>\n",
       "      <td>434.00</td>\n",
       "      <td>11.00</td>\n",
       "    </tr>\n",
       "    <tr>\n",
       "      <th>2</th>\n",
       "      <td>0</td>\n",
       "      <td>32</td>\n",
       "      <td>0</td>\n",
       "      <td>Yakutsk</td>\n",
       "      <td>269601.00</td>\n",
       "      <td>221.00</td>\n",
       "      <td>6.00</td>\n",
       "    </tr>\n",
       "    <tr>\n",
       "      <th>3</th>\n",
       "      <td>0</td>\n",
       "      <td>32</td>\n",
       "      <td>1</td>\n",
       "      <td>Yakutsk</td>\n",
       "      <td>269601.00</td>\n",
       "      <td>221.00</td>\n",
       "      <td>10.00</td>\n",
       "    </tr>\n",
       "    <tr>\n",
       "      <th>4</th>\n",
       "      <td>0</td>\n",
       "      <td>33</td>\n",
       "      <td>0</td>\n",
       "      <td>Yakutsk</td>\n",
       "      <td>269601.00</td>\n",
       "      <td>347.00</td>\n",
       "      <td>3.00</td>\n",
       "    </tr>\n",
       "  </tbody>\n",
       "</table>\n",
       "</div>"
      ],
      "text/plain": [
       "   shop_id  item_id  date_block_num location_name  year2014  item_price  \\\n",
       "0        0       30               1       Yakutsk 269601.00      265.00   \n",
       "1        0       31               1       Yakutsk 269601.00      434.00   \n",
       "2        0       32               0       Yakutsk 269601.00      221.00   \n",
       "3        0       32               1       Yakutsk 269601.00      221.00   \n",
       "4        0       33               0       Yakutsk 269601.00      347.00   \n",
       "\n",
       "   item_cnt_month  \n",
       "0           31.00  \n",
       "1           11.00  \n",
       "2            6.00  \n",
       "3           10.00  \n",
       "4            3.00  "
      ]
     },
     "execution_count": 73,
     "metadata": {},
     "output_type": "execute_result"
    }
   ],
   "source": [
    "df_train_fin.head()"
   ]
  },
  {
   "cell_type": "code",
   "execution_count": 74,
   "metadata": {},
   "outputs": [
    {
     "data": {
      "text/plain": [
       "array([[0, 30, 1, 'Yakutsk', 269601.0, 265.0, 31.0],\n",
       "       [0, 31, 1, 'Yakutsk', 269601.0, 434.0, 11.0],\n",
       "       [0, 32, 0, 'Yakutsk', 269601.0, 221.0, 6.0],\n",
       "       [0, 32, 1, 'Yakutsk', 269601.0, 221.0, 10.0],\n",
       "       [0, 33, 0, 'Yakutsk', 269601.0, 347.0, 3.0]], dtype=object)"
      ]
     },
     "execution_count": 74,
     "metadata": {},
     "output_type": "execute_result"
    }
   ],
   "source": [
    "train_data = df_train_fin.as_matrix()\n",
    "train_data[:5]"
   ]
  },
  {
   "cell_type": "code",
   "execution_count": 75,
   "metadata": {
    "scrolled": false
   },
   "outputs": [
    {
     "data": {
      "text/html": [
       "<div>\n",
       "<style>\n",
       "    .dataframe thead tr:only-child th {\n",
       "        text-align: right;\n",
       "    }\n",
       "\n",
       "    .dataframe thead th {\n",
       "        text-align: left;\n",
       "    }\n",
       "\n",
       "    .dataframe tbody tr th {\n",
       "        vertical-align: top;\n",
       "    }\n",
       "</style>\n",
       "<table border=\"1\" class=\"dataframe\">\n",
       "  <thead>\n",
       "    <tr style=\"text-align: right;\">\n",
       "      <th></th>\n",
       "      <th>shop_id</th>\n",
       "      <th>item_id</th>\n",
       "      <th>date_block_num</th>\n",
       "      <th>year2014</th>\n",
       "      <th>item_price</th>\n",
       "      <th>item_cnt_month</th>\n",
       "    </tr>\n",
       "  </thead>\n",
       "  <tbody>\n",
       "    <tr>\n",
       "      <th>shop_id</th>\n",
       "      <td>1.00</td>\n",
       "      <td>0.02</td>\n",
       "      <td>0.02</td>\n",
       "      <td>-0.24</td>\n",
       "      <td>-0.02</td>\n",
       "      <td>0.00</td>\n",
       "    </tr>\n",
       "    <tr>\n",
       "      <th>item_id</th>\n",
       "      <td>0.02</td>\n",
       "      <td>1.00</td>\n",
       "      <td>-0.01</td>\n",
       "      <td>0.02</td>\n",
       "      <td>-0.12</td>\n",
       "      <td>-0.01</td>\n",
       "    </tr>\n",
       "    <tr>\n",
       "      <th>date_block_num</th>\n",
       "      <td>0.02</td>\n",
       "      <td>-0.01</td>\n",
       "      <td>1.00</td>\n",
       "      <td>-0.01</td>\n",
       "      <td>0.09</td>\n",
       "      <td>0.00</td>\n",
       "    </tr>\n",
       "    <tr>\n",
       "      <th>year2014</th>\n",
       "      <td>-0.24</td>\n",
       "      <td>0.02</td>\n",
       "      <td>-0.01</td>\n",
       "      <td>1.00</td>\n",
       "      <td>-0.01</td>\n",
       "      <td>0.03</td>\n",
       "    </tr>\n",
       "    <tr>\n",
       "      <th>item_price</th>\n",
       "      <td>-0.02</td>\n",
       "      <td>-0.12</td>\n",
       "      <td>0.09</td>\n",
       "      <td>-0.01</td>\n",
       "      <td>1.00</td>\n",
       "      <td>0.02</td>\n",
       "    </tr>\n",
       "    <tr>\n",
       "      <th>item_cnt_month</th>\n",
       "      <td>0.00</td>\n",
       "      <td>-0.01</td>\n",
       "      <td>0.00</td>\n",
       "      <td>0.03</td>\n",
       "      <td>0.02</td>\n",
       "      <td>1.00</td>\n",
       "    </tr>\n",
       "  </tbody>\n",
       "</table>\n",
       "</div>"
      ],
      "text/plain": [
       "                shop_id  item_id  date_block_num  year2014  item_price  \\\n",
       "shop_id            1.00     0.02            0.02     -0.24       -0.02   \n",
       "item_id            0.02     1.00           -0.01      0.02       -0.12   \n",
       "date_block_num     0.02    -0.01            1.00     -0.01        0.09   \n",
       "year2014          -0.24     0.02           -0.01      1.00       -0.01   \n",
       "item_price        -0.02    -0.12            0.09     -0.01        1.00   \n",
       "item_cnt_month     0.00    -0.01            0.00      0.03        0.02   \n",
       "\n",
       "                item_cnt_month  \n",
       "shop_id                   0.00  \n",
       "item_id                  -0.01  \n",
       "date_block_num            0.00  \n",
       "year2014                  0.03  \n",
       "item_price                0.02  \n",
       "item_cnt_month            1.00  "
      ]
     },
     "execution_count": 75,
     "metadata": {},
     "output_type": "execute_result"
    }
   ],
   "source": [
    "df_train_fin.corr()"
   ]
  },
  {
   "cell_type": "markdown",
   "metadata": {},
   "source": [
    "### Sckit Learn- Label Encoding"
   ]
  },
  {
   "cell_type": "code",
   "execution_count": 76,
   "metadata": {
    "collapsed": true
   },
   "outputs": [],
   "source": [
    "from sklearn import preprocessing"
   ]
  },
  {
   "cell_type": "code",
   "execution_count": 77,
   "metadata": {
    "collapsed": true
   },
   "outputs": [],
   "source": [
    "def label_encoding(data, columns):\n",
    "    label_encoder_list=[]\n",
    "    for column_index in columns:\n",
    "        le = preprocessing.LabelEncoder()\n",
    "        le.fit(data[:,column_index])\n",
    "        \n",
    "        data[:,column_index]=le.transform(data[:,column_index])\n",
    "        label_encoder_list.append(le)\n",
    "        \n",
    "        del le\n",
    "        \n",
    "    \n",
    "    return label_encoder_list, data\n",
    "        \n",
    "    \n",
    "    "
   ]
  },
  {
   "cell_type": "code",
   "execution_count": 78,
   "metadata": {
    "collapsed": true
   },
   "outputs": [],
   "source": [
    "label_column = [0,1,2,3] # shop_id, item_id, date_block_num, location_name\n",
    "\n",
    "label_encoder_list,labeling_data = label_encoding(train_data,label_column)"
   ]
  },
  {
   "cell_type": "code",
   "execution_count": 79,
   "metadata": {},
   "outputs": [
    {
     "data": {
      "text/plain": [
       "array([[0, 30, 1, 28, 269601.0, 265.0, 31.0],\n",
       "       [0, 31, 1, 28, 269601.0, 434.0, 11.0],\n",
       "       [0, 32, 0, 28, 269601.0, 221.0, 6.0],\n",
       "       [0, 32, 1, 28, 269601.0, 221.0, 10.0],\n",
       "       [0, 33, 0, 28, 269601.0, 347.0, 3.0],\n",
       "       [0, 33, 1, 28, 269601.0, 347.0, 3.0],\n",
       "       [0, 35, 0, 28, 269601.0, 247.0, 1.0],\n",
       "       [0, 35, 1, 28, 269601.0, 247.0, 14.0],\n",
       "       [0, 36, 1, 28, 269601.0, 357.0, 1.0],\n",
       "       [0, 40, 1, 28, 269601.0, 127.0, 1.0]], dtype=object)"
      ]
     },
     "execution_count": 79,
     "metadata": {},
     "output_type": "execute_result"
    }
   ],
   "source": [
    "labeling_data[:10]"
   ]
  },
  {
   "cell_type": "code",
   "execution_count": 80,
   "metadata": {},
   "outputs": [
    {
     "data": {
      "text/plain": [
       "[LabelEncoder(), LabelEncoder(), LabelEncoder(), LabelEncoder()]"
      ]
     },
     "execution_count": 80,
     "metadata": {},
     "output_type": "execute_result"
    }
   ],
   "source": [
    "label_encoder_list"
   ]
  },
  {
   "cell_type": "markdown",
   "metadata": {},
   "source": [
    "### Numeric type - > One hot encoding\n",
    "*  <1609124x21932 sparse matrix of type '<class 'numpy.float64'>'\n",
    "\twith 6436496 stored elements in Compressed Sparse Row format>\n",
    "* Memorry Error 발생\n",
    "\n",
    "\n",
    "* scipy의 csr_matrix 모듈 호출 필요(Sparse한 매트릭스 처리)"
   ]
  },
  {
   "cell_type": "code",
   "execution_count": 81,
   "metadata": {},
   "outputs": [
    {
     "data": {
      "text/plain": [
       "OneHotEncoder(categorical_features='all', dtype=<class 'numpy.float64'>,\n",
       "       handle_unknown='error', n_values='auto', sparse=True)"
      ]
     },
     "execution_count": 81,
     "metadata": {},
     "output_type": "execute_result"
    }
   ],
   "source": [
    "one_hot_enc = preprocessing.OneHotEncoder()\n",
    "one_hot_enc.fit(labeling_data[:,:4])"
   ]
  },
  {
   "cell_type": "code",
   "execution_count": 82,
   "metadata": {},
   "outputs": [
    {
     "data": {
      "text/plain": [
       "(array([   60, 21807,    34,    31]),\n",
       " array([    0,    60, 21867, 21901, 21932], dtype=int32),\n",
       " array([    0,     1,     2, ..., 21929, 21930, 21931], dtype=int64))"
      ]
     },
     "execution_count": 82,
     "metadata": {},
     "output_type": "execute_result"
    }
   ],
   "source": [
    "one_hot_enc.n_values_ , one_hot_enc.feature_indices_, one_hot_enc.active_features_\n",
    "#"
   ]
  },
  {
   "cell_type": "code",
   "execution_count": 88,
   "metadata": {},
   "outputs": [],
   "source": [
    "one_hot_labeling_data = one_hot_enc.transform(labeling_data[:,:4])"
   ]
  },
  {
   "cell_type": "code",
   "execution_count": 93,
   "metadata": {},
   "outputs": [
    {
     "ename": "MemoryError",
     "evalue": "",
     "output_type": "error",
     "traceback": [
      "\u001b[1;31m---------------------------------------------------------------------------\u001b[0m",
      "\u001b[1;31mMemoryError\u001b[0m                               Traceback (most recent call last)",
      "\u001b[1;32m<ipython-input-93-5cdf9a8c975b>\u001b[0m in \u001b[0;36m<module>\u001b[1;34m()\u001b[0m\n\u001b[1;32m----> 1\u001b[1;33m \u001b[0mone_hot_labeling_data\u001b[0m\u001b[1;33m.\u001b[0m\u001b[0mtoarray\u001b[0m\u001b[1;33m(\u001b[0m\u001b[1;33m)\u001b[0m\u001b[1;33m\u001b[0m\u001b[0m\n\u001b[0m",
      "\u001b[1;32mc:\\users\\cch88\\miniconda3\\envs\\ml_python\\lib\\site-packages\\scipy\\sparse\\compressed.py\u001b[0m in \u001b[0;36mtoarray\u001b[1;34m(self, order, out)\u001b[0m\n\u001b[0;32m    962\u001b[0m     \u001b[1;32mdef\u001b[0m \u001b[0mtoarray\u001b[0m\u001b[1;33m(\u001b[0m\u001b[0mself\u001b[0m\u001b[1;33m,\u001b[0m \u001b[0morder\u001b[0m\u001b[1;33m=\u001b[0m\u001b[1;32mNone\u001b[0m\u001b[1;33m,\u001b[0m \u001b[0mout\u001b[0m\u001b[1;33m=\u001b[0m\u001b[1;32mNone\u001b[0m\u001b[1;33m)\u001b[0m\u001b[1;33m:\u001b[0m\u001b[1;33m\u001b[0m\u001b[0m\n\u001b[0;32m    963\u001b[0m         \u001b[1;34m\"\"\"See the docstring for `spmatrix.toarray`.\"\"\"\u001b[0m\u001b[1;33m\u001b[0m\u001b[0m\n\u001b[1;32m--> 964\u001b[1;33m         \u001b[1;32mreturn\u001b[0m \u001b[0mself\u001b[0m\u001b[1;33m.\u001b[0m\u001b[0mtocoo\u001b[0m\u001b[1;33m(\u001b[0m\u001b[0mcopy\u001b[0m\u001b[1;33m=\u001b[0m\u001b[1;32mFalse\u001b[0m\u001b[1;33m)\u001b[0m\u001b[1;33m.\u001b[0m\u001b[0mtoarray\u001b[0m\u001b[1;33m(\u001b[0m\u001b[0morder\u001b[0m\u001b[1;33m=\u001b[0m\u001b[0morder\u001b[0m\u001b[1;33m,\u001b[0m \u001b[0mout\u001b[0m\u001b[1;33m=\u001b[0m\u001b[0mout\u001b[0m\u001b[1;33m)\u001b[0m\u001b[1;33m\u001b[0m\u001b[0m\n\u001b[0m\u001b[0;32m    965\u001b[0m \u001b[1;33m\u001b[0m\u001b[0m\n\u001b[0;32m    966\u001b[0m     \u001b[1;31m##############################################################\u001b[0m\u001b[1;33m\u001b[0m\u001b[1;33m\u001b[0m\u001b[0m\n",
      "\u001b[1;32mc:\\users\\cch88\\miniconda3\\envs\\ml_python\\lib\\site-packages\\scipy\\sparse\\coo.py\u001b[0m in \u001b[0;36mtoarray\u001b[1;34m(self, order, out)\u001b[0m\n\u001b[0;32m    250\u001b[0m     \u001b[1;32mdef\u001b[0m \u001b[0mtoarray\u001b[0m\u001b[1;33m(\u001b[0m\u001b[0mself\u001b[0m\u001b[1;33m,\u001b[0m \u001b[0morder\u001b[0m\u001b[1;33m=\u001b[0m\u001b[1;32mNone\u001b[0m\u001b[1;33m,\u001b[0m \u001b[0mout\u001b[0m\u001b[1;33m=\u001b[0m\u001b[1;32mNone\u001b[0m\u001b[1;33m)\u001b[0m\u001b[1;33m:\u001b[0m\u001b[1;33m\u001b[0m\u001b[0m\n\u001b[0;32m    251\u001b[0m         \u001b[1;34m\"\"\"See the docstring for `spmatrix.toarray`.\"\"\"\u001b[0m\u001b[1;33m\u001b[0m\u001b[0m\n\u001b[1;32m--> 252\u001b[1;33m         \u001b[0mB\u001b[0m \u001b[1;33m=\u001b[0m \u001b[0mself\u001b[0m\u001b[1;33m.\u001b[0m\u001b[0m_process_toarray_args\u001b[0m\u001b[1;33m(\u001b[0m\u001b[0morder\u001b[0m\u001b[1;33m,\u001b[0m \u001b[0mout\u001b[0m\u001b[1;33m)\u001b[0m\u001b[1;33m\u001b[0m\u001b[0m\n\u001b[0m\u001b[0;32m    253\u001b[0m         \u001b[0mfortran\u001b[0m \u001b[1;33m=\u001b[0m \u001b[0mint\u001b[0m\u001b[1;33m(\u001b[0m\u001b[0mB\u001b[0m\u001b[1;33m.\u001b[0m\u001b[0mflags\u001b[0m\u001b[1;33m.\u001b[0m\u001b[0mf_contiguous\u001b[0m\u001b[1;33m)\u001b[0m\u001b[1;33m\u001b[0m\u001b[0m\n\u001b[0;32m    254\u001b[0m         \u001b[1;32mif\u001b[0m \u001b[1;32mnot\u001b[0m \u001b[0mfortran\u001b[0m \u001b[1;32mand\u001b[0m \u001b[1;32mnot\u001b[0m \u001b[0mB\u001b[0m\u001b[1;33m.\u001b[0m\u001b[0mflags\u001b[0m\u001b[1;33m.\u001b[0m\u001b[0mc_contiguous\u001b[0m\u001b[1;33m:\u001b[0m\u001b[1;33m\u001b[0m\u001b[0m\n",
      "\u001b[1;32mc:\\users\\cch88\\miniconda3\\envs\\ml_python\\lib\\site-packages\\scipy\\sparse\\base.py\u001b[0m in \u001b[0;36m_process_toarray_args\u001b[1;34m(self, order, out)\u001b[0m\n\u001b[0;32m   1037\u001b[0m             \u001b[1;32mreturn\u001b[0m \u001b[0mout\u001b[0m\u001b[1;33m\u001b[0m\u001b[0m\n\u001b[0;32m   1038\u001b[0m         \u001b[1;32melse\u001b[0m\u001b[1;33m:\u001b[0m\u001b[1;33m\u001b[0m\u001b[0m\n\u001b[1;32m-> 1039\u001b[1;33m             \u001b[1;32mreturn\u001b[0m \u001b[0mnp\u001b[0m\u001b[1;33m.\u001b[0m\u001b[0mzeros\u001b[0m\u001b[1;33m(\u001b[0m\u001b[0mself\u001b[0m\u001b[1;33m.\u001b[0m\u001b[0mshape\u001b[0m\u001b[1;33m,\u001b[0m \u001b[0mdtype\u001b[0m\u001b[1;33m=\u001b[0m\u001b[0mself\u001b[0m\u001b[1;33m.\u001b[0m\u001b[0mdtype\u001b[0m\u001b[1;33m,\u001b[0m \u001b[0morder\u001b[0m\u001b[1;33m=\u001b[0m\u001b[0morder\u001b[0m\u001b[1;33m)\u001b[0m\u001b[1;33m\u001b[0m\u001b[0m\n\u001b[0m\u001b[0;32m   1040\u001b[0m \u001b[1;33m\u001b[0m\u001b[0m\n\u001b[0;32m   1041\u001b[0m     \u001b[1;32mdef\u001b[0m \u001b[0m__numpy_ufunc__\u001b[0m\u001b[1;33m(\u001b[0m\u001b[0mself\u001b[0m\u001b[1;33m,\u001b[0m \u001b[0mfunc\u001b[0m\u001b[1;33m,\u001b[0m \u001b[0mmethod\u001b[0m\u001b[1;33m,\u001b[0m \u001b[0mpos\u001b[0m\u001b[1;33m,\u001b[0m \u001b[0minputs\u001b[0m\u001b[1;33m,\u001b[0m \u001b[1;33m**\u001b[0m\u001b[0mkwargs\u001b[0m\u001b[1;33m)\u001b[0m\u001b[1;33m:\u001b[0m\u001b[1;33m\u001b[0m\u001b[0m\n",
      "\u001b[1;31mMemoryError\u001b[0m: "
     ]
    }
   ],
   "source": [
    "one_hot_labeling_data.toarray()"
   ]
  },
  {
   "cell_type": "code",
   "execution_count": 94,
   "metadata": {},
   "outputs": [
    {
     "data": {
      "text/plain": [
       "scipy.sparse.csr.csr_matrix"
      ]
     },
     "execution_count": 94,
     "metadata": {},
     "output_type": "execute_result"
    }
   ],
   "source": [
    "type(one_hot_labeling_data)"
   ]
  },
  {
   "cell_type": "markdown",
   "metadata": {},
   "source": [
    "* csr_matrix(shop_id, item_id, date_block_num,location)와  \n",
    "피쳐스케일링한 넘파이 어레이(year2014, item_price)     \n",
    "hstack"
   ]
  },
  {
   "cell_type": "markdown",
   "metadata": {},
   "source": [
    "### Feature scaling\n",
    "\n",
    "* \n",
    "* Min-Max의 값을 알 수 있기에 Min-Max 적용"
   ]
  },
  {
   "cell_type": "code",
   "execution_count": 95,
   "metadata": {},
   "outputs": [
    {
     "data": {
      "text/plain": [
       "array([[269601.0, 265.0, 31.0],\n",
       "       [269601.0, 434.0, 11.0],\n",
       "       [269601.0, 221.0, 6.0],\n",
       "       ..., \n",
       "       [1271766.0, 299.0, 1.0],\n",
       "       [1271766.0, 299.0, 2.0],\n",
       "       [1271766.0, 299.0, 1.0]], dtype=object)"
      ]
     },
     "execution_count": 95,
     "metadata": {},
     "output_type": "execute_result"
    }
   ],
   "source": [
    "labeling_data[:,4:]"
   ]
  },
  {
   "cell_type": "code",
   "execution_count": 96,
   "metadata": {},
   "outputs": [
    {
     "name": "stderr",
     "output_type": "stream",
     "text": [
      "c:\\users\\cch88\\miniconda3\\envs\\ml_python\\lib\\site-packages\\sklearn\\utils\\validation.py:429: DataConversionWarning: Data with input dtype object was converted to float64 by MinMaxScaler.\n",
      "  warnings.warn(msg, _DataConversionWarning)\n"
     ]
    },
    {
     "data": {
      "text/plain": [
       "array([[ 0.01733807,  0.00086015],\n",
       "       [ 0.01733807,  0.00140889],\n",
       "       [ 0.01733807,  0.00071729],\n",
       "       [ 0.01733807,  0.00071729],\n",
       "       [ 0.01733807,  0.0011264 ]])"
      ]
     },
     "execution_count": 96,
     "metadata": {},
     "output_type": "execute_result"
    }
   ],
   "source": [
    "minmax_scale = preprocessing.MinMaxScaler().fit(labeling_data[:,4:6])\n",
    "minmax_data = minmax_scale.transform(labeling_data[:,4:6])\n",
    "\n",
    "minmax_data[:5]"
   ]
  },
  {
   "cell_type": "code",
   "execution_count": 97,
   "metadata": {
    "collapsed": true
   },
   "outputs": [],
   "source": [
    "from scipy.sparse import csr_matrix"
   ]
  },
  {
   "cell_type": "code",
   "execution_count": 98,
   "metadata": {},
   "outputs": [
    {
     "name": "stdout",
     "output_type": "stream",
     "text": [
      "(1609124, 2) (1609124, 1)\n"
     ]
    }
   ],
   "source": [
    "print(minmax_data.shape,  labeling_data[:,-1].reshape(-1,1).shape )"
   ]
  },
  {
   "cell_type": "code",
   "execution_count": 110,
   "metadata": {},
   "outputs": [
    {
     "data": {
      "text/plain": [
       "array([[  1.73380673e-02,   8.60153523e-04,   3.10000000e+01],\n",
       "       [  1.73380673e-02,   1.40889059e-03,   1.10000000e+01],\n",
       "       [  1.73380673e-02,   7.17287068e-04,   6.00000000e+00],\n",
       "       ..., \n",
       "       [  1.00522287e-01,   9.70550347e-04,   1.00000000e+00],\n",
       "       [  1.00522287e-01,   9.70550347e-04,   2.00000000e+00],\n",
       "       [  1.00522287e-01,   9.70550347e-04,   1.00000000e+00]], dtype=float32)"
      ]
     },
     "execution_count": 110,
     "metadata": {},
     "output_type": "execute_result"
    }
   ],
   "source": [
    "non_csr_data = np.concatenate((minmax_data, labeling_data[:,-1].reshape(-1,1)),\n",
    "                              axis=1).astype('float32')\n",
    "non_csr_data"
   ]
  },
  {
   "cell_type": "code",
   "execution_count": 111,
   "metadata": {
    "collapsed": true
   },
   "outputs": [],
   "source": [
    "import scipy.sparse as sp"
   ]
  },
  {
   "cell_type": "code",
   "execution_count": 112,
   "metadata": {
    "collapsed": true
   },
   "outputs": [],
   "source": [
    "csr_mat = csr_matrix((1609124, 3), dtype=np.float32)"
   ]
  },
  {
   "cell_type": "code",
   "execution_count": 113,
   "metadata": {},
   "outputs": [
    {
     "data": {
      "text/plain": [
       "array([[ 0.,  0.,  0.],\n",
       "       [ 0.,  0.,  0.],\n",
       "       [ 0.,  0.,  0.],\n",
       "       ..., \n",
       "       [ 0.,  0.,  0.],\n",
       "       [ 0.,  0.,  0.],\n",
       "       [ 0.,  0.,  0.]], dtype=float32)"
      ]
     },
     "execution_count": 113,
     "metadata": {},
     "output_type": "execute_result"
    }
   ],
   "source": [
    "csr_mat.toarray()"
   ]
  },
  {
   "cell_type": "code",
   "execution_count": 114,
   "metadata": {},
   "outputs": [
    {
     "data": {
      "text/plain": [
       "array([  1.73380673e-02,   8.60153523e-04,   3.10000000e+01, ...,\n",
       "         1.00522287e-01,   9.70550347e-04,   1.00000000e+00], dtype=float32)"
      ]
     },
     "execution_count": 114,
     "metadata": {},
     "output_type": "execute_result"
    }
   ],
   "source": [
    "non_csr_data.flatten()"
   ]
  },
  {
   "cell_type": "code",
   "execution_count": 116,
   "metadata": {},
   "outputs": [],
   "source": [
    "csr_data_float =  sp.csr_matrix(non_csr_data) # CSR_data 생성해야함"
   ]
  },
  {
   "cell_type": "code",
   "execution_count": 120,
   "metadata": {},
   "outputs": [
    {
     "data": {
      "text/plain": [
       "<1609124x21935 sparse matrix of type '<class 'numpy.float64'>'\n",
       "\twith 11217407 stored elements in Compressed Sparse Row format>"
      ]
     },
     "execution_count": 120,
     "metadata": {},
     "output_type": "execute_result"
    }
   ],
   "source": [
    "fin_data =  sp.hstack((one_hot_labeling_data,non_csr_data),format='csr')\n",
    "fin_data"
   ]
  },
  {
   "cell_type": "code",
   "execution_count": 127,
   "metadata": {
    "scrolled": true
   },
   "outputs": [
    {
     "data": {
      "text/plain": [
       "array([[ 31.],\n",
       "       [ 11.],\n",
       "       [  6.],\n",
       "       ..., \n",
       "       [  1.],\n",
       "       [  2.],\n",
       "       [  1.]])"
      ]
     },
     "execution_count": 127,
     "metadata": {},
     "output_type": "execute_result"
    }
   ],
   "source": [
    "fin_data[:,-1].A"
   ]
  },
  {
   "cell_type": "markdown",
   "metadata": {},
   "source": [
    "## 모델 학습(Linear Regression)\n"
   ]
  },
  {
   "cell_type": "code",
   "execution_count": 130,
   "metadata": {},
   "outputs": [],
   "source": [
    "x_train = fin_data[:,:-1]\n",
    "y_train = fin_data[:,-1]"
   ]
  },
  {
   "cell_type": "code",
   "execution_count": 135,
   "metadata": {},
   "outputs": [
    {
     "name": "stdout",
     "output_type": "stream",
     "text": [
      "(1609124, 21934) (1609124, 1)\n"
     ]
    }
   ],
   "source": [
    "print(x_train.shape,  \n",
    "      y_train.shape)"
   ]
  },
  {
   "cell_type": "code",
   "execution_count": 141,
   "metadata": {},
   "outputs": [
    {
     "data": {
      "text/plain": [
       "<1609124x1 sparse matrix of type '<class 'numpy.float64'>'\n",
       "\twith 1606541 stored elements in Compressed Sparse Row format>"
      ]
     },
     "execution_count": 141,
     "metadata": {},
     "output_type": "execute_result"
    }
   ],
   "source": [
    "y_train"
   ]
  },
  {
   "cell_type": "code",
   "execution_count": 131,
   "metadata": {
    "collapsed": true
   },
   "outputs": [],
   "source": [
    "from sklearn.linear_model import LinearRegression"
   ]
  },
  {
   "cell_type": "code",
   "execution_count": 151,
   "metadata": {},
   "outputs": [
    {
     "data": {
      "text/plain": [
       "LinearRegression(copy_X=True, fit_intercept=True, n_jobs=1, normalize=False)"
      ]
     },
     "execution_count": 151,
     "metadata": {},
     "output_type": "execute_result"
    }
   ],
   "source": [
    "slr = LinearRegression()\n",
    "slr.fit(x_train,y_train.A) #LinearRegression(copy_X=True, fit_intercept=True, n_jobs=1, normalize=False)"
   ]
  },
  {
   "cell_type": "code",
   "execution_count": 156,
   "metadata": {},
   "outputs": [
    {
     "name": "stdout",
     "output_type": "stream",
     "text": [
      "===================================\n",
      "Intercept: 2.267\n"
     ]
    }
   ],
   "source": [
    "# 모델 계수 추정\n",
    "# print('Slope: %.3f' % slr.coef_)\n",
    "print('===================================')\n",
    "print('Intercept: %.3f' % slr.intercept_)"
   ]
  },
  {
   "cell_type": "code",
   "execution_count": null,
   "metadata": {
    "collapsed": true
   },
   "outputs": [],
   "source": []
  }
 ],
 "metadata": {
  "kernelspec": {
   "display_name": "Python 3",
   "language": "python",
   "name": "python3"
  },
  "language_info": {
   "codemirror_mode": {
    "name": "ipython",
    "version": 3
   },
   "file_extension": ".py",
   "mimetype": "text/x-python",
   "name": "python",
   "nbconvert_exporter": "python",
   "pygments_lexer": "ipython3",
   "version": "3.5.0"
  }
 },
 "nbformat": 4,
 "nbformat_minor": 2
}
